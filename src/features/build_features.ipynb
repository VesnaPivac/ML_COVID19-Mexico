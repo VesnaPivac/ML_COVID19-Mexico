{
 "cells": [
  {
   "cell_type": "markdown",
   "metadata": {},
   "source": [
    "# Preprocesamiento del datasets COVID"
   ]
  },
  {
   "cell_type": "code",
   "execution_count": 1,
   "metadata": {
    "id": "bCkjcehSn_rj",
    "tags": []
   },
   "outputs": [],
   "source": [
    "# Importamos librerías a utilizar\n",
    "import pandas as pd\n",
    "import numpy as np\n",
    "import warnings\n",
    "from sklearn.ensemble import IsolationForest\n",
    "from sklearn.neighbors import LocalOutlierFactor\n",
    "import os\n",
    "import seaborn as sns\n",
    "import matplotlib.pyplot as plt\n",
    "import requests\n",
    "import zipfile\n",
    "import io\n",
    "from openpyxl import load_workbook, Workbook"
   ]
  },
  {
   "cell_type": "code",
   "execution_count": 2,
   "metadata": {
    "tags": []
   },
   "outputs": [],
   "source": [
    "# Para que no se desplieguen las advertencias\n",
    "warnings.filterwarnings(\"ignore\")"
   ]
  },
  {
   "cell_type": "markdown",
   "metadata": {},
   "source": [
    "## Inspección de los datos"
   ]
  },
  {
   "cell_type": "markdown",
   "metadata": {},
   "source": [
    "### Cargar datos"
   ]
  },
  {
   "cell_type": "code",
   "execution_count": 3,
   "metadata": {},
   "outputs": [
    {
     "data": {
      "text/html": [
       "<div>\n",
       "<style scoped>\n",
       "    .dataframe tbody tr th:only-of-type {\n",
       "        vertical-align: middle;\n",
       "    }\n",
       "\n",
       "    .dataframe tbody tr th {\n",
       "        vertical-align: top;\n",
       "    }\n",
       "\n",
       "    .dataframe thead th {\n",
       "        text-align: right;\n",
       "    }\n",
       "</style>\n",
       "<table border=\"1\" class=\"dataframe\">\n",
       "  <thead>\n",
       "    <tr style=\"text-align: right;\">\n",
       "      <th></th>\n",
       "      <th>FECHA_ACTUALIZACION</th>\n",
       "      <th>ID_REGISTRO</th>\n",
       "      <th>ORIGEN</th>\n",
       "      <th>SECTOR</th>\n",
       "      <th>ENTIDAD_UM</th>\n",
       "      <th>SEXO</th>\n",
       "      <th>ENTIDAD_NAC</th>\n",
       "      <th>ENTIDAD_RES</th>\n",
       "      <th>MUNICIPIO_RES</th>\n",
       "      <th>TIPO_PACIENTE</th>\n",
       "      <th>...</th>\n",
       "      <th>OTRO_CASO</th>\n",
       "      <th>TOMA_MUESTRA_LAB</th>\n",
       "      <th>RESULTADO_LAB</th>\n",
       "      <th>TOMA_MUESTRA_ANTIGENO</th>\n",
       "      <th>RESULTADO_ANTIGENO</th>\n",
       "      <th>CLASIFICACION_FINAL</th>\n",
       "      <th>MIGRANTE</th>\n",
       "      <th>PAIS_NACIONALIDAD</th>\n",
       "      <th>PAIS_ORIGEN</th>\n",
       "      <th>UCI</th>\n",
       "    </tr>\n",
       "  </thead>\n",
       "  <tbody>\n",
       "    <tr>\n",
       "      <th>0</th>\n",
       "      <td>2024-04-23</td>\n",
       "      <td>c9a5ed</td>\n",
       "      <td>2</td>\n",
       "      <td>12</td>\n",
       "      <td>9</td>\n",
       "      <td>2</td>\n",
       "      <td>9</td>\n",
       "      <td>9</td>\n",
       "      <td>9</td>\n",
       "      <td>1</td>\n",
       "      <td>...</td>\n",
       "      <td>2</td>\n",
       "      <td>2</td>\n",
       "      <td>97</td>\n",
       "      <td>1</td>\n",
       "      <td>2</td>\n",
       "      <td>7</td>\n",
       "      <td>99</td>\n",
       "      <td>México</td>\n",
       "      <td>97</td>\n",
       "      <td>97</td>\n",
       "    </tr>\n",
       "    <tr>\n",
       "      <th>1</th>\n",
       "      <td>2024-04-23</td>\n",
       "      <td>cbecc9</td>\n",
       "      <td>2</td>\n",
       "      <td>6</td>\n",
       "      <td>5</td>\n",
       "      <td>1</td>\n",
       "      <td>5</td>\n",
       "      <td>5</td>\n",
       "      <td>28</td>\n",
       "      <td>1</td>\n",
       "      <td>...</td>\n",
       "      <td>2</td>\n",
       "      <td>2</td>\n",
       "      <td>97</td>\n",
       "      <td>1</td>\n",
       "      <td>2</td>\n",
       "      <td>7</td>\n",
       "      <td>99</td>\n",
       "      <td>México</td>\n",
       "      <td>97</td>\n",
       "      <td>97</td>\n",
       "    </tr>\n",
       "    <tr>\n",
       "      <th>2</th>\n",
       "      <td>2024-04-23</td>\n",
       "      <td>1b6d59</td>\n",
       "      <td>1</td>\n",
       "      <td>12</td>\n",
       "      <td>9</td>\n",
       "      <td>1</td>\n",
       "      <td>9</td>\n",
       "      <td>9</td>\n",
       "      <td>12</td>\n",
       "      <td>1</td>\n",
       "      <td>...</td>\n",
       "      <td>1</td>\n",
       "      <td>2</td>\n",
       "      <td>97</td>\n",
       "      <td>1</td>\n",
       "      <td>1</td>\n",
       "      <td>3</td>\n",
       "      <td>99</td>\n",
       "      <td>México</td>\n",
       "      <td>97</td>\n",
       "      <td>97</td>\n",
       "    </tr>\n",
       "    <tr>\n",
       "      <th>3</th>\n",
       "      <td>2024-04-23</td>\n",
       "      <td>0ed066</td>\n",
       "      <td>2</td>\n",
       "      <td>12</td>\n",
       "      <td>16</td>\n",
       "      <td>2</td>\n",
       "      <td>16</td>\n",
       "      <td>16</td>\n",
       "      <td>41</td>\n",
       "      <td>1</td>\n",
       "      <td>...</td>\n",
       "      <td>2</td>\n",
       "      <td>2</td>\n",
       "      <td>97</td>\n",
       "      <td>1</td>\n",
       "      <td>2</td>\n",
       "      <td>7</td>\n",
       "      <td>99</td>\n",
       "      <td>México</td>\n",
       "      <td>97</td>\n",
       "      <td>97</td>\n",
       "    </tr>\n",
       "    <tr>\n",
       "      <th>4</th>\n",
       "      <td>2024-04-23</td>\n",
       "      <td>7aeb5d</td>\n",
       "      <td>2</td>\n",
       "      <td>12</td>\n",
       "      <td>3</td>\n",
       "      <td>1</td>\n",
       "      <td>15</td>\n",
       "      <td>3</td>\n",
       "      <td>3</td>\n",
       "      <td>1</td>\n",
       "      <td>...</td>\n",
       "      <td>1</td>\n",
       "      <td>2</td>\n",
       "      <td>97</td>\n",
       "      <td>1</td>\n",
       "      <td>2</td>\n",
       "      <td>7</td>\n",
       "      <td>99</td>\n",
       "      <td>México</td>\n",
       "      <td>97</td>\n",
       "      <td>97</td>\n",
       "    </tr>\n",
       "  </tbody>\n",
       "</table>\n",
       "<p>5 rows × 40 columns</p>\n",
       "</div>"
      ],
      "text/plain": [
       "  FECHA_ACTUALIZACION ID_REGISTRO  ORIGEN  SECTOR  ENTIDAD_UM  SEXO  \\\n",
       "0          2024-04-23      c9a5ed       2      12           9     2   \n",
       "1          2024-04-23      cbecc9       2       6           5     1   \n",
       "2          2024-04-23      1b6d59       1      12           9     1   \n",
       "3          2024-04-23      0ed066       2      12          16     2   \n",
       "4          2024-04-23      7aeb5d       2      12           3     1   \n",
       "\n",
       "   ENTIDAD_NAC  ENTIDAD_RES  MUNICIPIO_RES  TIPO_PACIENTE  ... OTRO_CASO  \\\n",
       "0            9            9              9              1  ...         2   \n",
       "1            5            5             28              1  ...         2   \n",
       "2            9            9             12              1  ...         1   \n",
       "3           16           16             41              1  ...         2   \n",
       "4           15            3              3              1  ...         1   \n",
       "\n",
       "  TOMA_MUESTRA_LAB RESULTADO_LAB  TOMA_MUESTRA_ANTIGENO  RESULTADO_ANTIGENO  \\\n",
       "0                2            97                      1                   2   \n",
       "1                2            97                      1                   2   \n",
       "2                2            97                      1                   1   \n",
       "3                2            97                      1                   2   \n",
       "4                2            97                      1                   2   \n",
       "\n",
       "   CLASIFICACION_FINAL  MIGRANTE  PAIS_NACIONALIDAD  PAIS_ORIGEN  UCI  \n",
       "0                    7        99             México           97   97  \n",
       "1                    7        99             México           97   97  \n",
       "2                    3        99             México           97   97  \n",
       "3                    7        99             México           97   97  \n",
       "4                    7        99             México           97   97  \n",
       "\n",
       "[5 rows x 40 columns]"
      ]
     },
     "execution_count": 3,
     "metadata": {},
     "output_type": "execute_result"
    }
   ],
   "source": [
    "# Path al archivo\n",
    "file_path ='../../data/raw/COVID19MEXICO.parquet'\n",
    "# Cargar archivo CSV como DataFrame\n",
    "df = pd.read_parquet(file_path)\n",
    "# Inspeccionar primeros elementos del DataFrame\n",
    "df.head()"
   ]
  },
  {
   "cell_type": "markdown",
   "metadata": {},
   "source": [
    "### Dimensiones de los datos"
   ]
  },
  {
   "cell_type": "code",
   "execution_count": 4,
   "metadata": {
    "tags": []
   },
   "outputs": [
    {
     "name": "stdout",
     "output_type": "stream",
     "text": [
      "Dimensión de los datos: (1296717, 40)\n",
      "\n"
     ]
    }
   ],
   "source": [
    "# Dimensión de nuestros datos\n",
    "print(f\"Dimensión de los datos: {df.shape}\\n\")"
   ]
  },
  {
   "cell_type": "markdown",
   "metadata": {},
   "source": [
    "### Columnas"
   ]
  },
  {
   "cell_type": "code",
   "execution_count": 5,
   "metadata": {
    "tags": []
   },
   "outputs": [
    {
     "data": {
      "text/plain": [
       "Index(['FECHA_ACTUALIZACION', 'ID_REGISTRO', 'ORIGEN', 'SECTOR', 'ENTIDAD_UM',\n",
       "       'SEXO', 'ENTIDAD_NAC', 'ENTIDAD_RES', 'MUNICIPIO_RES', 'TIPO_PACIENTE',\n",
       "       'FECHA_INGRESO', 'FECHA_SINTOMAS', 'FECHA_DEF', 'INTUBADO', 'NEUMONIA',\n",
       "       'EDAD', 'NACIONALIDAD', 'EMBARAZO', 'HABLA_LENGUA_INDIG', 'INDIGENA',\n",
       "       'DIABETES', 'EPOC', 'ASMA', 'INMUSUPR', 'HIPERTENSION', 'OTRA_COM',\n",
       "       'CARDIOVASCULAR', 'OBESIDAD', 'RENAL_CRONICA', 'TABAQUISMO',\n",
       "       'OTRO_CASO', 'TOMA_MUESTRA_LAB', 'RESULTADO_LAB',\n",
       "       'TOMA_MUESTRA_ANTIGENO', 'RESULTADO_ANTIGENO', 'CLASIFICACION_FINAL',\n",
       "       'MIGRANTE', 'PAIS_NACIONALIDAD', 'PAIS_ORIGEN', 'UCI'],\n",
       "      dtype='object')"
      ]
     },
     "execution_count": 5,
     "metadata": {},
     "output_type": "execute_result"
    }
   ],
   "source": [
    "# Inspeccionar el nombre de las columnas\n",
    "df.columns"
   ]
  },
  {
   "cell_type": "markdown",
   "metadata": {},
   "source": [
    "### Valores faltantes"
   ]
  },
  {
   "cell_type": "code",
   "execution_count": 6,
   "metadata": {
    "tags": []
   },
   "outputs": [
    {
     "name": "stdout",
     "output_type": "stream",
     "text": [
      "Valores faltantes por columna:\n",
      "\n",
      " FECHA_ACTUALIZACION      0\n",
      "ID_REGISTRO              0\n",
      "ORIGEN                   0\n",
      "SECTOR                   0\n",
      "ENTIDAD_UM               0\n",
      "SEXO                     0\n",
      "ENTIDAD_NAC              0\n",
      "ENTIDAD_RES              0\n",
      "MUNICIPIO_RES            0\n",
      "TIPO_PACIENTE            0\n",
      "FECHA_INGRESO            0\n",
      "FECHA_SINTOMAS           0\n",
      "FECHA_DEF                0\n",
      "INTUBADO                 0\n",
      "NEUMONIA                 0\n",
      "EDAD                     0\n",
      "NACIONALIDAD             0\n",
      "EMBARAZO                 0\n",
      "HABLA_LENGUA_INDIG       0\n",
      "INDIGENA                 0\n",
      "DIABETES                 0\n",
      "EPOC                     0\n",
      "ASMA                     0\n",
      "INMUSUPR                 0\n",
      "HIPERTENSION             0\n",
      "OTRA_COM                 0\n",
      "CARDIOVASCULAR           0\n",
      "OBESIDAD                 0\n",
      "RENAL_CRONICA            0\n",
      "TABAQUISMO               0\n",
      "OTRO_CASO                0\n",
      "TOMA_MUESTRA_LAB         0\n",
      "RESULTADO_LAB            0\n",
      "TOMA_MUESTRA_ANTIGENO    0\n",
      "RESULTADO_ANTIGENO       0\n",
      "CLASIFICACION_FINAL      0\n",
      "MIGRANTE                 0\n",
      "PAIS_NACIONALIDAD        0\n",
      "PAIS_ORIGEN              0\n",
      "UCI                      0\n",
      "dtype: int64\n",
      "\n",
      "Valores faltantes totales: 0\n"
     ]
    }
   ],
   "source": [
    "print(f\"Valores faltantes por columna:\\n\\n {df.isna().sum()}\")\n",
    "print(f\"\\nValores faltantes totales: {df.isna().sum().sum()}\")"
   ]
  },
  {
   "cell_type": "markdown",
   "metadata": {},
   "source": [
    "### Tipos de datos"
   ]
  },
  {
   "cell_type": "code",
   "execution_count": 7,
   "metadata": {
    "tags": []
   },
   "outputs": [
    {
     "name": "stdout",
     "output_type": "stream",
     "text": [
      "Tipo de dato de cada variable:\n",
      " FECHA_ACTUALIZACION      object\n",
      "ID_REGISTRO              object\n",
      "ORIGEN                    int64\n",
      "SECTOR                    int64\n",
      "ENTIDAD_UM                int64\n",
      "SEXO                      int64\n",
      "ENTIDAD_NAC               int64\n",
      "ENTIDAD_RES               int64\n",
      "MUNICIPIO_RES             int64\n",
      "TIPO_PACIENTE             int64\n",
      "FECHA_INGRESO            object\n",
      "FECHA_SINTOMAS           object\n",
      "FECHA_DEF                object\n",
      "INTUBADO                  int64\n",
      "NEUMONIA                  int64\n",
      "EDAD                      int64\n",
      "NACIONALIDAD              int64\n",
      "EMBARAZO                  int64\n",
      "HABLA_LENGUA_INDIG        int64\n",
      "INDIGENA                  int64\n",
      "DIABETES                  int64\n",
      "EPOC                      int64\n",
      "ASMA                      int64\n",
      "INMUSUPR                  int64\n",
      "HIPERTENSION              int64\n",
      "OTRA_COM                  int64\n",
      "CARDIOVASCULAR            int64\n",
      "OBESIDAD                  int64\n",
      "RENAL_CRONICA             int64\n",
      "TABAQUISMO                int64\n",
      "OTRO_CASO                 int64\n",
      "TOMA_MUESTRA_LAB          int64\n",
      "RESULTADO_LAB             int64\n",
      "TOMA_MUESTRA_ANTIGENO     int64\n",
      "RESULTADO_ANTIGENO        int64\n",
      "CLASIFICACION_FINAL       int64\n",
      "MIGRANTE                  int64\n",
      "PAIS_NACIONALIDAD        object\n",
      "PAIS_ORIGEN              object\n",
      "UCI                       int64\n",
      "dtype: object\n",
      "\n"
     ]
    }
   ],
   "source": [
    "# Tipo de dato de cada variable\n",
    "print(f\"Tipo de dato de cada variable:\\n {df.dtypes}\\n\")"
   ]
  },
  {
   "cell_type": "markdown",
   "metadata": {},
   "source": [
    "Más adelante va a ser necesario manipular las columnas con fechas (FECHA_INGRESO, FECHA_DEF y FECHA_SINTOMAS) y las variables de país (PAIS_NACIONALIDAD y PAIS_ORIGEN)"
   ]
  },
  {
   "cell_type": "markdown",
   "metadata": {},
   "source": [
    "## Filtrado de nuestro Dataframe"
   ]
  },
  {
   "cell_type": "code",
   "execution_count": 8,
   "metadata": {},
   "outputs": [],
   "source": [
    "# Creamos una copia de nuestro Dataframe\n",
    "df_filtered = df.copy()"
   ]
  },
  {
   "cell_type": "markdown",
   "metadata": {},
   "source": [
    "Para evitar confusiones, dado que existen redundancias en los valores de CLASIFICACION_FINAL, nos quedamos solamente con los valores 3 y 7 que determinan sin lugar a duda diagnósticos positivos y negativos de COVID-19, respectivamente"
   ]
  },
  {
   "cell_type": "code",
   "execution_count": 9,
   "metadata": {},
   "outputs": [
    {
     "data": {
      "text/plain": [
       "CLASIFICACION_FINAL\n",
       "7    749373\n",
       "3    426570\n",
       "6    108081\n",
       "1      7948\n",
       "5      4492\n",
       "4       227\n",
       "2        26\n",
       "Name: count, dtype: int64"
      ]
     },
     "execution_count": 9,
     "metadata": {},
     "output_type": "execute_result"
    }
   ],
   "source": [
    "# Evaluamos la presencia de los distintos valores únicos de CLASIFICACIO_FINAL\n",
    "df_filtered['CLASIFICACION_FINAL'].value_counts()"
   ]
  },
  {
   "cell_type": "code",
   "execution_count": 10,
   "metadata": {},
   "outputs": [],
   "source": [
    "# Filtrar por valores de variable objetivo CLASIFICACION_FINAL\n",
    "df_filtered = df_filtered[df_filtered['CLASIFICACION_FINAL'].isin([3,7])]\n",
    "\n",
    "# Mapear los valores 3 a 1 y 7 a 0 para manejar un código binario\n",
    "df_filtered['CLASIFICACION_FINAL'].replace({3: 1, 7: 0}, inplace=True)\n",
    "\n",
    "# Hacemos un Reset te los índices\n",
    "df_filtered.reset_index(drop=True, inplace=True)"
   ]
  },
  {
   "cell_type": "markdown",
   "metadata": {},
   "source": [
    "## Transformación de columnas"
   ]
  },
  {
   "cell_type": "code",
   "execution_count": 11,
   "metadata": {},
   "outputs": [],
   "source": [
    "# Creamos una copia de nuestro Dataframe sin la variable objetivo\n",
    "df_transformed = df_filtered.copy()"
   ]
  },
  {
   "cell_type": "markdown",
   "metadata": {},
   "source": [
    "### Variable objetivo"
   ]
  },
  {
   "cell_type": "markdown",
   "metadata": {},
   "source": [
    "Obtenemos nuestra variable objetivo a partir de la variable FECHA_DEF. Dado que el valor 9999-99-99 se utiliza para indicar que la persona no falleció, podemos crear una nueva variable binaria DEFUNCION como sigue:"
   ]
  },
  {
   "cell_type": "code",
   "execution_count": 12,
   "metadata": {},
   "outputs": [],
   "source": [
    "# Extraer año, mes y día como nuevas columnas\n",
    "df_transformed['DEFUNCION'] = (df_transformed['FECHA_DEF'] != '9999-99-99').astype(int)\n",
    "# Mapeamos los valores 0 a 2 para que coincida con el catálogo SI_NO\n",
    "df_transformed['DEFUNCION'].replace({0: 2}, inplace=True)\n",
    "# Eliminar la columna original\n",
    "df_transformed = df_transformed.drop(columns='FECHA_DEF', axis=1)"
   ]
  },
  {
   "cell_type": "markdown",
   "metadata": {},
   "source": [
    "### Nos deshacemos de la columna ID_REGISTRO"
   ]
  },
  {
   "cell_type": "code",
   "execution_count": 13,
   "metadata": {},
   "outputs": [],
   "source": [
    "df_transformed = df_transformed.drop('ID_REGISTRO', axis=1)"
   ]
  },
  {
   "cell_type": "markdown",
   "metadata": {},
   "source": [
    "### Conversión de columnas con fechas"
   ]
  },
  {
   "cell_type": "markdown",
   "metadata": {},
   "source": [
    "Separamos los valores de año, mes y día en columnas distintas. "
   ]
  },
  {
   "cell_type": "markdown",
   "metadata": {},
   "source": [
    "FECHA_ACTUALIZACION"
   ]
  },
  {
   "cell_type": "code",
   "execution_count": 14,
   "metadata": {},
   "outputs": [
    {
     "data": {
      "text/html": [
       "<div>\n",
       "<style scoped>\n",
       "    .dataframe tbody tr th:only-of-type {\n",
       "        vertical-align: middle;\n",
       "    }\n",
       "\n",
       "    .dataframe tbody tr th {\n",
       "        vertical-align: top;\n",
       "    }\n",
       "\n",
       "    .dataframe thead th {\n",
       "        text-align: right;\n",
       "    }\n",
       "</style>\n",
       "<table border=\"1\" class=\"dataframe\">\n",
       "  <thead>\n",
       "    <tr style=\"text-align: right;\">\n",
       "      <th></th>\n",
       "      <th>FECHA_ACTUALIZACION</th>\n",
       "    </tr>\n",
       "  </thead>\n",
       "  <tbody>\n",
       "    <tr>\n",
       "      <th>0</th>\n",
       "      <td>2024-04-23</td>\n",
       "    </tr>\n",
       "    <tr>\n",
       "      <th>1</th>\n",
       "      <td>2024-04-23</td>\n",
       "    </tr>\n",
       "    <tr>\n",
       "      <th>2</th>\n",
       "      <td>2024-04-23</td>\n",
       "    </tr>\n",
       "    <tr>\n",
       "      <th>3</th>\n",
       "      <td>2024-04-23</td>\n",
       "    </tr>\n",
       "    <tr>\n",
       "      <th>4</th>\n",
       "      <td>2024-04-23</td>\n",
       "    </tr>\n",
       "  </tbody>\n",
       "</table>\n",
       "</div>"
      ],
      "text/plain": [
       "  FECHA_ACTUALIZACION\n",
       "0          2024-04-23\n",
       "1          2024-04-23\n",
       "2          2024-04-23\n",
       "3          2024-04-23\n",
       "4          2024-04-23"
      ]
     },
     "execution_count": 14,
     "metadata": {},
     "output_type": "execute_result"
    }
   ],
   "source": [
    "# Inspeccionar los valores originales\n",
    "df_transformed[['FECHA_ACTUALIZACION']].head()"
   ]
  },
  {
   "cell_type": "code",
   "execution_count": 15,
   "metadata": {
    "tags": []
   },
   "outputs": [],
   "source": [
    "# Extraer año, mes y día como nuevas columnas\n",
    "df_transformed['AÑO_ACTUALIZACION'] = pd.to_datetime(df_transformed['FECHA_ACTUALIZACION']).dt.year\n",
    "df_transformed['MES_ACTUALIZACION'] = pd.to_datetime(df_transformed['FECHA_ACTUALIZACION']).dt.month\n",
    "df_transformed['DIA_ACTUALIZACION'] = pd.to_datetime(df_transformed['FECHA_ACTUALIZACION']).dt.day\n",
    "# Eliminar la columna original\n",
    "df_transformed = df_transformed.drop(columns='FECHA_ACTUALIZACION', axis=1)"
   ]
  },
  {
   "cell_type": "code",
   "execution_count": 16,
   "metadata": {},
   "outputs": [
    {
     "data": {
      "text/html": [
       "<div>\n",
       "<style scoped>\n",
       "    .dataframe tbody tr th:only-of-type {\n",
       "        vertical-align: middle;\n",
       "    }\n",
       "\n",
       "    .dataframe tbody tr th {\n",
       "        vertical-align: top;\n",
       "    }\n",
       "\n",
       "    .dataframe thead th {\n",
       "        text-align: right;\n",
       "    }\n",
       "</style>\n",
       "<table border=\"1\" class=\"dataframe\">\n",
       "  <thead>\n",
       "    <tr style=\"text-align: right;\">\n",
       "      <th></th>\n",
       "      <th>AÑO_ACTUALIZACION</th>\n",
       "      <th>MES_ACTUALIZACION</th>\n",
       "      <th>DIA_ACTUALIZACION</th>\n",
       "    </tr>\n",
       "  </thead>\n",
       "  <tbody>\n",
       "    <tr>\n",
       "      <th>0</th>\n",
       "      <td>2024</td>\n",
       "      <td>4</td>\n",
       "      <td>23</td>\n",
       "    </tr>\n",
       "    <tr>\n",
       "      <th>1</th>\n",
       "      <td>2024</td>\n",
       "      <td>4</td>\n",
       "      <td>23</td>\n",
       "    </tr>\n",
       "    <tr>\n",
       "      <th>2</th>\n",
       "      <td>2024</td>\n",
       "      <td>4</td>\n",
       "      <td>23</td>\n",
       "    </tr>\n",
       "    <tr>\n",
       "      <th>3</th>\n",
       "      <td>2024</td>\n",
       "      <td>4</td>\n",
       "      <td>23</td>\n",
       "    </tr>\n",
       "    <tr>\n",
       "      <th>4</th>\n",
       "      <td>2024</td>\n",
       "      <td>4</td>\n",
       "      <td>23</td>\n",
       "    </tr>\n",
       "  </tbody>\n",
       "</table>\n",
       "</div>"
      ],
      "text/plain": [
       "   AÑO_ACTUALIZACION  MES_ACTUALIZACION  DIA_ACTUALIZACION\n",
       "0               2024                  4                 23\n",
       "1               2024                  4                 23\n",
       "2               2024                  4                 23\n",
       "3               2024                  4                 23\n",
       "4               2024                  4                 23"
      ]
     },
     "execution_count": 16,
     "metadata": {},
     "output_type": "execute_result"
    }
   ],
   "source": [
    "# Inspeccionar las nuevas columnas\n",
    "df_transformed[['AÑO_ACTUALIZACION', 'MES_ACTUALIZACION', 'DIA_ACTUALIZACION']].head()"
   ]
  },
  {
   "cell_type": "markdown",
   "metadata": {},
   "source": [
    "FECHA_INGRESO"
   ]
  },
  {
   "cell_type": "code",
   "execution_count": 17,
   "metadata": {},
   "outputs": [
    {
     "data": {
      "text/html": [
       "<div>\n",
       "<style scoped>\n",
       "    .dataframe tbody tr th:only-of-type {\n",
       "        vertical-align: middle;\n",
       "    }\n",
       "\n",
       "    .dataframe tbody tr th {\n",
       "        vertical-align: top;\n",
       "    }\n",
       "\n",
       "    .dataframe thead th {\n",
       "        text-align: right;\n",
       "    }\n",
       "</style>\n",
       "<table border=\"1\" class=\"dataframe\">\n",
       "  <thead>\n",
       "    <tr style=\"text-align: right;\">\n",
       "      <th></th>\n",
       "      <th>FECHA_INGRESO</th>\n",
       "    </tr>\n",
       "  </thead>\n",
       "  <tbody>\n",
       "    <tr>\n",
       "      <th>0</th>\n",
       "      <td>2023-02-26</td>\n",
       "    </tr>\n",
       "    <tr>\n",
       "      <th>1</th>\n",
       "      <td>2023-03-24</td>\n",
       "    </tr>\n",
       "    <tr>\n",
       "      <th>2</th>\n",
       "      <td>2023-03-02</td>\n",
       "    </tr>\n",
       "    <tr>\n",
       "      <th>3</th>\n",
       "      <td>2023-03-09</td>\n",
       "    </tr>\n",
       "    <tr>\n",
       "      <th>4</th>\n",
       "      <td>2023-06-12</td>\n",
       "    </tr>\n",
       "  </tbody>\n",
       "</table>\n",
       "</div>"
      ],
      "text/plain": [
       "  FECHA_INGRESO\n",
       "0    2023-02-26\n",
       "1    2023-03-24\n",
       "2    2023-03-02\n",
       "3    2023-03-09\n",
       "4    2023-06-12"
      ]
     },
     "execution_count": 17,
     "metadata": {},
     "output_type": "execute_result"
    }
   ],
   "source": [
    "# Inspeccionar los valores originales\n",
    "df_transformed[['FECHA_INGRESO']].head()"
   ]
  },
  {
   "cell_type": "code",
   "execution_count": 18,
   "metadata": {
    "tags": []
   },
   "outputs": [],
   "source": [
    "# Extraer año, mes y día como nuevas columnas\n",
    "df_transformed['AÑO_INGRESO'] = pd.to_datetime(df_transformed['FECHA_INGRESO']).dt.year\n",
    "df_transformed['MES_INGRESO'] = pd.to_datetime(df_transformed['FECHA_INGRESO']).dt.month\n",
    "df_transformed['DIA_INGRESO'] = pd.to_datetime(df_transformed['FECHA_INGRESO']).dt.day\n",
    "# Eliminar la columna original\n",
    "df_transformed = df_transformed.drop(columns='FECHA_INGRESO', axis=1)"
   ]
  },
  {
   "cell_type": "code",
   "execution_count": 19,
   "metadata": {},
   "outputs": [
    {
     "data": {
      "text/html": [
       "<div>\n",
       "<style scoped>\n",
       "    .dataframe tbody tr th:only-of-type {\n",
       "        vertical-align: middle;\n",
       "    }\n",
       "\n",
       "    .dataframe tbody tr th {\n",
       "        vertical-align: top;\n",
       "    }\n",
       "\n",
       "    .dataframe thead th {\n",
       "        text-align: right;\n",
       "    }\n",
       "</style>\n",
       "<table border=\"1\" class=\"dataframe\">\n",
       "  <thead>\n",
       "    <tr style=\"text-align: right;\">\n",
       "      <th></th>\n",
       "      <th>AÑO_INGRESO</th>\n",
       "      <th>MES_INGRESO</th>\n",
       "      <th>DIA_INGRESO</th>\n",
       "    </tr>\n",
       "  </thead>\n",
       "  <tbody>\n",
       "    <tr>\n",
       "      <th>0</th>\n",
       "      <td>2023</td>\n",
       "      <td>2</td>\n",
       "      <td>26</td>\n",
       "    </tr>\n",
       "    <tr>\n",
       "      <th>1</th>\n",
       "      <td>2023</td>\n",
       "      <td>3</td>\n",
       "      <td>24</td>\n",
       "    </tr>\n",
       "    <tr>\n",
       "      <th>2</th>\n",
       "      <td>2023</td>\n",
       "      <td>3</td>\n",
       "      <td>2</td>\n",
       "    </tr>\n",
       "    <tr>\n",
       "      <th>3</th>\n",
       "      <td>2023</td>\n",
       "      <td>3</td>\n",
       "      <td>9</td>\n",
       "    </tr>\n",
       "    <tr>\n",
       "      <th>4</th>\n",
       "      <td>2023</td>\n",
       "      <td>6</td>\n",
       "      <td>12</td>\n",
       "    </tr>\n",
       "  </tbody>\n",
       "</table>\n",
       "</div>"
      ],
      "text/plain": [
       "   AÑO_INGRESO  MES_INGRESO  DIA_INGRESO\n",
       "0         2023            2           26\n",
       "1         2023            3           24\n",
       "2         2023            3            2\n",
       "3         2023            3            9\n",
       "4         2023            6           12"
      ]
     },
     "execution_count": 19,
     "metadata": {},
     "output_type": "execute_result"
    }
   ],
   "source": [
    "# Inspeccionar las nuevas columnas\n",
    "df_transformed[['AÑO_INGRESO', 'MES_INGRESO', 'DIA_INGRESO']].head()"
   ]
  },
  {
   "cell_type": "markdown",
   "metadata": {},
   "source": [
    "FECHA_SINTOMAS"
   ]
  },
  {
   "cell_type": "code",
   "execution_count": 20,
   "metadata": {},
   "outputs": [
    {
     "data": {
      "text/html": [
       "<div>\n",
       "<style scoped>\n",
       "    .dataframe tbody tr th:only-of-type {\n",
       "        vertical-align: middle;\n",
       "    }\n",
       "\n",
       "    .dataframe tbody tr th {\n",
       "        vertical-align: top;\n",
       "    }\n",
       "\n",
       "    .dataframe thead th {\n",
       "        text-align: right;\n",
       "    }\n",
       "</style>\n",
       "<table border=\"1\" class=\"dataframe\">\n",
       "  <thead>\n",
       "    <tr style=\"text-align: right;\">\n",
       "      <th></th>\n",
       "      <th>FECHA_SINTOMAS</th>\n",
       "    </tr>\n",
       "  </thead>\n",
       "  <tbody>\n",
       "    <tr>\n",
       "      <th>0</th>\n",
       "      <td>2023-02-22</td>\n",
       "    </tr>\n",
       "    <tr>\n",
       "      <th>1</th>\n",
       "      <td>2023-03-19</td>\n",
       "    </tr>\n",
       "    <tr>\n",
       "      <th>2</th>\n",
       "      <td>2023-03-01</td>\n",
       "    </tr>\n",
       "    <tr>\n",
       "      <th>3</th>\n",
       "      <td>2023-03-06</td>\n",
       "    </tr>\n",
       "    <tr>\n",
       "      <th>4</th>\n",
       "      <td>2023-06-09</td>\n",
       "    </tr>\n",
       "  </tbody>\n",
       "</table>\n",
       "</div>"
      ],
      "text/plain": [
       "  FECHA_SINTOMAS\n",
       "0     2023-02-22\n",
       "1     2023-03-19\n",
       "2     2023-03-01\n",
       "3     2023-03-06\n",
       "4     2023-06-09"
      ]
     },
     "execution_count": 20,
     "metadata": {},
     "output_type": "execute_result"
    }
   ],
   "source": [
    "# Inspeccionar los valores originales\n",
    "df_transformed[['FECHA_SINTOMAS']].head()"
   ]
  },
  {
   "cell_type": "code",
   "execution_count": 21,
   "metadata": {
    "tags": []
   },
   "outputs": [],
   "source": [
    "# Extraer año, mes y día como nuevas columnas\n",
    "df_transformed['AÑO_SINTOMAS'] = pd.to_datetime(df_transformed['FECHA_SINTOMAS']).dt.year\n",
    "df_transformed['MES_SINTOMAS'] = pd.to_datetime(df_transformed['FECHA_SINTOMAS']).dt.month\n",
    "df_transformed['DIA_SINTOMAS'] = pd.to_datetime(df_transformed['FECHA_SINTOMAS']).dt.day\n",
    "# Eliminar la columna original\n",
    "df_transformed = df_transformed.drop(columns='FECHA_SINTOMAS', axis=1)"
   ]
  },
  {
   "cell_type": "code",
   "execution_count": 22,
   "metadata": {},
   "outputs": [
    {
     "data": {
      "text/html": [
       "<div>\n",
       "<style scoped>\n",
       "    .dataframe tbody tr th:only-of-type {\n",
       "        vertical-align: middle;\n",
       "    }\n",
       "\n",
       "    .dataframe tbody tr th {\n",
       "        vertical-align: top;\n",
       "    }\n",
       "\n",
       "    .dataframe thead th {\n",
       "        text-align: right;\n",
       "    }\n",
       "</style>\n",
       "<table border=\"1\" class=\"dataframe\">\n",
       "  <thead>\n",
       "    <tr style=\"text-align: right;\">\n",
       "      <th></th>\n",
       "      <th>AÑO_SINTOMAS</th>\n",
       "      <th>MES_SINTOMAS</th>\n",
       "      <th>DIA_SINTOMAS</th>\n",
       "    </tr>\n",
       "  </thead>\n",
       "  <tbody>\n",
       "    <tr>\n",
       "      <th>0</th>\n",
       "      <td>2023</td>\n",
       "      <td>2</td>\n",
       "      <td>22</td>\n",
       "    </tr>\n",
       "    <tr>\n",
       "      <th>1</th>\n",
       "      <td>2023</td>\n",
       "      <td>3</td>\n",
       "      <td>19</td>\n",
       "    </tr>\n",
       "    <tr>\n",
       "      <th>2</th>\n",
       "      <td>2023</td>\n",
       "      <td>3</td>\n",
       "      <td>1</td>\n",
       "    </tr>\n",
       "    <tr>\n",
       "      <th>3</th>\n",
       "      <td>2023</td>\n",
       "      <td>3</td>\n",
       "      <td>6</td>\n",
       "    </tr>\n",
       "    <tr>\n",
       "      <th>4</th>\n",
       "      <td>2023</td>\n",
       "      <td>6</td>\n",
       "      <td>9</td>\n",
       "    </tr>\n",
       "  </tbody>\n",
       "</table>\n",
       "</div>"
      ],
      "text/plain": [
       "   AÑO_SINTOMAS  MES_SINTOMAS  DIA_SINTOMAS\n",
       "0          2023             2            22\n",
       "1          2023             3            19\n",
       "2          2023             3             1\n",
       "3          2023             3             6\n",
       "4          2023             6             9"
      ]
     },
     "execution_count": 22,
     "metadata": {},
     "output_type": "execute_result"
    }
   ],
   "source": [
    "# Inspeccionar las nuevas columnas\n",
    "df_transformed[['AÑO_SINTOMAS', 'MES_SINTOMAS', 'DIA_SINTOMAS']].head()"
   ]
  },
  {
   "cell_type": "markdown",
   "metadata": {},
   "source": [
    "### Label Encoding de columnas con países"
   ]
  },
  {
   "cell_type": "code",
   "execution_count": 23,
   "metadata": {},
   "outputs": [
    {
     "name": "stdout",
     "output_type": "stream",
     "text": [
      "PAIS_NACIONALIDAD:\n",
      "\n",
      "['99' 'Afganistán' 'Alemania' 'Arabia Saudita' 'Argelia' 'Argentina'\n",
      " 'Australia' 'Austria' 'Bangladesh' 'Belice' 'Bielorrusia' 'Bolivia'\n",
      " 'Brasil' 'Bulgaria' 'Burundi' 'Bélgica' 'Camboya' 'Canadá' 'Chile'\n",
      " 'China' 'Colombia' 'Congo' 'Costa de Marfil' 'Croacia' 'Cuba' 'Dinamarca'\n",
      " 'Ecuador' 'Egipto' 'El Salvador' 'El Vaticano' 'España'\n",
      " 'Estado Libre Asociado de Puerto Rico' 'Estados Unidos de América'\n",
      " 'Estonia' 'Filipinas' 'Finlandia' 'Francia' 'Georgia'\n",
      " 'Gran Bretaña (Reino Unido)' 'Guatemala' 'Guinea' 'Guinea Ecuatorial'\n",
      " 'Guyana Francesa' 'Haití' 'Holanda' 'Hong Kong' 'Hungría' 'India' 'Iraq'\n",
      " 'Irán' 'Italia' 'Jamaica' 'Japón' 'Lituania' 'Líbano' 'Macao'\n",
      " 'Mauritania' 'Micronesia' 'Moldavia' 'Mozambique' 'México' 'Nicaragua'\n",
      " 'Nigeria' 'Noruega' 'Níger' 'Otro' 'Pakistán' 'Paraguay'\n",
      " 'Países de la Ex-Yugoslavia' 'Perú' 'Polonia' 'Portugal'\n",
      " 'Reino Hachemita de Jordania' 'Reino de Swazilandia'\n",
      " 'República Centro Africana' 'República Checa y República Eslovaca'\n",
      " 'República Democrática de Corea' 'República Dominicana'\n",
      " 'República Oriental del Uruguay' 'República de Angola'\n",
      " 'República de Corea' 'República de Costa Rica' 'República de Honduras'\n",
      " 'República de Panamá' 'República de Trinidad y Tobago' 'Rumania' 'Rusia'\n",
      " 'SE DESCONOCE' 'Senegal' 'Singapur' 'Siria' 'Sudáfrica' 'Suecia' 'Suiza'\n",
      " 'Surinam' 'Tanzania' 'Turquía' 'Ucrania' 'Venezuela' 'Vietnam'\n",
      " 'Zona Neutral']\n"
     ]
    }
   ],
   "source": [
    "print(f\"PAIS_NACIONALIDAD:\\n\\n{np.sort(df_transformed['PAIS_NACIONALIDAD'].unique())}\")"
   ]
  },
  {
   "cell_type": "code",
   "execution_count": 24,
   "metadata": {},
   "outputs": [
    {
     "name": "stdout",
     "output_type": "stream",
     "text": [
      "PAIS_ORIGEN:\n",
      "\n",
      "['97' 'Afganistán' 'Alemania' 'Argentina' 'Australia' 'Austria' 'Belice'\n",
      " 'Bolivia' 'Brasil' 'Canadá' 'Chile' 'China' 'Colombia' 'Cuba' 'Ecuador'\n",
      " 'El Salvador' 'España' 'Estado Libre Asociado de Puerto Rico'\n",
      " 'Estados Unidos de América' 'Georgia' 'Gran Bretaña (Reino Unido)'\n",
      " 'Guatemala' 'Guinea' 'Guinea Ecuatorial' 'Guyana Francesa' 'Haití'\n",
      " 'Holanda' 'Hungría' 'India' 'Italia' 'Japón' 'Mauritania' 'Nicaragua'\n",
      " 'Nigeria' 'Níger' 'Otro' 'Perú' 'Portugal' 'Reino Hachemita de Jordania'\n",
      " 'República Centro Africana' 'República Dominicana'\n",
      " 'República Oriental del Uruguay' 'República de Angola'\n",
      " 'República de Corea' 'República de Costa Rica' 'República de Honduras'\n",
      " 'República de Panamá' 'Rusia' 'Senegal' 'Siria' 'Surinam' 'Venezuela']\n"
     ]
    }
   ],
   "source": [
    "print(f\"PAIS_ORIGEN:\\n\\n{np.sort(df_transformed['PAIS_ORIGEN'].unique())}\")"
   ]
  },
  {
   "cell_type": "markdown",
   "metadata": {},
   "source": [
    "Juntamos los valores únicos de ambas columnas y después aplicamos el Label Encoding de modo que un mismo valor reciba el mismo código en ambas columnas."
   ]
  },
  {
   "cell_type": "code",
   "execution_count": 25,
   "metadata": {
    "tags": []
   },
   "outputs": [
    {
     "name": "stdout",
     "output_type": "stream",
     "text": [
      "Mapeo de etiquetas a números:\n",
      "\n",
      "97: 0\n",
      "99: 1\n",
      "Afganistán: 2\n",
      "Alemania: 3\n",
      "Arabia Saudita: 4\n",
      "Argelia: 5\n",
      "Argentina: 6\n",
      "Australia: 7\n",
      "Austria: 8\n",
      "Bangladesh: 9\n",
      "Belice: 10\n",
      "Bielorrusia: 11\n",
      "Bolivia: 12\n",
      "Brasil: 13\n",
      "Bulgaria: 14\n",
      "Burundi: 15\n",
      "Bélgica: 16\n",
      "Camboya: 17\n",
      "Canadá: 18\n",
      "Chile: 19\n",
      "China: 20\n",
      "Colombia: 21\n",
      "Congo: 22\n",
      "Costa de Marfil: 23\n",
      "Croacia: 24\n",
      "Cuba: 25\n",
      "Dinamarca: 26\n",
      "Ecuador: 27\n",
      "Egipto: 28\n",
      "El Salvador: 29\n",
      "El Vaticano: 30\n",
      "España: 31\n",
      "Estado Libre Asociado de Puerto Rico: 32\n",
      "Estados Unidos de América: 33\n",
      "Estonia: 34\n",
      "Filipinas: 35\n",
      "Finlandia: 36\n",
      "Francia: 37\n",
      "Georgia: 38\n",
      "Gran Bretaña (Reino Unido): 39\n",
      "Guatemala: 40\n",
      "Guinea: 41\n",
      "Guinea Ecuatorial: 42\n",
      "Guyana Francesa: 43\n",
      "Haití: 44\n",
      "Holanda: 45\n",
      "Hong Kong: 46\n",
      "Hungría: 47\n",
      "India: 48\n",
      "Iraq: 49\n",
      "Irán: 50\n",
      "Italia: 51\n",
      "Jamaica: 52\n",
      "Japón: 53\n",
      "Lituania: 54\n",
      "Líbano: 55\n",
      "Macao: 56\n",
      "Mauritania: 57\n",
      "Micronesia: 58\n",
      "Moldavia: 59\n",
      "Mozambique: 60\n",
      "México: 61\n",
      "Nicaragua: 62\n",
      "Nigeria: 63\n",
      "Noruega: 64\n",
      "Níger: 65\n",
      "Otro: 66\n",
      "Pakistán: 67\n",
      "Paraguay: 68\n",
      "Países de la Ex-Yugoslavia: 69\n",
      "Perú: 70\n",
      "Polonia: 71\n",
      "Portugal: 72\n",
      "Reino Hachemita de Jordania: 73\n",
      "Reino de Swazilandia: 74\n",
      "República Centro Africana: 75\n",
      "República Checa y República Eslovaca: 76\n",
      "República Democrática de Corea: 77\n",
      "República Dominicana: 78\n",
      "República Oriental del Uruguay: 79\n",
      "República de Angola: 80\n",
      "República de Corea: 81\n",
      "República de Costa Rica: 82\n",
      "República de Honduras: 83\n",
      "República de Panamá: 84\n",
      "República de Trinidad y Tobago: 85\n",
      "Rumania: 86\n",
      "Rusia: 87\n",
      "SE DESCONOCE: 88\n",
      "Senegal: 89\n",
      "Singapur: 90\n",
      "Siria: 91\n",
      "Sudáfrica: 92\n",
      "Suecia: 93\n",
      "Suiza: 94\n",
      "Surinam: 95\n",
      "Tanzania: 96\n",
      "Turquía: 97\n",
      "Ucrania: 98\n",
      "Venezuela: 99\n",
      "Vietnam: 100\n",
      "Zona Neutral: 101\n"
     ]
    }
   ],
   "source": [
    "from sklearn.preprocessing import LabelEncoder\n",
    "\n",
    "# Unificar los valores únicos de ambas columnas\n",
    "valores_unicos = set(df_transformed['PAIS_NACIONALIDAD'].unique()).union(set(df_transformed['PAIS_ORIGEN'].unique()))\n",
    "\n",
    "# Crear un único LabelEncoder\n",
    "label_encoder = LabelEncoder()\n",
    "\n",
    "# Ajustar el LabelEncoder a los valores únicos unificados\n",
    "label_encoder.fit(list(valores_unicos))\n",
    "\n",
    "# Aplicar el LabelEncoder a la columna 'PAIS_NACIONALIDAD'\n",
    "df_transformed['PAIS_NACIONALIDAD'] = label_encoder.transform(df_transformed['PAIS_NACIONALIDAD'])\n",
    "\n",
    "# Aplicar el LabelEncoder a la columna 'PAIS_ORIGEN'\n",
    "df_transformed['PAIS_ORIGEN'] = label_encoder.transform(df_transformed['PAIS_ORIGEN'])\n",
    "\n",
    "# Muestra los mapeos entre las categorías y los números asignados\n",
    "print(\"Mapeo de etiquetas a números:\\n\")\n",
    "for i, label in enumerate(label_encoder.classes_):\n",
    "    print(f\"{label}: {i}\")\n"
   ]
  },
  {
   "cell_type": "code",
   "execution_count": 26,
   "metadata": {},
   "outputs": [],
   "source": [
    "# Restamos 1 a los nuevos valores para que la codificación coincida con el mapeo {99:0, 98:-1, 97:-2}\n",
    "df_transformed['PAIS_NACIONALIDAD'] = df_transformed['PAIS_NACIONALIDAD'] - 1\n",
    "df_transformed['PAIS_ORIGEN'] = df_transformed['PAIS_ORIGEN'] - 1\n",
    "\n",
    "# Volvemos a restar 1 solo a los valores -1 para que la codificación coincida con el mapeo {99:0, 98:-1, 97:-2}\n",
    "df_transformed.loc[df_transformed['PAIS_NACIONALIDAD'] == -1, 'PAIS_NACIONALIDAD'] -= 1\n",
    "df_transformed.loc[df_transformed['PAIS_ORIGEN'] == -1, 'PAIS_ORIGEN'] -= 1"
   ]
  },
  {
   "cell_type": "markdown",
   "metadata": {},
   "source": [
    "Inspeccionamos los valores codificados"
   ]
  },
  {
   "cell_type": "code",
   "execution_count": 27,
   "metadata": {},
   "outputs": [
    {
     "name": "stdout",
     "output_type": "stream",
     "text": [
      "PAIS_NACIONALIDAD:\n",
      "\n",
      "[  0   1   2   3   4   5   6   7   8   9  10  11  12  13  14  15  16  17\n",
      "  18  19  20  21  22  23  24  25  26  27  28  29  30  31  32  33  34  35\n",
      "  36  37  38  39  40  41  42  43  44  45  46  47  48  49  50  51  52  53\n",
      "  54  55  56  57  58  59  60  61  62  63  64  65  66  67  68  69  70  71\n",
      "  72  73  74  75  76  77  78  79  80  81  82  83  84  85  86  87  88  89\n",
      "  90  91  92  93  94  95  96  97  98  99 100]\n"
     ]
    }
   ],
   "source": [
    "print(f\"PAIS_NACIONALIDAD:\\n\\n{np.sort(df_transformed['PAIS_NACIONALIDAD'].unique())}\")"
   ]
  },
  {
   "cell_type": "code",
   "execution_count": 28,
   "metadata": {},
   "outputs": [
    {
     "name": "stdout",
     "output_type": "stream",
     "text": [
      "PAIS_ORIGEN:\n",
      "\n",
      "[-2  1  2  5  6  7  9 11 12 17 18 19 20 24 26 28 30 31 32 37 38 39 40 41\n",
      " 42 43 44 46 47 50 52 56 61 62 64 65 69 71 72 74 77 78 79 80 81 82 83 86\n",
      " 88 90 94 98]\n"
     ]
    }
   ],
   "source": [
    "print(f\"PAIS_ORIGEN:\\n\\n{np.sort(df_transformed['PAIS_ORIGEN'].unique())}\")"
   ]
  },
  {
   "cell_type": "markdown",
   "metadata": {},
   "source": [
    "#### Creamos el Catálogo de estos valores"
   ]
  },
  {
   "cell_type": "code",
   "execution_count": 29,
   "metadata": {},
   "outputs": [
    {
     "name": "stdout",
     "output_type": "stream",
     "text": [
      "Error: Sheet 'Catálogo PAISES' already exists and if_sheet_exists is set to 'error'.\n"
     ]
    }
   ],
   "source": [
    "from openpyxl import load_workbook\n",
    "\n",
    "# Crear el diccionario mapeo_etiquetas_a_numeros utilizando la iteración\n",
    "mapeo_etiquetas_a_numeros = {label: (i - 1) for i, label in enumerate(label_encoder.classes_) }\n",
    "\n",
    "# Crear un DataFrame a partir del diccionario\n",
    "df_paises = pd.DataFrame(list(mapeo_etiquetas_a_numeros.items()), columns=['PAIS', 'CLAVE_PAIS'])\n",
    "\n",
    "# Reordenar columnas\n",
    "df_paises = df_paises[['CLAVE_PAIS', 'PAIS']]\n",
    "\n",
    "# Ruta del archivo Excel\n",
    "file_path = \"../../references/processed/Catalogos_local_v2.xlsx\"\n",
    "\n",
    "# Verificar si el archivo existe y es un archivo Excel válido\n",
    "try:\n",
    "    with pd.ExcelWriter(file_path, engine='openpyxl', mode='a') as writer:\n",
    "        df_paises.to_excel(writer, sheet_name='Catálogo PAISES', index=False)\n",
    "except Exception as e:\n",
    "    print(f\"Error: {e}\")"
   ]
  },
  {
   "cell_type": "markdown",
   "metadata": {},
   "source": [
    "### Label Encoding de columna MUNICIPIO_RES"
   ]
  },
  {
   "cell_type": "code",
   "execution_count": 30,
   "metadata": {},
   "outputs": [
    {
     "name": "stdout",
     "output_type": "stream",
     "text": [
      "MUNICIPIO_RES:\n",
      "\n",
      "[  1   2   3   4   5   6   7   8   9  10  11  12  13  14  15  16  17  18\n",
      "  19  20  21  22  23  24  25  26  27  28  29  30  31  32  33  34  35  36\n",
      "  37  38  39  40  41  42  43  44  45  46  47  48  49  50  51  52  53  54\n",
      "  55  56  57  58  59  60  61  62  63  64  65  66  67  68  69  70  71  72\n",
      "  73  74  75  76  77  78  79  80  81  82  83  84  85  86  87  88  89  90\n",
      "  91  92  93  94  95  96  97  98  99 100 101 102 103 104 105 106 107 108\n",
      " 109 110 111 112 113 114 115 116 117 118 119 120 121 122 123 124 125 126\n",
      " 127 128 129 130 131 132 133 134 135 136 137 138 139 140 141 142 143 144\n",
      " 145 146 147 148 149 150 151 152 153 154 155 156 157 158 159 160 161 162\n",
      " 163 164 165 166 167 168 169 170 171 172 173 174 175 176 177 178 179 180\n",
      " 181 182 183 184 185 186 187 188 189 190 191 192 193 194 195 196 197 198\n",
      " 199 200 201 202 203 204 205 206 207 208 209 210 211 212 213 214 215 216\n",
      " 217 219 220 221 222 224 225 226 227 229 230 232 233 234 235 236 238 239\n",
      " 240 242 243 244 245 246 247 248 249 250 251 252 254 257 258 259 260 261\n",
      " 262 265 266 268 269 271 272 273 274 275 276 277 278 279 280 281 284 285\n",
      " 286 289 290 291 292 293 294 295 296 298 299 300 301 303 305 306 307 308\n",
      " 309 310 312 314 315 316 318 321 323 324 325 326 327 329 330 333 334 337\n",
      " 338 339 340 342 343 344 345 348 349 350 351 352 355 358 360 362 363 364\n",
      " 366 367 368 369 370 371 375 377 378 379 380 381 384 385 386 387 388 390\n",
      " 391 392 393 394 396 397 398 399 400 401 402 403 405 406 407 409 410 411\n",
      " 413 414 415 417 418 419 420 421 423 425 426 427 428 429 431 432 433 434\n",
      " 437 439 441 446 447 448 449 450 451 452 453 454 456 457 458 459 460 462\n",
      " 466 467 468 469 472 473 475 477 478 481 482 483 484 486 491 492 494 495\n",
      " 496 497 498 499 502 503 504 505 506 507 508 509 512 513 515 516 517 519\n",
      " 520 522 523 525 526 527 530 531 532 533 534 535 537 539 540 541 543 544\n",
      " 545 546 547 548 549 550 551 552 553 554 555 556 557 558 559 560 561 562\n",
      " 563 564 565 566 567 568 569 570 999]\n"
     ]
    }
   ],
   "source": [
    "# Inspeccionar los valores originales\n",
    "print(f\"MUNICIPIO_RES:\\n\\n{np.sort(df_transformed['MUNICIPIO_RES'].unique())}\")"
   ]
  },
  {
   "cell_type": "markdown",
   "metadata": {},
   "source": [
    "Dado que las distintas entidades ya están codificadas numéricamente, solamente codificamos los valores \"999\" para que evitar que el modelo le adjudique un mayor peso que al resto de valores."
   ]
  },
  {
   "cell_type": "code",
   "execution_count": 31,
   "metadata": {},
   "outputs": [],
   "source": [
    "# Mapear los valores 99 a 0\n",
    "df_transformed['MUNICIPIO_RES'].replace({999: 0}, inplace=True)"
   ]
  },
  {
   "cell_type": "code",
   "execution_count": 32,
   "metadata": {},
   "outputs": [
    {
     "name": "stdout",
     "output_type": "stream",
     "text": [
      "MUNICIPIO_RES:\n",
      "\n",
      "[  0   1   2   3   4   5   6   7   8   9  10  11  12  13  14  15  16  17\n",
      "  18  19  20  21  22  23  24  25  26  27  28  29  30  31  32  33  34  35\n",
      "  36  37  38  39  40  41  42  43  44  45  46  47  48  49  50  51  52  53\n",
      "  54  55  56  57  58  59  60  61  62  63  64  65  66  67  68  69  70  71\n",
      "  72  73  74  75  76  77  78  79  80  81  82  83  84  85  86  87  88  89\n",
      "  90  91  92  93  94  95  96  97  98  99 100 101 102 103 104 105 106 107\n",
      " 108 109 110 111 112 113 114 115 116 117 118 119 120 121 122 123 124 125\n",
      " 126 127 128 129 130 131 132 133 134 135 136 137 138 139 140 141 142 143\n",
      " 144 145 146 147 148 149 150 151 152 153 154 155 156 157 158 159 160 161\n",
      " 162 163 164 165 166 167 168 169 170 171 172 173 174 175 176 177 178 179\n",
      " 180 181 182 183 184 185 186 187 188 189 190 191 192 193 194 195 196 197\n",
      " 198 199 200 201 202 203 204 205 206 207 208 209 210 211 212 213 214 215\n",
      " 216 217 219 220 221 222 224 225 226 227 229 230 232 233 234 235 236 238\n",
      " 239 240 242 243 244 245 246 247 248 249 250 251 252 254 257 258 259 260\n",
      " 261 262 265 266 268 269 271 272 273 274 275 276 277 278 279 280 281 284\n",
      " 285 286 289 290 291 292 293 294 295 296 298 299 300 301 303 305 306 307\n",
      " 308 309 310 312 314 315 316 318 321 323 324 325 326 327 329 330 333 334\n",
      " 337 338 339 340 342 343 344 345 348 349 350 351 352 355 358 360 362 363\n",
      " 364 366 367 368 369 370 371 375 377 378 379 380 381 384 385 386 387 388\n",
      " 390 391 392 393 394 396 397 398 399 400 401 402 403 405 406 407 409 410\n",
      " 411 413 414 415 417 418 419 420 421 423 425 426 427 428 429 431 432 433\n",
      " 434 437 439 441 446 447 448 449 450 451 452 453 454 456 457 458 459 460\n",
      " 462 466 467 468 469 472 473 475 477 478 481 482 483 484 486 491 492 494\n",
      " 495 496 497 498 499 502 503 504 505 506 507 508 509 512 513 515 516 517\n",
      " 519 520 522 523 525 526 527 530 531 532 533 534 535 537 539 540 541 543\n",
      " 544 545 546 547 548 549 550 551 552 553 554 555 556 557 558 559 560 561\n",
      " 562 563 564 565 566 567 568 569 570]\n"
     ]
    }
   ],
   "source": [
    "# Inspeccionar los valores codificados\n",
    "print(f\"MUNICIPIO_RES:\\n\\n{np.sort(df_transformed['MUNICIPIO_RES'].unique())}\")\n"
   ]
  },
  {
   "cell_type": "markdown",
   "metadata": {},
   "source": [
    "### Label Encoding de columnas valores 97, 98 o 99"
   ]
  },
  {
   "cell_type": "markdown",
   "metadata": {},
   "source": [
    "Identificamos las columnas con valores 97, 98 o 99. Ignorando las columnas 'PAIS_NACIONALIDAD', 'PAIS_ORIGEN', 'MUNICIPIO_RES' y 'EDAD', porque en estas los estos valores sí son válidos. "
   ]
  },
  {
   "cell_type": "code",
   "execution_count": 33,
   "metadata": {},
   "outputs": [
    {
     "name": "stdout",
     "output_type": "stream",
     "text": [
      "['SECTOR', 'ENTIDAD_NAC', 'INTUBADO', 'NEUMONIA', 'EMBARAZO', 'HABLA_LENGUA_INDIG', 'INDIGENA', 'DIABETES', 'EPOC', 'ASMA', 'INMUSUPR', 'HIPERTENSION', 'OTRA_COM', 'CARDIOVASCULAR', 'OBESIDAD', 'RENAL_CRONICA', 'TABAQUISMO', 'OTRO_CASO', 'RESULTADO_LAB', 'RESULTADO_ANTIGENO', 'MIGRANTE', 'UCI']\n"
     ]
    }
   ],
   "source": [
    "# Lista para almacenar columnas con valores 97, 98, 99\n",
    "columnas_con_valores = []\n",
    "\n",
    "# Iteramos a lo largo de las columnas y evaluamos la condición \n",
    "for columna in df_transformed.drop(['PAIS_NACIONALIDAD', 'PAIS_ORIGEN', 'MUNICIPIO_RES', 'EDAD'], axis=1).columns:\n",
    "    if df_transformed[columna].isin([97, 98, 99]).any():\n",
    "        columnas_con_valores.append(columna)\n",
    "\n",
    "# Inspeccionar las columnas con valores 97, 98 y 99\n",
    "print(columnas_con_valores)"
   ]
  },
  {
   "cell_type": "markdown",
   "metadata": {},
   "source": [
    "Mapeamos los valores 97 a -2, 98 a -1 y 99 a 0"
   ]
  },
  {
   "cell_type": "code",
   "execution_count": 34,
   "metadata": {},
   "outputs": [
    {
     "name": "stdout",
     "output_type": "stream",
     "text": [
      "SECTOR: [ 0  1  2  3  4  5  6  7  8  9 10 11 12 13]\n",
      "\n",
      "ENTIDAD_NAC: [ 0  1  2  3  4  5  6  7  8  9 10 11 12 13 14 15 16 17 18 19 20 21 22 23\n",
      " 24 25 26 27 28 29 30 31 32]\n",
      "\n",
      "INTUBADO: [-2  0  1  2]\n",
      "\n",
      "NEUMONIA: [0 1 2]\n",
      "\n",
      "EMBARAZO: [-2 -1  0  1  2]\n",
      "\n",
      "HABLA_LENGUA_INDIG: [0 1 2]\n",
      "\n",
      "INDIGENA: [0 1 2]\n",
      "\n",
      "DIABETES: [-1  1  2]\n",
      "\n",
      "EPOC: [-1  1  2]\n",
      "\n",
      "ASMA: [-1  1  2]\n",
      "\n",
      "INMUSUPR: [-1  1  2]\n",
      "\n",
      "HIPERTENSION: [-1  1  2]\n",
      "\n",
      "OTRA_COM: [-1  1  2]\n",
      "\n",
      "CARDIOVASCULAR: [-1  1  2]\n",
      "\n",
      "OBESIDAD: [-1  1  2]\n",
      "\n",
      "RENAL_CRONICA: [-1  1  2]\n",
      "\n",
      "TABAQUISMO: [-1  1  2]\n",
      "\n",
      "OTRO_CASO: [0 1 2]\n",
      "\n",
      "RESULTADO_LAB: [-2  1  2  4]\n",
      "\n",
      "RESULTADO_ANTIGENO: [-2  1  2]\n",
      "\n",
      "MIGRANTE: [0 1 2]\n",
      "\n",
      "UCI: [-2  0  1  2]\n",
      "\n"
     ]
    }
   ],
   "source": [
    "# Mapear los valores 99 a 0, 98 a -1 y 97 a -2\n",
    "for columna in columnas_con_valores:\n",
    "    df_transformed[columna].replace({99:0, 98:-1, 97:-2}, inplace=True)\n",
    "    print(f\"{columna}: {np.sort(df_transformed[columna].unique())}\\n\")"
   ]
  },
  {
   "cell_type": "markdown",
   "metadata": {},
   "source": [
    "### Inspeccionar el nuevo Dataframe"
   ]
  },
  {
   "cell_type": "code",
   "execution_count": 35,
   "metadata": {
    "tags": []
   },
   "outputs": [
    {
     "data": {
      "text/html": [
       "<div>\n",
       "<style scoped>\n",
       "    .dataframe tbody tr th:only-of-type {\n",
       "        vertical-align: middle;\n",
       "    }\n",
       "\n",
       "    .dataframe tbody tr th {\n",
       "        vertical-align: top;\n",
       "    }\n",
       "\n",
       "    .dataframe thead th {\n",
       "        text-align: right;\n",
       "    }\n",
       "</style>\n",
       "<table border=\"1\" class=\"dataframe\">\n",
       "  <thead>\n",
       "    <tr style=\"text-align: right;\">\n",
       "      <th></th>\n",
       "      <th>ORIGEN</th>\n",
       "      <th>SECTOR</th>\n",
       "      <th>ENTIDAD_UM</th>\n",
       "      <th>SEXO</th>\n",
       "      <th>ENTIDAD_NAC</th>\n",
       "      <th>ENTIDAD_RES</th>\n",
       "      <th>MUNICIPIO_RES</th>\n",
       "      <th>TIPO_PACIENTE</th>\n",
       "      <th>INTUBADO</th>\n",
       "      <th>NEUMONIA</th>\n",
       "      <th>...</th>\n",
       "      <th>DEFUNCION</th>\n",
       "      <th>AÑO_ACTUALIZACION</th>\n",
       "      <th>MES_ACTUALIZACION</th>\n",
       "      <th>DIA_ACTUALIZACION</th>\n",
       "      <th>AÑO_INGRESO</th>\n",
       "      <th>MES_INGRESO</th>\n",
       "      <th>DIA_INGRESO</th>\n",
       "      <th>AÑO_SINTOMAS</th>\n",
       "      <th>MES_SINTOMAS</th>\n",
       "      <th>DIA_SINTOMAS</th>\n",
       "    </tr>\n",
       "  </thead>\n",
       "  <tbody>\n",
       "    <tr>\n",
       "      <th>0</th>\n",
       "      <td>2</td>\n",
       "      <td>12</td>\n",
       "      <td>9</td>\n",
       "      <td>2</td>\n",
       "      <td>9</td>\n",
       "      <td>9</td>\n",
       "      <td>9</td>\n",
       "      <td>1</td>\n",
       "      <td>-2</td>\n",
       "      <td>2</td>\n",
       "      <td>...</td>\n",
       "      <td>2</td>\n",
       "      <td>2024</td>\n",
       "      <td>4</td>\n",
       "      <td>23</td>\n",
       "      <td>2023</td>\n",
       "      <td>2</td>\n",
       "      <td>26</td>\n",
       "      <td>2023</td>\n",
       "      <td>2</td>\n",
       "      <td>22</td>\n",
       "    </tr>\n",
       "    <tr>\n",
       "      <th>1</th>\n",
       "      <td>2</td>\n",
       "      <td>6</td>\n",
       "      <td>5</td>\n",
       "      <td>1</td>\n",
       "      <td>5</td>\n",
       "      <td>5</td>\n",
       "      <td>28</td>\n",
       "      <td>1</td>\n",
       "      <td>-2</td>\n",
       "      <td>2</td>\n",
       "      <td>...</td>\n",
       "      <td>2</td>\n",
       "      <td>2024</td>\n",
       "      <td>4</td>\n",
       "      <td>23</td>\n",
       "      <td>2023</td>\n",
       "      <td>3</td>\n",
       "      <td>24</td>\n",
       "      <td>2023</td>\n",
       "      <td>3</td>\n",
       "      <td>19</td>\n",
       "    </tr>\n",
       "    <tr>\n",
       "      <th>2</th>\n",
       "      <td>1</td>\n",
       "      <td>12</td>\n",
       "      <td>9</td>\n",
       "      <td>1</td>\n",
       "      <td>9</td>\n",
       "      <td>9</td>\n",
       "      <td>12</td>\n",
       "      <td>1</td>\n",
       "      <td>-2</td>\n",
       "      <td>2</td>\n",
       "      <td>...</td>\n",
       "      <td>2</td>\n",
       "      <td>2024</td>\n",
       "      <td>4</td>\n",
       "      <td>23</td>\n",
       "      <td>2023</td>\n",
       "      <td>3</td>\n",
       "      <td>2</td>\n",
       "      <td>2023</td>\n",
       "      <td>3</td>\n",
       "      <td>1</td>\n",
       "    </tr>\n",
       "    <tr>\n",
       "      <th>3</th>\n",
       "      <td>2</td>\n",
       "      <td>12</td>\n",
       "      <td>16</td>\n",
       "      <td>2</td>\n",
       "      <td>16</td>\n",
       "      <td>16</td>\n",
       "      <td>41</td>\n",
       "      <td>1</td>\n",
       "      <td>-2</td>\n",
       "      <td>2</td>\n",
       "      <td>...</td>\n",
       "      <td>2</td>\n",
       "      <td>2024</td>\n",
       "      <td>4</td>\n",
       "      <td>23</td>\n",
       "      <td>2023</td>\n",
       "      <td>3</td>\n",
       "      <td>9</td>\n",
       "      <td>2023</td>\n",
       "      <td>3</td>\n",
       "      <td>6</td>\n",
       "    </tr>\n",
       "    <tr>\n",
       "      <th>4</th>\n",
       "      <td>2</td>\n",
       "      <td>12</td>\n",
       "      <td>3</td>\n",
       "      <td>1</td>\n",
       "      <td>15</td>\n",
       "      <td>3</td>\n",
       "      <td>3</td>\n",
       "      <td>1</td>\n",
       "      <td>-2</td>\n",
       "      <td>2</td>\n",
       "      <td>...</td>\n",
       "      <td>2</td>\n",
       "      <td>2024</td>\n",
       "      <td>4</td>\n",
       "      <td>23</td>\n",
       "      <td>2023</td>\n",
       "      <td>6</td>\n",
       "      <td>12</td>\n",
       "      <td>2023</td>\n",
       "      <td>6</td>\n",
       "      <td>9</td>\n",
       "    </tr>\n",
       "    <tr>\n",
       "      <th>...</th>\n",
       "      <td>...</td>\n",
       "      <td>...</td>\n",
       "      <td>...</td>\n",
       "      <td>...</td>\n",
       "      <td>...</td>\n",
       "      <td>...</td>\n",
       "      <td>...</td>\n",
       "      <td>...</td>\n",
       "      <td>...</td>\n",
       "      <td>...</td>\n",
       "      <td>...</td>\n",
       "      <td>...</td>\n",
       "      <td>...</td>\n",
       "      <td>...</td>\n",
       "      <td>...</td>\n",
       "      <td>...</td>\n",
       "      <td>...</td>\n",
       "      <td>...</td>\n",
       "      <td>...</td>\n",
       "      <td>...</td>\n",
       "      <td>...</td>\n",
       "    </tr>\n",
       "    <tr>\n",
       "      <th>1175938</th>\n",
       "      <td>2</td>\n",
       "      <td>12</td>\n",
       "      <td>15</td>\n",
       "      <td>2</td>\n",
       "      <td>30</td>\n",
       "      <td>15</td>\n",
       "      <td>33</td>\n",
       "      <td>1</td>\n",
       "      <td>-2</td>\n",
       "      <td>0</td>\n",
       "      <td>...</td>\n",
       "      <td>2</td>\n",
       "      <td>2024</td>\n",
       "      <td>4</td>\n",
       "      <td>23</td>\n",
       "      <td>2023</td>\n",
       "      <td>8</td>\n",
       "      <td>30</td>\n",
       "      <td>2023</td>\n",
       "      <td>8</td>\n",
       "      <td>30</td>\n",
       "    </tr>\n",
       "    <tr>\n",
       "      <th>1175939</th>\n",
       "      <td>2</td>\n",
       "      <td>3</td>\n",
       "      <td>15</td>\n",
       "      <td>1</td>\n",
       "      <td>20</td>\n",
       "      <td>15</td>\n",
       "      <td>0</td>\n",
       "      <td>1</td>\n",
       "      <td>-2</td>\n",
       "      <td>0</td>\n",
       "      <td>...</td>\n",
       "      <td>2</td>\n",
       "      <td>2024</td>\n",
       "      <td>4</td>\n",
       "      <td>23</td>\n",
       "      <td>2023</td>\n",
       "      <td>8</td>\n",
       "      <td>30</td>\n",
       "      <td>2023</td>\n",
       "      <td>8</td>\n",
       "      <td>30</td>\n",
       "    </tr>\n",
       "    <tr>\n",
       "      <th>1175940</th>\n",
       "      <td>2</td>\n",
       "      <td>12</td>\n",
       "      <td>15</td>\n",
       "      <td>1</td>\n",
       "      <td>9</td>\n",
       "      <td>15</td>\n",
       "      <td>0</td>\n",
       "      <td>1</td>\n",
       "      <td>-2</td>\n",
       "      <td>0</td>\n",
       "      <td>...</td>\n",
       "      <td>2</td>\n",
       "      <td>2024</td>\n",
       "      <td>4</td>\n",
       "      <td>23</td>\n",
       "      <td>2023</td>\n",
       "      <td>8</td>\n",
       "      <td>30</td>\n",
       "      <td>2023</td>\n",
       "      <td>8</td>\n",
       "      <td>30</td>\n",
       "    </tr>\n",
       "    <tr>\n",
       "      <th>1175941</th>\n",
       "      <td>2</td>\n",
       "      <td>3</td>\n",
       "      <td>15</td>\n",
       "      <td>2</td>\n",
       "      <td>15</td>\n",
       "      <td>15</td>\n",
       "      <td>0</td>\n",
       "      <td>1</td>\n",
       "      <td>-2</td>\n",
       "      <td>0</td>\n",
       "      <td>...</td>\n",
       "      <td>2</td>\n",
       "      <td>2024</td>\n",
       "      <td>4</td>\n",
       "      <td>23</td>\n",
       "      <td>2023</td>\n",
       "      <td>8</td>\n",
       "      <td>31</td>\n",
       "      <td>2023</td>\n",
       "      <td>8</td>\n",
       "      <td>31</td>\n",
       "    </tr>\n",
       "    <tr>\n",
       "      <th>1175942</th>\n",
       "      <td>2</td>\n",
       "      <td>3</td>\n",
       "      <td>15</td>\n",
       "      <td>1</td>\n",
       "      <td>15</td>\n",
       "      <td>15</td>\n",
       "      <td>0</td>\n",
       "      <td>1</td>\n",
       "      <td>-2</td>\n",
       "      <td>0</td>\n",
       "      <td>...</td>\n",
       "      <td>2</td>\n",
       "      <td>2024</td>\n",
       "      <td>4</td>\n",
       "      <td>23</td>\n",
       "      <td>2023</td>\n",
       "      <td>9</td>\n",
       "      <td>4</td>\n",
       "      <td>2023</td>\n",
       "      <td>9</td>\n",
       "      <td>4</td>\n",
       "    </tr>\n",
       "  </tbody>\n",
       "</table>\n",
       "<p>1175943 rows × 45 columns</p>\n",
       "</div>"
      ],
      "text/plain": [
       "         ORIGEN  SECTOR  ENTIDAD_UM  SEXO  ENTIDAD_NAC  ENTIDAD_RES  \\\n",
       "0             2      12           9     2            9            9   \n",
       "1             2       6           5     1            5            5   \n",
       "2             1      12           9     1            9            9   \n",
       "3             2      12          16     2           16           16   \n",
       "4             2      12           3     1           15            3   \n",
       "...         ...     ...         ...   ...          ...          ...   \n",
       "1175938       2      12          15     2           30           15   \n",
       "1175939       2       3          15     1           20           15   \n",
       "1175940       2      12          15     1            9           15   \n",
       "1175941       2       3          15     2           15           15   \n",
       "1175942       2       3          15     1           15           15   \n",
       "\n",
       "         MUNICIPIO_RES  TIPO_PACIENTE  INTUBADO  NEUMONIA  ...  DEFUNCION  \\\n",
       "0                    9              1        -2         2  ...          2   \n",
       "1                   28              1        -2         2  ...          2   \n",
       "2                   12              1        -2         2  ...          2   \n",
       "3                   41              1        -2         2  ...          2   \n",
       "4                    3              1        -2         2  ...          2   \n",
       "...                ...            ...       ...       ...  ...        ...   \n",
       "1175938             33              1        -2         0  ...          2   \n",
       "1175939              0              1        -2         0  ...          2   \n",
       "1175940              0              1        -2         0  ...          2   \n",
       "1175941              0              1        -2         0  ...          2   \n",
       "1175942              0              1        -2         0  ...          2   \n",
       "\n",
       "         AÑO_ACTUALIZACION  MES_ACTUALIZACION  DIA_ACTUALIZACION  AÑO_INGRESO  \\\n",
       "0                     2024                  4                 23         2023   \n",
       "1                     2024                  4                 23         2023   \n",
       "2                     2024                  4                 23         2023   \n",
       "3                     2024                  4                 23         2023   \n",
       "4                     2024                  4                 23         2023   \n",
       "...                    ...                ...                ...          ...   \n",
       "1175938               2024                  4                 23         2023   \n",
       "1175939               2024                  4                 23         2023   \n",
       "1175940               2024                  4                 23         2023   \n",
       "1175941               2024                  4                 23         2023   \n",
       "1175942               2024                  4                 23         2023   \n",
       "\n",
       "         MES_INGRESO  DIA_INGRESO  AÑO_SINTOMAS  MES_SINTOMAS  DIA_SINTOMAS  \n",
       "0                  2           26          2023             2            22  \n",
       "1                  3           24          2023             3            19  \n",
       "2                  3            2          2023             3             1  \n",
       "3                  3            9          2023             3             6  \n",
       "4                  6           12          2023             6             9  \n",
       "...              ...          ...           ...           ...           ...  \n",
       "1175938            8           30          2023             8            30  \n",
       "1175939            8           30          2023             8            30  \n",
       "1175940            8           30          2023             8            30  \n",
       "1175941            8           31          2023             8            31  \n",
       "1175942            9            4          2023             9             4  \n",
       "\n",
       "[1175943 rows x 45 columns]"
      ]
     },
     "execution_count": 35,
     "metadata": {},
     "output_type": "execute_result"
    }
   ],
   "source": [
    "df_transformed"
   ]
  },
  {
   "cell_type": "code",
   "execution_count": 36,
   "metadata": {},
   "outputs": [
    {
     "name": "stdout",
     "output_type": "stream",
     "text": [
      "ORIGEN                   int64\n",
      "SECTOR                   int64\n",
      "ENTIDAD_UM               int64\n",
      "SEXO                     int64\n",
      "ENTIDAD_NAC              int64\n",
      "ENTIDAD_RES              int64\n",
      "MUNICIPIO_RES            int64\n",
      "TIPO_PACIENTE            int64\n",
      "INTUBADO                 int64\n",
      "NEUMONIA                 int64\n",
      "EDAD                     int64\n",
      "NACIONALIDAD             int64\n",
      "EMBARAZO                 int64\n",
      "HABLA_LENGUA_INDIG       int64\n",
      "INDIGENA                 int64\n",
      "DIABETES                 int64\n",
      "EPOC                     int64\n",
      "ASMA                     int64\n",
      "INMUSUPR                 int64\n",
      "HIPERTENSION             int64\n",
      "OTRA_COM                 int64\n",
      "CARDIOVASCULAR           int64\n",
      "OBESIDAD                 int64\n",
      "RENAL_CRONICA            int64\n",
      "TABAQUISMO               int64\n",
      "OTRO_CASO                int64\n",
      "TOMA_MUESTRA_LAB         int64\n",
      "RESULTADO_LAB            int64\n",
      "TOMA_MUESTRA_ANTIGENO    int64\n",
      "RESULTADO_ANTIGENO       int64\n",
      "CLASIFICACION_FINAL      int64\n",
      "MIGRANTE                 int64\n",
      "PAIS_NACIONALIDAD        int32\n",
      "PAIS_ORIGEN              int32\n",
      "UCI                      int64\n",
      "DEFUNCION                int32\n",
      "AÑO_ACTUALIZACION        int32\n",
      "MES_ACTUALIZACION        int32\n",
      "DIA_ACTUALIZACION        int32\n",
      "AÑO_INGRESO              int32\n",
      "MES_INGRESO              int32\n",
      "DIA_INGRESO              int32\n",
      "AÑO_SINTOMAS             int32\n",
      "MES_SINTOMAS             int32\n",
      "DIA_SINTOMAS             int32\n",
      "dtype: object\n"
     ]
    }
   ],
   "source": [
    "# Inspeccionar las columnas originales\n",
    "with pd.option_context('display.max_rows', None, 'display.max_columns', None):\n",
    "    print(df_transformed.dtypes)"
   ]
  },
  {
   "cell_type": "markdown",
   "metadata": {},
   "source": [
    "## Almacenamiento de los datos procesados"
   ]
  },
  {
   "cell_type": "code",
   "execution_count": 37,
   "metadata": {
    "tags": []
   },
   "outputs": [],
   "source": [
    "# Ruta de la carpeta donde se guardaran los datos procesadoos\n",
    "folder_path = '../../data/processed/'\n",
    "\n",
    "# Verificar si la carpeta no existe y crearla si es necesario\n",
    "if not os.path.exists(folder_path):\n",
    "    os.makedirs(folder_path)\n",
    "\n",
    "# Ahora puedes guardar el DataFrame en formato Parquet\n",
    "df_transformed.to_parquet(folder_path + 'COVID19MEXICO_Processed.parquet', index=False)"
   ]
  }
 ],
 "metadata": {
  "colab": {
   "provenance": []
  },
  "kernelspec": {
   "display_name": "Python 3 (ipykernel)",
   "language": "python",
   "name": "python3"
  },
  "language_info": {
   "codemirror_mode": {
    "name": "ipython",
    "version": 3
   },
   "file_extension": ".py",
   "mimetype": "text/x-python",
   "name": "python",
   "nbconvert_exporter": "python",
   "pygments_lexer": "ipython3",
   "version": "3.12.3"
  }
 },
 "nbformat": 4,
 "nbformat_minor": 4
}
