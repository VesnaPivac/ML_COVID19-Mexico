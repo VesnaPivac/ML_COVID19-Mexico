{
  "cells": [
    {
      "cell_type": "markdown",
      "metadata": {
        "id": "GKu_ATtVbgZK"
      },
      "source": [
        "# Modelos aplicando MLFlow"
      ]
    },
    {
      "cell_type": "code",
      "source": [
        "!pip install mlflow dagshub datetime"
      ],
      "metadata": {
        "id": "8Oyg8Segboty",
        "colab": {
          "base_uri": "https://localhost:8080/"
        },
        "outputId": "68613b51-1e7b-4cec-c994-3fc10b655fc7"
      },
      "execution_count": 1,
      "outputs": [
        {
          "output_type": "stream",
          "name": "stdout",
          "text": [
            "Collecting mlflow\n",
            "  Downloading mlflow-2.13.1-py3-none-any.whl (25.0 MB)\n",
            "\u001b[2K     \u001b[90m━━━━━━━━━━━━━━━━━━━━━━━━━━━━━━━━━━━━━━━━\u001b[0m \u001b[32m25.0/25.0 MB\u001b[0m \u001b[31m61.2 MB/s\u001b[0m eta \u001b[36m0:00:00\u001b[0m\n",
            "\u001b[?25hCollecting dagshub\n",
            "  Downloading dagshub-0.3.27-py3-none-any.whl (232 kB)\n",
            "\u001b[2K     \u001b[90m━━━━━━━━━━━━━━━━━━━━━━━━━━━━━━━━━━━━━━━━\u001b[0m \u001b[32m232.7/232.7 kB\u001b[0m \u001b[31m24.6 MB/s\u001b[0m eta \u001b[36m0:00:00\u001b[0m\n",
            "\u001b[?25hCollecting datetime\n",
            "  Downloading DateTime-5.5-py3-none-any.whl (52 kB)\n",
            "\u001b[2K     \u001b[90m━━━━━━━━━━━━━━━━━━━━━━━━━━━━━━━━━━━━━━━━\u001b[0m \u001b[32m52.6/52.6 kB\u001b[0m \u001b[31m6.5 MB/s\u001b[0m eta \u001b[36m0:00:00\u001b[0m\n",
            "\u001b[?25hRequirement already satisfied: Flask<4 in /usr/local/lib/python3.10/dist-packages (from mlflow) (2.2.5)\n",
            "Collecting alembic!=1.10.0,<2 (from mlflow)\n",
            "  Downloading alembic-1.13.1-py3-none-any.whl (233 kB)\n",
            "\u001b[2K     \u001b[90m━━━━━━━━━━━━━━━━━━━━━━━━━━━━━━━━━━━━━━━━\u001b[0m \u001b[32m233.4/233.4 kB\u001b[0m \u001b[31m21.7 MB/s\u001b[0m eta \u001b[36m0:00:00\u001b[0m\n",
            "\u001b[?25hRequirement already satisfied: cachetools<6,>=5.0.0 in /usr/local/lib/python3.10/dist-packages (from mlflow) (5.3.3)\n",
            "Requirement already satisfied: click<9,>=7.0 in /usr/local/lib/python3.10/dist-packages (from mlflow) (8.1.7)\n",
            "Requirement already satisfied: cloudpickle<4 in /usr/local/lib/python3.10/dist-packages (from mlflow) (2.2.1)\n",
            "Collecting docker<8,>=4.0.0 (from mlflow)\n",
            "  Downloading docker-7.1.0-py3-none-any.whl (147 kB)\n",
            "\u001b[2K     \u001b[90m━━━━━━━━━━━━━━━━━━━━━━━━━━━━━━━━━━━━━━━━\u001b[0m \u001b[32m147.8/147.8 kB\u001b[0m \u001b[31m21.7 MB/s\u001b[0m eta \u001b[36m0:00:00\u001b[0m\n",
            "\u001b[?25hRequirement already satisfied: entrypoints<1 in /usr/local/lib/python3.10/dist-packages (from mlflow) (0.4)\n",
            "Collecting gitpython<4,>=3.1.9 (from mlflow)\n",
            "  Downloading GitPython-3.1.43-py3-none-any.whl (207 kB)\n",
            "\u001b[2K     \u001b[90m━━━━━━━━━━━━━━━━━━━━━━━━━━━━━━━━━━━━━━━━\u001b[0m \u001b[32m207.3/207.3 kB\u001b[0m \u001b[31m23.7 MB/s\u001b[0m eta \u001b[36m0:00:00\u001b[0m\n",
            "\u001b[?25hCollecting graphene<4 (from mlflow)\n",
            "  Downloading graphene-3.3-py2.py3-none-any.whl (128 kB)\n",
            "\u001b[2K     \u001b[90m━━━━━━━━━━━━━━━━━━━━━━━━━━━━━━━━━━━━━━━━\u001b[0m \u001b[32m128.2/128.2 kB\u001b[0m \u001b[31m14.7 MB/s\u001b[0m eta \u001b[36m0:00:00\u001b[0m\n",
            "\u001b[?25hRequirement already satisfied: importlib-metadata!=4.7.0,<8,>=3.7.0 in /usr/local/lib/python3.10/dist-packages (from mlflow) (7.1.0)\n",
            "Requirement already satisfied: markdown<4,>=3.3 in /usr/local/lib/python3.10/dist-packages (from mlflow) (3.6)\n",
            "Requirement already satisfied: matplotlib<4 in /usr/local/lib/python3.10/dist-packages (from mlflow) (3.7.1)\n",
            "Requirement already satisfied: numpy<2 in /usr/local/lib/python3.10/dist-packages (from mlflow) (1.25.2)\n",
            "Collecting opentelemetry-api<3,>=1.0.0 (from mlflow)\n",
            "  Downloading opentelemetry_api-1.25.0-py3-none-any.whl (59 kB)\n",
            "\u001b[2K     \u001b[90m━━━━━━━━━━━━━━━━━━━━━━━━━━━━━━━━━━━━━━━━\u001b[0m \u001b[32m59.9/59.9 kB\u001b[0m \u001b[31m8.8 MB/s\u001b[0m eta \u001b[36m0:00:00\u001b[0m\n",
            "\u001b[?25hCollecting opentelemetry-sdk<3,>=1.0.0 (from mlflow)\n",
            "  Downloading opentelemetry_sdk-1.25.0-py3-none-any.whl (107 kB)\n",
            "\u001b[2K     \u001b[90m━━━━━━━━━━━━━━━━━━━━━━━━━━━━━━━━━━━━━━━━\u001b[0m \u001b[32m107.0/107.0 kB\u001b[0m \u001b[31m12.8 MB/s\u001b[0m eta \u001b[36m0:00:00\u001b[0m\n",
            "\u001b[?25hRequirement already satisfied: packaging<25 in /usr/local/lib/python3.10/dist-packages (from mlflow) (24.0)\n",
            "Requirement already satisfied: pandas<3 in /usr/local/lib/python3.10/dist-packages (from mlflow) (2.0.3)\n",
            "Requirement already satisfied: protobuf<5,>=3.12.0 in /usr/local/lib/python3.10/dist-packages (from mlflow) (3.20.3)\n",
            "Requirement already satisfied: pyarrow<16,>=4.0.0 in /usr/local/lib/python3.10/dist-packages (from mlflow) (14.0.2)\n",
            "Requirement already satisfied: pytz<2025 in /usr/local/lib/python3.10/dist-packages (from mlflow) (2023.4)\n",
            "Requirement already satisfied: pyyaml<7,>=5.1 in /usr/local/lib/python3.10/dist-packages (from mlflow) (6.0.1)\n",
            "Collecting querystring-parser<2 (from mlflow)\n",
            "  Downloading querystring_parser-1.2.4-py2.py3-none-any.whl (7.9 kB)\n",
            "Requirement already satisfied: requests<3,>=2.17.3 in /usr/local/lib/python3.10/dist-packages (from mlflow) (2.31.0)\n",
            "Requirement already satisfied: scikit-learn<2 in /usr/local/lib/python3.10/dist-packages (from mlflow) (1.2.2)\n",
            "Requirement already satisfied: scipy<2 in /usr/local/lib/python3.10/dist-packages (from mlflow) (1.11.4)\n",
            "Requirement already satisfied: sqlalchemy<3,>=1.4.0 in /usr/local/lib/python3.10/dist-packages (from mlflow) (2.0.30)\n",
            "Requirement already satisfied: sqlparse<1,>=0.4.0 in /usr/local/lib/python3.10/dist-packages (from mlflow) (0.5.0)\n",
            "Requirement already satisfied: Jinja2<4,>=2.11 in /usr/local/lib/python3.10/dist-packages (from mlflow) (3.1.4)\n",
            "Collecting gunicorn<23 (from mlflow)\n",
            "  Downloading gunicorn-22.0.0-py3-none-any.whl (84 kB)\n",
            "\u001b[2K     \u001b[90m━━━━━━━━━━━━━━━━━━━━━━━━━━━━━━━━━━━━━━━━\u001b[0m \u001b[32m84.4/84.4 kB\u001b[0m \u001b[31m13.0 MB/s\u001b[0m eta \u001b[36m0:00:00\u001b[0m\n",
            "\u001b[?25hCollecting fusepy>=3 (from dagshub)\n",
            "  Downloading fusepy-3.0.1.tar.gz (11 kB)\n",
            "  Preparing metadata (setup.py) ... \u001b[?25l\u001b[?25hdone\n",
            "Collecting appdirs>=1.4.4 (from dagshub)\n",
            "  Downloading appdirs-1.4.4-py2.py3-none-any.whl (9.6 kB)\n",
            "Collecting httpx~=0.23.0 (from dagshub)\n",
            "  Downloading httpx-0.23.3-py3-none-any.whl (71 kB)\n",
            "\u001b[2K     \u001b[90m━━━━━━━━━━━━━━━━━━━━━━━━━━━━━━━━━━━━━━━━\u001b[0m \u001b[32m71.5/71.5 kB\u001b[0m \u001b[31m9.6 MB/s\u001b[0m eta \u001b[36m0:00:00\u001b[0m\n",
            "\u001b[?25hCollecting rich~=13.1.0 (from dagshub)\n",
            "  Downloading rich-13.1.0-py3-none-any.whl (238 kB)\n",
            "\u001b[2K     \u001b[90m━━━━━━━━━━━━━━━━━━━━━━━━━━━━━━━━━━━━━━━━\u001b[0m \u001b[32m238.4/238.4 kB\u001b[0m \u001b[31m27.9 MB/s\u001b[0m eta \u001b[36m0:00:00\u001b[0m\n",
            "\u001b[?25hCollecting dacite~=1.6.0 (from dagshub)\n",
            "  Downloading dacite-1.6.0-py3-none-any.whl (12 kB)\n",
            "Collecting tenacity~=8.2.2 (from dagshub)\n",
            "  Downloading tenacity-8.2.3-py3-none-any.whl (24 kB)\n",
            "Collecting gql[requests] (from dagshub)\n",
            "  Downloading gql-3.5.0-py2.py3-none-any.whl (74 kB)\n",
            "\u001b[2K     \u001b[90m━━━━━━━━━━━━━━━━━━━━━━━━━━━━━━━━━━━━━━━━\u001b[0m \u001b[32m74.0/74.0 kB\u001b[0m \u001b[31m8.9 MB/s\u001b[0m eta \u001b[36m0:00:00\u001b[0m\n",
            "\u001b[?25hCollecting dataclasses-json (from dagshub)\n",
            "  Downloading dataclasses_json-0.6.6-py3-none-any.whl (28 kB)\n",
            "Collecting treelib~=1.6.4 (from dagshub)\n",
            "  Downloading treelib-1.6.4-py3-none-any.whl (18 kB)\n",
            "Collecting pathvalidate~=3.0.0 (from dagshub)\n",
            "  Downloading pathvalidate-3.0.0-py3-none-any.whl (21 kB)\n",
            "Requirement already satisfied: python-dateutil in /usr/local/lib/python3.10/dist-packages (from dagshub) (2.8.2)\n",
            "Collecting boto3 (from dagshub)\n",
            "  Downloading boto3-1.34.117-py3-none-any.whl (139 kB)\n",
            "\u001b[2K     \u001b[90m━━━━━━━━━━━━━━━━━━━━━━━━━━━━━━━━━━━━━━━━\u001b[0m \u001b[32m139.3/139.3 kB\u001b[0m \u001b[31m7.9 MB/s\u001b[0m eta \u001b[36m0:00:00\u001b[0m\n",
            "\u001b[?25hCollecting zope.interface (from datetime)\n",
            "  Downloading zope.interface-6.4.post2-cp310-cp310-manylinux_2_5_x86_64.manylinux1_x86_64.manylinux_2_17_x86_64.manylinux2014_x86_64.whl (247 kB)\n",
            "\u001b[2K     \u001b[90m━━━━━━━━━━━━━━━━━━━━━━━━━━━━━━━━━━━━━━━━\u001b[0m \u001b[32m247.8/247.8 kB\u001b[0m \u001b[31m13.5 MB/s\u001b[0m eta \u001b[36m0:00:00\u001b[0m\n",
            "\u001b[?25hCollecting Mako (from alembic!=1.10.0,<2->mlflow)\n",
            "  Downloading Mako-1.3.5-py3-none-any.whl (78 kB)\n",
            "\u001b[2K     \u001b[90m━━━━━━━━━━━━━━━━━━━━━━━━━━━━━━━━━━━━━━━━\u001b[0m \u001b[32m78.6/78.6 kB\u001b[0m \u001b[31m6.8 MB/s\u001b[0m eta \u001b[36m0:00:00\u001b[0m\n",
            "\u001b[?25hRequirement already satisfied: typing-extensions>=4 in /usr/local/lib/python3.10/dist-packages (from alembic!=1.10.0,<2->mlflow) (4.11.0)\n",
            "Requirement already satisfied: urllib3>=1.26.0 in /usr/local/lib/python3.10/dist-packages (from docker<8,>=4.0.0->mlflow) (2.0.7)\n",
            "Requirement already satisfied: Werkzeug>=2.2.2 in /usr/local/lib/python3.10/dist-packages (from Flask<4->mlflow) (3.0.3)\n",
            "Requirement already satisfied: itsdangerous>=2.0 in /usr/local/lib/python3.10/dist-packages (from Flask<4->mlflow) (2.2.0)\n",
            "Collecting gitdb<5,>=4.0.1 (from gitpython<4,>=3.1.9->mlflow)\n",
            "  Downloading gitdb-4.0.11-py3-none-any.whl (62 kB)\n",
            "\u001b[2K     \u001b[90m━━━━━━━━━━━━━━━━━━━━━━━━━━━━━━━━━━━━━━━━\u001b[0m \u001b[32m62.7/62.7 kB\u001b[0m \u001b[31m5.7 MB/s\u001b[0m eta \u001b[36m0:00:00\u001b[0m\n",
            "\u001b[?25hCollecting graphql-core<3.3,>=3.1 (from graphene<4->mlflow)\n",
            "  Downloading graphql_core-3.2.3-py3-none-any.whl (202 kB)\n",
            "\u001b[2K     \u001b[90m━━━━━━━━━━━━━━━━━━━━━━━━━━━━━━━━━━━━━━━━\u001b[0m \u001b[32m202.9/202.9 kB\u001b[0m \u001b[31m25.4 MB/s\u001b[0m eta \u001b[36m0:00:00\u001b[0m\n",
            "\u001b[?25hCollecting graphql-relay<3.3,>=3.1 (from graphene<4->mlflow)\n",
            "  Downloading graphql_relay-3.2.0-py3-none-any.whl (16 kB)\n",
            "Collecting aniso8601<10,>=8 (from graphene<4->mlflow)\n",
            "  Downloading aniso8601-9.0.1-py2.py3-none-any.whl (52 kB)\n",
            "\u001b[2K     \u001b[90m━━━━━━━━━━━━━━━━━━━━━━━━━━━━━━━━━━━━━━━━\u001b[0m \u001b[32m52.8/52.8 kB\u001b[0m \u001b[31m8.2 MB/s\u001b[0m eta \u001b[36m0:00:00\u001b[0m\n",
            "\u001b[?25hRequirement already satisfied: certifi in /usr/local/lib/python3.10/dist-packages (from httpx~=0.23.0->dagshub) (2024.2.2)\n",
            "Collecting httpcore<0.17.0,>=0.15.0 (from httpx~=0.23.0->dagshub)\n",
            "  Downloading httpcore-0.16.3-py3-none-any.whl (69 kB)\n",
            "\u001b[2K     \u001b[90m━━━━━━━━━━━━━━━━━━━━━━━━━━━━━━━━━━━━━━━━\u001b[0m \u001b[32m69.6/69.6 kB\u001b[0m \u001b[31m8.6 MB/s\u001b[0m eta \u001b[36m0:00:00\u001b[0m\n",
            "\u001b[?25hCollecting rfc3986[idna2008]<2,>=1.3 (from httpx~=0.23.0->dagshub)\n",
            "  Downloading rfc3986-1.5.0-py2.py3-none-any.whl (31 kB)\n",
            "Requirement already satisfied: sniffio in /usr/local/lib/python3.10/dist-packages (from httpx~=0.23.0->dagshub) (1.3.1)\n",
            "Requirement already satisfied: zipp>=0.5 in /usr/local/lib/python3.10/dist-packages (from importlib-metadata!=4.7.0,<8,>=3.7.0->mlflow) (3.18.2)\n",
            "Requirement already satisfied: MarkupSafe>=2.0 in /usr/local/lib/python3.10/dist-packages (from Jinja2<4,>=2.11->mlflow) (2.1.5)\n",
            "Requirement already satisfied: contourpy>=1.0.1 in /usr/local/lib/python3.10/dist-packages (from matplotlib<4->mlflow) (1.2.1)\n",
            "Requirement already satisfied: cycler>=0.10 in /usr/local/lib/python3.10/dist-packages (from matplotlib<4->mlflow) (0.12.1)\n",
            "Requirement already satisfied: fonttools>=4.22.0 in /usr/local/lib/python3.10/dist-packages (from matplotlib<4->mlflow) (4.51.0)\n",
            "Requirement already satisfied: kiwisolver>=1.0.1 in /usr/local/lib/python3.10/dist-packages (from matplotlib<4->mlflow) (1.4.5)\n",
            "Requirement already satisfied: pillow>=6.2.0 in /usr/local/lib/python3.10/dist-packages (from matplotlib<4->mlflow) (9.4.0)\n",
            "Requirement already satisfied: pyparsing>=2.3.1 in /usr/local/lib/python3.10/dist-packages (from matplotlib<4->mlflow) (3.1.2)\n",
            "Collecting deprecated>=1.2.6 (from opentelemetry-api<3,>=1.0.0->mlflow)\n",
            "  Downloading Deprecated-1.2.14-py2.py3-none-any.whl (9.6 kB)\n",
            "Collecting opentelemetry-semantic-conventions==0.46b0 (from opentelemetry-sdk<3,>=1.0.0->mlflow)\n",
            "  Downloading opentelemetry_semantic_conventions-0.46b0-py3-none-any.whl (130 kB)\n",
            "\u001b[2K     \u001b[90m━━━━━━━━━━━━━━━━━━━━━━━━━━━━━━━━━━━━━━━━\u001b[0m \u001b[32m130.5/130.5 kB\u001b[0m \u001b[31m17.3 MB/s\u001b[0m eta \u001b[36m0:00:00\u001b[0m\n",
            "\u001b[?25hRequirement already satisfied: tzdata>=2022.1 in /usr/local/lib/python3.10/dist-packages (from pandas<3->mlflow) (2024.1)\n",
            "Requirement already satisfied: six>=1.5 in /usr/local/lib/python3.10/dist-packages (from python-dateutil->dagshub) (1.16.0)\n",
            "Requirement already satisfied: charset-normalizer<4,>=2 in /usr/local/lib/python3.10/dist-packages (from requests<3,>=2.17.3->mlflow) (3.3.2)\n",
            "Requirement already satisfied: idna<4,>=2.5 in /usr/local/lib/python3.10/dist-packages (from requests<3,>=2.17.3->mlflow) (3.7)\n",
            "Collecting commonmark<0.10.0,>=0.9.0 (from rich~=13.1.0->dagshub)\n",
            "  Downloading commonmark-0.9.1-py2.py3-none-any.whl (51 kB)\n",
            "\u001b[2K     \u001b[90m━━━━━━━━━━━━━━━━━━━━━━━━━━━━━━━━━━━━━━━━\u001b[0m \u001b[32m51.1/51.1 kB\u001b[0m \u001b[31m6.3 MB/s\u001b[0m eta \u001b[36m0:00:00\u001b[0m\n",
            "\u001b[?25hRequirement already satisfied: pygments<3.0.0,>=2.6.0 in /usr/local/lib/python3.10/dist-packages (from rich~=13.1.0->dagshub) (2.16.1)\n",
            "Requirement already satisfied: joblib>=1.1.1 in /usr/local/lib/python3.10/dist-packages (from scikit-learn<2->mlflow) (1.4.2)\n",
            "Requirement already satisfied: threadpoolctl>=2.0.0 in /usr/local/lib/python3.10/dist-packages (from scikit-learn<2->mlflow) (3.5.0)\n",
            "Requirement already satisfied: greenlet!=0.4.17 in /usr/local/lib/python3.10/dist-packages (from sqlalchemy<3,>=1.4.0->mlflow) (3.0.3)\n",
            "Collecting botocore<1.35.0,>=1.34.117 (from boto3->dagshub)\n",
            "  Downloading botocore-1.34.117-py3-none-any.whl (12.3 MB)\n",
            "\u001b[2K     \u001b[90m━━━━━━━━━━━━━━━━━━━━━━━━━━━━━━━━━━━━━━━━\u001b[0m \u001b[32m12.3/12.3 MB\u001b[0m \u001b[31m88.3 MB/s\u001b[0m eta \u001b[36m0:00:00\u001b[0m\n",
            "\u001b[?25hCollecting jmespath<2.0.0,>=0.7.1 (from boto3->dagshub)\n",
            "  Downloading jmespath-1.0.1-py3-none-any.whl (20 kB)\n",
            "Collecting s3transfer<0.11.0,>=0.10.0 (from boto3->dagshub)\n",
            "  Downloading s3transfer-0.10.1-py3-none-any.whl (82 kB)\n",
            "\u001b[2K     \u001b[90m━━━━━━━━━━━━━━━━━━━━━━━━━━━━━━━━━━━━━━━━\u001b[0m \u001b[32m82.2/82.2 kB\u001b[0m \u001b[31m10.2 MB/s\u001b[0m eta \u001b[36m0:00:00\u001b[0m\n",
            "\u001b[?25hCollecting marshmallow<4.0.0,>=3.18.0 (from dataclasses-json->dagshub)\n",
            "  Downloading marshmallow-3.21.2-py3-none-any.whl (49 kB)\n",
            "\u001b[2K     \u001b[90m━━━━━━━━━━━━━━━━━━━━━━━━━━━━━━━━━━━━━━━━\u001b[0m \u001b[32m49.3/49.3 kB\u001b[0m \u001b[31m5.1 MB/s\u001b[0m eta \u001b[36m0:00:00\u001b[0m\n",
            "\u001b[?25hCollecting typing-inspect<1,>=0.4.0 (from dataclasses-json->dagshub)\n",
            "  Downloading typing_inspect-0.9.0-py3-none-any.whl (8.8 kB)\n",
            "Requirement already satisfied: yarl<2.0,>=1.6 in /usr/local/lib/python3.10/dist-packages (from gql[requests]->dagshub) (1.9.4)\n",
            "Collecting backoff<3.0,>=1.11.1 (from gql[requests]->dagshub)\n",
            "  Downloading backoff-2.2.1-py3-none-any.whl (15 kB)\n",
            "Requirement already satisfied: anyio<5,>=3.0 in /usr/local/lib/python3.10/dist-packages (from gql[requests]->dagshub) (3.7.1)\n",
            "Collecting requests-toolbelt<2,>=1.0.0 (from gql[requests]->dagshub)\n",
            "  Downloading requests_toolbelt-1.0.0-py2.py3-none-any.whl (54 kB)\n",
            "\u001b[2K     \u001b[90m━━━━━━━━━━━━━━━━━━━━━━━━━━━━━━━━━━━━━━━━\u001b[0m \u001b[32m54.5/54.5 kB\u001b[0m \u001b[31m8.8 MB/s\u001b[0m eta \u001b[36m0:00:00\u001b[0m\n",
            "\u001b[?25hRequirement already satisfied: setuptools in /usr/local/lib/python3.10/dist-packages (from zope.interface->datetime) (67.7.2)\n",
            "Requirement already satisfied: exceptiongroup in /usr/local/lib/python3.10/dist-packages (from anyio<5,>=3.0->gql[requests]->dagshub) (1.2.1)\n",
            "Requirement already satisfied: wrapt<2,>=1.10 in /usr/local/lib/python3.10/dist-packages (from deprecated>=1.2.6->opentelemetry-api<3,>=1.0.0->mlflow) (1.14.1)\n",
            "Collecting smmap<6,>=3.0.1 (from gitdb<5,>=4.0.1->gitpython<4,>=3.1.9->mlflow)\n",
            "  Downloading smmap-5.0.1-py3-none-any.whl (24 kB)\n",
            "Collecting h11<0.15,>=0.13 (from httpcore<0.17.0,>=0.15.0->httpx~=0.23.0->dagshub)\n",
            "  Downloading h11-0.14.0-py3-none-any.whl (58 kB)\n",
            "\u001b[2K     \u001b[90m━━━━━━━━━━━━━━━━━━━━━━━━━━━━━━━━━━━━━━━━\u001b[0m \u001b[32m58.3/58.3 kB\u001b[0m \u001b[31m7.0 MB/s\u001b[0m eta \u001b[36m0:00:00\u001b[0m\n",
            "\u001b[?25hCollecting mypy-extensions>=0.3.0 (from typing-inspect<1,>=0.4.0->dataclasses-json->dagshub)\n",
            "  Downloading mypy_extensions-1.0.0-py3-none-any.whl (4.7 kB)\n",
            "Requirement already satisfied: multidict>=4.0 in /usr/local/lib/python3.10/dist-packages (from yarl<2.0,>=1.6->gql[requests]->dagshub) (6.0.5)\n",
            "Building wheels for collected packages: fusepy\n",
            "  Building wheel for fusepy (setup.py) ... \u001b[?25l\u001b[?25hdone\n",
            "  Created wheel for fusepy: filename=fusepy-3.0.1-py3-none-any.whl size=10487 sha256=4dfca0e43b3552700456d88f28e124a94ee905c0faf54abfb7b7aa6a42f7bba6\n",
            "  Stored in directory: /root/.cache/pip/wheels/c0/18/f6/f0d6be9d0435e2677ce5cc758e91da50053dce456a346f08c5\n",
            "Successfully built fusepy\n",
            "Installing collected packages: rfc3986, fusepy, commonmark, appdirs, aniso8601, zope.interface, treelib, tenacity, smmap, rich, querystring-parser, pathvalidate, mypy-extensions, marshmallow, Mako, jmespath, h11, gunicorn, graphql-core, deprecated, dacite, backoff, typing-inspect, requests-toolbelt, opentelemetry-api, httpcore, graphql-relay, gql, gitdb, docker, datetime, botocore, alembic, s3transfer, opentelemetry-semantic-conventions, httpx, graphene, gitpython, dataclasses-json, opentelemetry-sdk, boto3, mlflow, dagshub\n",
            "  Attempting uninstall: tenacity\n",
            "    Found existing installation: tenacity 8.3.0\n",
            "    Uninstalling tenacity-8.3.0:\n",
            "      Successfully uninstalled tenacity-8.3.0\n",
            "  Attempting uninstall: rich\n",
            "    Found existing installation: rich 13.7.1\n",
            "    Uninstalling rich-13.7.1:\n",
            "      Successfully uninstalled rich-13.7.1\n",
            "Successfully installed Mako-1.3.5 alembic-1.13.1 aniso8601-9.0.1 appdirs-1.4.4 backoff-2.2.1 boto3-1.34.117 botocore-1.34.117 commonmark-0.9.1 dacite-1.6.0 dagshub-0.3.27 dataclasses-json-0.6.6 datetime-5.5 deprecated-1.2.14 docker-7.1.0 fusepy-3.0.1 gitdb-4.0.11 gitpython-3.1.43 gql-3.5.0 graphene-3.3 graphql-core-3.2.3 graphql-relay-3.2.0 gunicorn-22.0.0 h11-0.14.0 httpcore-0.16.3 httpx-0.23.3 jmespath-1.0.1 marshmallow-3.21.2 mlflow-2.13.1 mypy-extensions-1.0.0 opentelemetry-api-1.25.0 opentelemetry-sdk-1.25.0 opentelemetry-semantic-conventions-0.46b0 pathvalidate-3.0.0 querystring-parser-1.2.4 requests-toolbelt-1.0.0 rfc3986-1.5.0 rich-13.1.0 s3transfer-0.10.1 smmap-5.0.1 tenacity-8.2.3 treelib-1.6.4 typing-inspect-0.9.0 zope.interface-6.4.post2\n"
          ]
        }
      ]
    },
    {
      "cell_type": "code",
      "execution_count": 2,
      "metadata": {
        "tags": [],
        "id": "JPkpm860bgZM"
      },
      "outputs": [],
      "source": [
        "# Importar librería para cargar datos procesados\n",
        "import pandas as pd\n",
        "import matplotlib.pyplot as plt\n",
        "import seaborn as sns\n",
        "import numpy as np\n",
        "\n",
        "# Importar modelos de Machine Learning\n",
        "from sklearn.linear_model import LogisticRegression\n",
        "from sklearn.tree import DecisionTreeClassifier\n",
        "from sklearn.ensemble import RandomForestClassifier, GradientBoostingClassifier\n",
        "from sklearn.svm import SVC\n",
        "\n",
        "# Importar funciones para el entrenamiento y validación de los modelos\n",
        "from sklearn.model_selection import train_test_split, cross_val_score, GridSearchCV\n",
        "from sklearn.metrics import accuracy_score, confusion_matrix, classification_report, precision_score, recall_score, f1_score, log_loss, roc_auc_score, roc_curve, make_scorer, auc\n",
        "from sklearn.model_selection import learning_curve\n",
        "from sklearn.preprocessing import StandardScaler\n",
        "\n",
        "#Importa MLFLOW\n",
        "import mlflow\n",
        "import mlflow.sklearn\n",
        "from mlflow.models import infer_signature\n",
        "\n",
        "import json\n",
        "import dagshub\n",
        "import datetime\n"
      ]
    },
    {
      "cell_type": "markdown",
      "metadata": {
        "id": "yGSJ0dA8bgZO"
      },
      "source": [
        "## Carga de datos"
      ]
    },
    {
      "cell_type": "code",
      "execution_count": 4,
      "metadata": {
        "tags": [],
        "id": "h0kVq-XNbgZO"
      },
      "outputs": [],
      "source": [
        "# Datos de entrenamiento\n",
        "X_train = pd.read_parquet('X_train.parquet')\n",
        "y_train = pd.read_parquet('y_train.parquet')\n",
        "\n",
        "# Datos de prueba\n",
        "X_test = pd.read_parquet('X_test.parquet')\n",
        "y_test= pd.read_parquet('y_test.parquet')"
      ]
    },
    {
      "cell_type": "code",
      "execution_count": 5,
      "metadata": {
        "tags": [],
        "colab": {
          "base_uri": "https://localhost:8080/"
        },
        "id": "XovgBoXRbgZP",
        "outputId": "54dc1e05-49ed-407a-d295-1c9ac3ed877a"
      },
      "outputs": [
        {
          "output_type": "stream",
          "name": "stdout",
          "text": [
            "X_train: (940754, 44)\n",
            "y_train: (940754, 1)\n",
            "X_test:  (235189, 44)\n",
            "y_test:  (235189, 1)\n"
          ]
        }
      ],
      "source": [
        "print('X_train:',X_train.shape)\n",
        "print('y_train:',y_train.shape)\n",
        "print('X_test: ',X_test.shape)\n",
        "print('y_test: ',y_test.shape)"
      ]
    },
    {
      "cell_type": "markdown",
      "metadata": {
        "id": "AMgWbs2PbgZQ"
      },
      "source": [
        "## Dagshub"
      ]
    },
    {
      "cell_type": "code",
      "execution_count": 6,
      "metadata": {
        "tags": [],
        "colab": {
          "base_uri": "https://localhost:8080/",
          "height": 193,
          "referenced_widgets": [
            "6fff01be1c3641d9babc2a478d54d871",
            "9a24af4d6adc415fa2760a157f0510bb"
          ]
        },
        "id": "bydtV5FxbgZQ",
        "outputId": "1dc43805-86ee-4311-be84-8ff4ad6c46e3"
      },
      "outputs": [
        {
          "output_type": "display_data",
          "data": {
            "text/plain": [
              "                                       \u001b[1m❗❗❗ AUTHORIZATION REQUIRED ❗❗❗\u001b[0m                                        \n"
            ],
            "text/html": [
              "<pre style=\"white-space:pre;overflow-x:auto;line-height:normal;font-family:Menlo,'DejaVu Sans Mono',consolas,'Courier New',monospace\">                                       <span style=\"font-weight: bold\">❗❗❗ AUTHORIZATION REQUIRED ❗❗❗</span>                                        \n",
              "</pre>\n"
            ]
          },
          "metadata": {}
        },
        {
          "output_type": "display_data",
          "data": {
            "text/plain": [
              "Output()"
            ],
            "application/vnd.jupyter.widget-view+json": {
              "version_major": 2,
              "version_minor": 0,
              "model_id": "6fff01be1c3641d9babc2a478d54d871"
            }
          },
          "metadata": {}
        },
        {
          "output_type": "stream",
          "name": "stdout",
          "text": [
            "\n",
            "\n",
            "Open the following link in your browser to authorize the client:\n",
            "https://dagshub.com/login/oauth/authorize?state=b5b876c3-73b1-430d-96cf-9ea166bb452d&client_id=32b60ba385aa7cecf24046d8195a71c07dd345d9657977863b52e7748e0f0f28&middleman_request_id=340175b6741d35215763e2e1c3bb3e4e3bfb86dd67f07d7172b591f3c1a685fa\n",
            "\n",
            "\n"
          ]
        },
        {
          "output_type": "display_data",
          "data": {
            "text/plain": [],
            "text/html": [
              "<pre style=\"white-space:pre;overflow-x:auto;line-height:normal;font-family:Menlo,'DejaVu Sans Mono',consolas,'Courier New',monospace\"></pre>\n"
            ]
          },
          "metadata": {}
        },
        {
          "output_type": "display_data",
          "data": {
            "text/plain": [
              "Initialized MLflow to track repo \u001b[32m\"VesnaPivac/ML_COVID19-Mexico\"\u001b[0m\n"
            ],
            "text/html": [
              "<pre style=\"white-space:pre;overflow-x:auto;line-height:normal;font-family:Menlo,'DejaVu Sans Mono',consolas,'Courier New',monospace\">Initialized MLflow to track repo <span style=\"color: #008000; text-decoration-color: #008000\">\"VesnaPivac/ML_COVID19-Mexico\"</span>\n",
              "</pre>\n"
            ]
          },
          "metadata": {}
        },
        {
          "output_type": "display_data",
          "data": {
            "text/plain": [
              "Repository VesnaPivac/ML_COVID19-Mexico initialized!\n"
            ],
            "text/html": [
              "<pre style=\"white-space:pre;overflow-x:auto;line-height:normal;font-family:Menlo,'DejaVu Sans Mono',consolas,'Courier New',monospace\">Repository VesnaPivac/ML_COVID19-Mexico initialized!\n",
              "</pre>\n"
            ]
          },
          "metadata": {}
        }
      ],
      "source": [
        "dagshub.init(repo_owner='VesnaPivac', repo_name='ML_COVID19-Mexico', mlflow=True)"
      ]
    },
    {
      "cell_type": "markdown",
      "metadata": {
        "id": "0DLgrhjfbgZR"
      },
      "source": [
        "## MLFLOW"
      ]
    },
    {
      "cell_type": "code",
      "execution_count": 7,
      "metadata": {
        "tags": [],
        "id": "-32G4-zabgZR"
      },
      "outputs": [],
      "source": [
        "track_uri = \"https://dagshub.com/VesnaPivac/ML_COVID19-Mexico.mlflow\" # Esto puede ser que cambie por http://0.0.0.0:1234\n",
        "mlflow.set_tracking_uri(track_uri)\n",
        "mlflow.set_registry_uri(\"sqlite:////tmp/registry.db\")"
      ]
    },
    {
      "cell_type": "code",
      "execution_count": 8,
      "metadata": {
        "tags": [],
        "colab": {
          "base_uri": "https://localhost:8080/"
        },
        "id": "3nuWKe3xbgZR",
        "outputId": "8399e196-ccfa-407c-bbdf-d553842a97b7"
      },
      "outputs": [
        {
          "output_type": "stream",
          "name": "stdout",
          "text": [
            "MLflow Version: 2.13.1\n",
            "Tracking URI: https://dagshub.com/VesnaPivac/ML_COVID19-Mexico.mlflow\n",
            "Nombre del experimento: Vesna/ML_COVID19-MEXICO\n",
            "ID del experimento: 1\n"
          ]
        }
      ],
      "source": [
        "# Generando el experimento o cargandolo si existe\n",
        "experiment_name = \"Vesna/ML_COVID19-MEXICO\"\n",
        "mlflow.set_experiment(experiment_name)\n",
        "\n",
        "# Cargando la información\n",
        "client = mlflow.tracking.MlflowClient()\n",
        "experiment_id = client.get_experiment_by_name(experiment_name).experiment_id\n",
        "\n",
        "# Validacion\n",
        "print(f\"MLflow Version: {mlflow.__version__}\")\n",
        "print(f\"Tracking URI: {mlflow.tracking.get_tracking_uri()}\")\n",
        "print(f\"Nombre del experimento: {experiment_name}\")\n",
        "print(f\"ID del experimento: {experiment_id}\")"
      ]
    },
    {
      "cell_type": "markdown",
      "metadata": {
        "id": "spj0K2rmbgZS"
      },
      "source": [
        "# Modelos"
      ]
    },
    {
      "cell_type": "code",
      "execution_count": 9,
      "metadata": {
        "tags": [],
        "id": "fJQmc2HRbgZS"
      },
      "outputs": [],
      "source": [
        "fecha = datetime.datetime.now().strftime(\"%Y-%m-%d\")"
      ]
    },
    {
      "cell_type": "markdown",
      "metadata": {
        "tags": [],
        "id": "BDqb6RprbgZS"
      },
      "source": [
        "## Regresion Logistica"
      ]
    },
    {
      "cell_type": "markdown",
      "metadata": {
        "id": "MpXRh8s6bgZT"
      },
      "source": [
        "### Version Sencilla"
      ]
    },
    {
      "cell_type": "code",
      "execution_count": null,
      "metadata": {
        "tags": [],
        "id": "QmWX_VK1bgZS"
      },
      "outputs": [],
      "source": [
        "# Nombre del experimento\n",
        "name = \"Logistic Regression_Simple_\" + fecha + '_v5'\n",
        "\n",
        "# Escalar los datos\n",
        "scaler = StandardScaler()\n",
        "X_train_scaled = scaler.fit_transform(X_train)\n",
        "X_test_scaled = scaler.transform(X_test)\n",
        "\n",
        "# Inicializa el modelo de Regresión Logística con más iteraciones\n",
        "log_regression = LogisticRegression(max_iter=5000)\n",
        "\n",
        "\n",
        "# Iniciar un nuevo experimento en MLflow\n",
        "with mlflow.start_run(run_name=name):\n",
        "    # Entrena el modelo en los datos de entrenamiento\n",
        "    log_regression.fit(X_train_scaled, y_train)\n",
        "\n",
        "    mlflow.log_param(\"max_iter\", 5000)\n",
        "\n",
        "    # Realiza predicciones en el conjunto de prueba\n",
        "    y_pred = log_regression.predict(X_test_scaled)\n",
        "    y_prob = log_regression.predict_proba(X_test_scaled)[:, 1]\n",
        "\n",
        "    # Evalúa el rendimiento del modelo\n",
        "    accuracy = accuracy_score(y_test, y_pred)\n",
        "    conf_matrix = confusion_matrix(y_test, y_pred)\n",
        "    classification_rep = classification_report(y_test, y_pred, output_dict=True)\n",
        "    precision = precision_score(y_test, y_pred)\n",
        "    recall = recall_score(y_test, y_pred)\n",
        "    f1 = f1_score(y_test, y_pred)\n",
        "    log_loss_value = log_loss(y_test, y_prob)\n",
        "    roc_auc = roc_auc_score(y_test, y_prob)\n",
        "\n",
        "\n",
        "    # Registrar las métricas en MLflow\n",
        "    mlflow.log_metric(\"accuracy\", accuracy)\n",
        "    mlflow.log_metric(\"precision\", precision)\n",
        "    mlflow.log_metric(\"recall\", recall)\n",
        "    mlflow.log_metric(\"f1_score\", f1)\n",
        "    mlflow.log_metric(\"log_loss\", log_loss_value)\n",
        "    mlflow.log_metric(\"roc_auc\", roc_auc)\n",
        "\n",
        "    # Visualizar y guardar la matriz de confusión como artefacto\n",
        "    plt.figure(figsize=(8, 6))\n",
        "    sns.heatmap(conf_matrix, annot=True, fmt='d', cmap='Blues', xticklabels=np.unique(y_test), yticklabels=np.unique(y_test))\n",
        "    plt.title(\"Confusion Matrix\")\n",
        "    plt.xlabel('Predicted label')\n",
        "    plt.ylabel('True label')\n",
        "    plt.tight_layout()\n",
        "    plt.savefig(\"confusion_matrix-\" + name + \".png\")\n",
        "    mlflow.log_artifact(\"confusion_matrix-\" + name + \".png\")\n",
        "\n",
        "    # Registrar el informe de clasificación como artefacto\n",
        "    with open(\"classification_report-\" + name + \".json\", \"w\") as f:\n",
        "        json.dump(classification_rep, f)\n",
        "    mlflow.log_artifact(\"classification_report-\" + name + \".json\")\n",
        "\n",
        "    # Registrar el modelo en MLflow\n",
        "    mlflow.sklearn.log_model(log_regression, \"model-\" + name)\n",
        "\n",
        "    # Generar y registrar la curva de aprendizaje usando recall\n",
        "    train_sizes, train_scores, test_scores = learning_curve(log_regression, X_train_scaled, y_train, cv=5, n_jobs=-1, train_sizes=np.linspace(0.1, 1.0, 10), scoring='recall')\n",
        "    train_scores_mean = np.mean(train_scores, axis=1)\n",
        "    test_scores_mean = np.mean(test_scores, axis=1)\n",
        "\n",
        "    plt.figure()\n",
        "    plt.plot(train_sizes, train_scores_mean, label=\"Training score\")\n",
        "    plt.plot(train_sizes, test_scores_mean, label=\"Test score\")\n",
        "    plt.xlabel(\"Training Examples\")\n",
        "    plt.ylabel(\"Recall\")\n",
        "    plt.title(\"Learning Curve (Recall)\")\n",
        "    plt.legend(loc=\"best\")\n",
        "    plt.grid()\n",
        "    plt.savefig(\"learning_curve_recall-\" + name + \".png\")\n",
        "    mlflow.log_artifact(\"learning_curve_recall-\" + name + \".png\")\n",
        "\n",
        "    # Generar y registrar la curva de aprendizaje usando precisión\n",
        "    train_sizes, train_scores, test_scores = learning_curve(log_regression, X_train_scaled, y_train, cv=5, n_jobs=-1, train_sizes=np.linspace(0.1, 1.0, 10), scoring='precision')\n",
        "    train_scores_mean = np.mean(train_scores, axis=1)\n",
        "    test_scores_mean = np.mean(test_scores, axis=1)\n",
        "\n",
        "    plt.figure()\n",
        "    plt.plot(train_sizes, train_scores_mean, label=\"Training score\")\n",
        "    plt.plot(train_sizes, test_scores_mean, label=\"Test score\")\n",
        "    plt.xlabel(\"Training Examples\")\n",
        "    plt.ylabel(\"Precision\")\n",
        "    plt.title(\"Learning Curve (Precision)\")\n",
        "    plt.legend(loc=\"best\")\n",
        "    plt.grid()\n",
        "    plt.savefig(\"learning_curve_precision-\" + name + \".png\")\n",
        "    mlflow.log_artifact(\"learning_curve_precision-\" + name + \".png\")\n",
        "\n",
        "    # Generar y registrar la curva ROC\n",
        "    fpr, tpr, _ = roc_curve(y_test, y_prob, pos_label=2)  # Especifica pos_label según tus datos\n",
        "    plt.figure()\n",
        "    plt.plot(fpr, tpr, label=\"ROC curve (area = %0.2f)\" % roc_auc)\n",
        "    plt.plot([0, 1], [0, 1], 'k--')\n",
        "    plt.xlim([0.0, 1.0])\n",
        "    plt.ylim([0.0, 1.05])\n",
        "    plt.xlabel(\"False Positive Rate\")\n",
        "    plt.ylabel(\"True Positive Rate\")\n",
        "    plt.title(\"Receiver Operating Characteristic (ROC) Curve\")\n",
        "    plt.legend(loc=\"lower right\")\n",
        "    plt.grid()\n",
        "    plt.savefig(\"roc_curve-\" + name + \".png\")\n",
        "    mlflow.log_artifact(\"roc_curve-\" + name + \".png\")\n",
        "\n",
        "\n",
        "# Finaliza la ejecución\n",
        "mlflow.end_run()\n"
      ]
    },
    {
      "cell_type": "markdown",
      "metadata": {
        "id": "fHZfs8MLbgZT"
      },
      "source": [
        "### Ajuste de hiperparamentros"
      ]
    },
    {
      "cell_type": "code",
      "source": [
        "# Nombre del experimento\n",
        "name = \"Logistic Regression-GridSearchCV_\" + fecha\n",
        "\n",
        "# Definir la cuadrícula de hiperparámetros a ajustar\n",
        "param_grid = {\n",
        "    'penalty': ['l1', 'l2'],\n",
        "    'C': [0.001, 0.01, 0.1, 1, 10, 100],\n",
        "    'class_weight': [None, 'balanced'],\n",
        "    'solver': ['liblinear']  # 'liblinear' supports l1 penalty\n",
        "}\n",
        "\n",
        "# Inicia una nueva ejecución en MLflow\n",
        "with mlflow.start_run(run_name=name):\n",
        "    # Inicializar el modelo de Regresión Logística\n",
        "    log_regression = LogisticRegression()\n",
        "\n",
        "    # Inicializar GridSearchCV\n",
        "    grid_search = GridSearchCV(log_regression, param_grid, cv=5, scoring='accuracy')\n",
        "\n",
        "    # Ajustar GridSearchCV en los datos de entrenamiento\n",
        "    grid_search.fit(X_train, y_train)\n",
        "\n",
        "    # Mejores hiperparámetros\n",
        "    best_params = grid_search.best_params_\n",
        "\n",
        "    # Obtener el mejor modelo\n",
        "    best_model = grid_search.best_estimator_\n",
        "\n",
        "    # Evaluar el mejor modelo en los datos de prueba\n",
        "    y_pred_best_model = best_model.predict(X_test)\n",
        "    y_prob_best_model = best_model.predict_proba(X_test)[:, 1]\n",
        "\n",
        "    # Accuracy del mejor modelo\n",
        "    accuracy_best_model = accuracy_score(y_test, y_pred_best_model)\n",
        "\n",
        "    # Evalúa el rendimiento del modelo\n",
        "    accuracy = accuracy_score(y_test, y_pred_best_model)\n",
        "    conf_matrix = confusion_matrix(y_test, y_pred_best_model)\n",
        "    classification_rep = classification_report(y_test, y_pred_best_model, output_dict=True)\n",
        "    precision = precision_score(y_test, y_pred_best_model)\n",
        "    recall = recall_score(y_test, y_pred_best_model)\n",
        "    f1= f1_score(y_test, y_pred_best_model)\n",
        "    log_loss = log_loss(y_test, y_prob_best_model)\n",
        "\n",
        "    # Registrar las métricas en MLflow\n",
        "    mlflow.log_metric(\"accuracy\", accuracy)\n",
        "    mlflow.log_metric(\"precision\", precision)\n",
        "    mlflow.log_metric(\"recall\", recall)\n",
        "    mlflow.log_metric(\"f1_score\", f1)\n",
        "    mlflow.log_metric(\"log_loss\", log_loss)\n",
        "    # Matriz de confusión\n",
        "    conf_matrix_best_model = confusion_matrix(y_test, y_pred_best_model)\n",
        "\n",
        "    # Reporte de clasificación\n",
        "    classification_rep_best_model = classification_report(y_test, y_pred_best_model, output_dict=True)\n",
        "    # Registra los hiperparámetros en MLflow\n",
        "    mlflow.log_params(best_params)\n",
        "\n",
        "    # Registra las métricas en MLflow\n",
        "    mlflow.log_metric(\"accuracy\", accuracy_best_model)\n",
        "\n",
        "    # Guarda el modelo en MLflow\n",
        "    mlflow.sklearn.log_model(best_model, \"model_\" + name)\n",
        "\n",
        "    # Guarda la matriz de confusión como un artefacto\n",
        "    plt.figure(figsize=(10, 7))\n",
        "    sns.heatmap(conf_matrix_best_model, annot=True, fmt=\"d\", cmap=\"Blues\", xticklabels=np.unique(y_test), yticklabels=np.unique(y_test))\n",
        "    plt.xlabel(\"Predicted\")\n",
        "    plt.ylabel(\"Actual\")\n",
        "    plt.title(\"Confusion Matrix\")\n",
        "    plt.savefig(\"confusion_matrix-\" + name + \".png\")\n",
        "    mlflow.log_artifact(\"confusion_matrix-\" + name + \".png\")\n",
        "\n",
        "    # Genera los datos para la curva de aprendizaje\n",
        "    train_sizes, train_scores, test_scores = learning_curve(best_model, X_train, y_train, cv=5, scoring='accuracy', n_jobs=-1)\n",
        "    train_scores_mean = np.mean(train_scores, axis=1)\n",
        "    test_scores_mean = np.mean(test_scores, axis=1)\n",
        "\n",
        "    plt.figure()\n",
        "    plt.plot(train_sizes, train_scores_mean, label=\"Training score\")\n",
        "    plt.xlabel(\"Training Examples\")\n",
        "    plt.ylabel(\"Score\")\n",
        "    plt.title(\"Learning Curve\")\n",
        "    plt.legend(loc=\"best\")\n",
        "    plt.grid()\n",
        "    plt.savefig(\"learning_curve-\" + name + \".png\")\n",
        "    mlflow.log_artifact(\"learning_curve-\" + name + \".png\")\n",
        "\n",
        "\n",
        "# Finaliza la ejecución\n",
        "mlflow.end_run()\n"
      ],
      "metadata": {
        "colab": {
          "base_uri": "https://localhost:8080/"
        },
        "id": "VHPlZShQnIHo",
        "outputId": "c8eba113-2516-42dc-8c13-11da92f77d04"
      },
      "execution_count": null,
      "outputs": [
        {
          "metadata": {
            "tags": null
          },
          "name": "stderr",
          "output_type": "stream",
          "text": [
            "/usr/local/lib/python3.10/dist-packages/sklearn/utils/validation.py:1143: DataConversionWarning: A column-vector y was passed when a 1d array was expected. Please change the shape of y to (n_samples, ), for example using ravel().\n",
            "  y = column_or_1d(y, warn=True)\n",
            "/usr/local/lib/python3.10/dist-packages/sklearn/utils/validation.py:1143: DataConversionWarning: A column-vector y was passed when a 1d array was expected. Please change the shape of y to (n_samples, ), for example using ravel().\n",
            "  y = column_or_1d(y, warn=True)\n",
            "/usr/local/lib/python3.10/dist-packages/sklearn/utils/validation.py:1143: DataConversionWarning: A column-vector y was passed when a 1d array was expected. Please change the shape of y to (n_samples, ), for example using ravel().\n",
            "  y = column_or_1d(y, warn=True)\n",
            "/usr/local/lib/python3.10/dist-packages/sklearn/utils/validation.py:1143: DataConversionWarning: A column-vector y was passed when a 1d array was expected. Please change the shape of y to (n_samples, ), for example using ravel().\n",
            "  y = column_or_1d(y, warn=True)\n",
            "/usr/local/lib/python3.10/dist-packages/sklearn/utils/validation.py:1143: DataConversionWarning: A column-vector y was passed when a 1d array was expected. Please change the shape of y to (n_samples, ), for example using ravel().\n",
            "  y = column_or_1d(y, warn=True)\n",
            "/usr/local/lib/python3.10/dist-packages/sklearn/utils/validation.py:1143: DataConversionWarning: A column-vector y was passed when a 1d array was expected. Please change the shape of y to (n_samples, ), for example using ravel().\n",
            "  y = column_or_1d(y, warn=True)\n",
            "/usr/local/lib/python3.10/dist-packages/sklearn/utils/validation.py:1143: DataConversionWarning: A column-vector y was passed when a 1d array was expected. Please change the shape of y to (n_samples, ), for example using ravel().\n",
            "  y = column_or_1d(y, warn=True)\n",
            "/usr/local/lib/python3.10/dist-packages/sklearn/utils/validation.py:1143: DataConversionWarning: A column-vector y was passed when a 1d array was expected. Please change the shape of y to (n_samples, ), for example using ravel().\n",
            "  y = column_or_1d(y, warn=True)\n",
            "/usr/local/lib/python3.10/dist-packages/sklearn/utils/validation.py:1143: DataConversionWarning: A column-vector y was passed when a 1d array was expected. Please change the shape of y to (n_samples, ), for example using ravel().\n",
            "  y = column_or_1d(y, warn=True)\n",
            "/usr/local/lib/python3.10/dist-packages/sklearn/utils/validation.py:1143: DataConversionWarning: A column-vector y was passed when a 1d array was expected. Please change the shape of y to (n_samples, ), for example using ravel().\n",
            "  y = column_or_1d(y, warn=True)\n",
            "/usr/local/lib/python3.10/dist-packages/sklearn/utils/validation.py:1143: DataConversionWarning: A column-vector y was passed when a 1d array was expected. Please change the shape of y to (n_samples, ), for example using ravel().\n",
            "  y = column_or_1d(y, warn=True)\n",
            "/usr/local/lib/python3.10/dist-packages/sklearn/svm/_base.py:1244: ConvergenceWarning: Liblinear failed to converge, increase the number of iterations.\n",
            "  warnings.warn(\n",
            "/usr/local/lib/python3.10/dist-packages/sklearn/utils/validation.py:1143: DataConversionWarning: A column-vector y was passed when a 1d array was expected. Please change the shape of y to (n_samples, ), for example using ravel().\n",
            "  y = column_or_1d(y, warn=True)\n"
          ]
        }
      ]
    },
    {
      "cell_type": "markdown",
      "metadata": {
        "tags": [],
        "id": "ieoUTmBsbgZU"
      },
      "source": [
        "## Decision Tree"
      ]
    },
    {
      "cell_type": "markdown",
      "source": [
        "### Simple"
      ],
      "metadata": {
        "id": "i5tJWSf0qtl_"
      }
    },
    {
      "cell_type": "code",
      "source": [
        "# Nombre del experimento\n",
        "name = \"Decision Tree_Simple_\" + fecha\n",
        "\n",
        "# Inicializar el modelo de árbol de decisión con los hiperparámetros especificados\n",
        "decision_tree = DecisionTreeClassifier(max_depth=10, min_samples_split=100, min_samples_leaf=1000)\n",
        "\n",
        "# Iniciar una nueva ejecución en MLflow\n",
        "with mlflow.start_run(run_name=name):\n",
        "    # Entrenar el modelo en los datos de entrenamiento\n",
        "    decision_tree.fit(X_train, y_train)\n",
        "\n",
        "    # Realizar predicciones en el conjunto de prueba\n",
        "    y_pred = decision_tree.predict(X_test)\n",
        "    y_prob = decision_tree.predict_proba(X_test)[:, 1]\n",
        "\n",
        "    # Calcular y mostrar las métricas de evaluación\n",
        "    accuracy = accuracy_score(y_test, y_pred)\n",
        "    precision = precision_score(y_test, y_pred)\n",
        "    recall = recall_score(y_test, y_pred)\n",
        "    f1 = f1_score(y_test, y_pred)\n",
        "    log_loss_value = log_loss(y_test, y_prob)\n",
        "    roc_auc = roc_auc_score(y_test, y_prob)\n",
        "    conf_matrix = confusion_matrix(y_test, y_pred)\n",
        "    classification_rep = classification_report(y_test, y_pred, output_dict=True)\n",
        "\n",
        "    # Registra los hiperparámetros en MLflow\n",
        "    mlflow.log_param(\"max_depth\", 10)\n",
        "    mlflow.log_param(\"min_samples_split\", 100)\n",
        "    mlflow.log_param(\"min_samples_leaf\", 1000)\n",
        "\n",
        "    # Registra las métricas en MLflow\n",
        "    mlflow.log_metric(\"accuracy\", accuracy)\n",
        "    mlflow.log_metric(\"precision\", precision)\n",
        "    mlflow.log_metric(\"recall\", recall)\n",
        "    mlflow.log_metric(\"f1_score\", f1)\n",
        "    mlflow.log_metric(\"log_loss\", log_loss_value)\n",
        "    mlflow.log_metric(\"roc_auc\", roc_auc)\n",
        "\n",
        "    # Guarda el modelo en MLflow\n",
        "    mlflow.sklearn.log_model(decision_tree, \"model-\" + name)\n",
        "\n",
        "    # Guarda la matriz de confusión como un artefacto\n",
        "    plt.figure(figsize=(10, 7))\n",
        "    sns.heatmap(conf_matrix, annot=True, fmt=\"d\", cmap=\"Blues\", xticklabels=np.unique(y_test), yticklabels=np.unique(y_test))\n",
        "    plt.xlabel(\"Predicted\")\n",
        "    plt.ylabel(\"Actual\")\n",
        "    plt.title(\"Confusion Matrix\")\n",
        "    plt.savefig(\"confusion_matrix-\" + name + \".png\")\n",
        "    mlflow.log_artifact(\"confusion_matrix-\" + name + \".png\")\n",
        "\n",
        "\n",
        "    # Generar y registrar la curva de aprendizaje utilizando recall\n",
        "    recall_scorer = make_scorer(recall_score, greater_is_better=True)\n",
        "    train_sizes, train_scores, test_scores = learning_curve(decision_tree, X_train, y_train, cv=5, scoring=recall_scorer, n_jobs=-1)\n",
        "    train_scores_mean = np.mean(train_scores, axis=1)\n",
        "    test_scores_mean = np.mean(test_scores, axis=1)\n",
        "\n",
        "    plt.figure()\n",
        "    plt.plot(train_sizes, train_scores_mean, label=\"Training score\")\n",
        "    plt.plot(train_sizes, test_scores_mean, label=\"Cross-validation score\")\n",
        "    plt.xlabel(\"Training Examples\")\n",
        "    plt.ylabel(\"Recall\")\n",
        "    plt.title(\"Learning Curve (Recall)\")\n",
        "    plt.legend(loc=\"best\")\n",
        "    plt.grid()\n",
        "    plt.savefig(\"learning_curve_recall-\" + name + \".png\")\n",
        "    mlflow.log_artifact(\"learning_curve_recall-\" + name + \".png\")\n",
        "\n",
        "    # Generar y registrar la curva ROC\n",
        "    fpr, tpr, _ = roc_curve(y_test, y_prob)\n",
        "    plt.figure()\n",
        "    plt.plot(fpr, tpr, label=\"ROC curve (area = %0.2f)\" % roc_auc)\n",
        "    plt.plot([0, 1], [0, 1], 'k--')\n",
        "    plt.xlim([0.0, 1.0])\n",
        "    plt.ylim([0.0, 1.05])\n",
        "    plt.xlabel(\"False Positive Rate\")\n",
        "    plt.ylabel(\"True Positive Rate\")\n",
        "    plt.title(\"Receiver Operating Characteristic (ROC) Curve\")\n",
        "    plt.legend(loc=\"lower right\")\n",
        "    plt.grid()\n",
        "    plt.savefig(\"roc_curve-\" + name + \".png\")\n",
        "    mlflow.log_artifact(\"roc_curve-\" + name + \".png\")\n",
        "\n",
        "# Finalizar la ejecución\n",
        "mlflow.end_run()\n"
      ],
      "metadata": {
        "id": "1V3fLETSpTId"
      },
      "execution_count": null,
      "outputs": []
    },
    {
      "cell_type": "markdown",
      "metadata": {
        "id": "1TSzzq0_bgZU"
      },
      "source": [
        "### Ajuste de hiperparametros"
      ]
    },
    {
      "cell_type": "code",
      "execution_count": null,
      "metadata": {
        "tags": [],
        "id": "09MF9FYIbgZV",
        "outputId": "701a7465-0f1f-47c5-f27e-750d5939af3c"
      },
      "outputs": [
        {
          "name": "stdout",
          "output_type": "stream",
          "text": [
            "Mejores hiperparámetros: {'criterion': 'entropy', 'max_depth': 10, 'min_samples_leaf': 4, 'min_samples_split': 10}\n"
          ]
        },
        {
          "data": {
            "image/png": "[encoded data removed]",
            "text/plain": [
              "<Figure size 1000x700 with 2 Axes>"
            ]
          },
          "metadata": {},
          "output_type": "display_data"
        },
        {
          "data": {
            "image/png": "[encoded data removed]",
            "text/plain": [
              "<Figure size 640x480 with 1 Axes>"
            ]
          },
          "metadata": {},
          "output_type": "display_data"
        }
      ],
      "source": [
        "name = \"Decision Tree-GridSearchCV_\"+fecha\n",
        "\n",
        "param_grid = {\n",
        "    'max_depth': [None, 10, 20, 30],\n",
        "    'min_samples_split': [2, 5, 10],\n",
        "    'min_samples_leaf': [1, 2, 4],\n",
        "    'criterion': ['gini', 'entropy']\n",
        "}\n",
        "\n",
        "# Inicializar el modelo de árbol de decisión\n",
        "decision_tree = DecisionTreeClassifier()\n",
        "\n",
        "# Inicializar GridSearchCV\n",
        "grid_search = GridSearchCV(decision_tree, param_grid, cv=5, scoring='accuracy')\n",
        "\n",
        "# Inicia una nueva ejecución en MLflow\n",
        "with mlflow.start_run(run_name=name):\n",
        "    # Ajustar GridSearchCV en los datos de entrenamiento\n",
        "    grid_search.fit(X_train, y_train)\n",
        "\n",
        "    # Obtener los mejores hiperparámetros\n",
        "    best_params = grid_search.best_params_\n",
        "    print(\"Mejores hiperparámetros:\", best_params)\n",
        "\n",
        "    # Obtener el mejor modelo\n",
        "    best_model = grid_search.best_estimator_\n",
        "\n",
        "    # Realizar predicciones en el conjunto de prueba con el mejor modelo\n",
        "    y_pred_best_model = best_model.predict(X_test)\n",
        "    y_prob_best_model = best_model.predict_proba(X_test)[:, 1]\n",
        "\n",
        "    # Calcular y mostrar las métricas de evaluación\n",
        "    accuracy = accuracy_score(y_test, y_pred_best_model)\n",
        "    conf_matrix_best_model = confusion_matrix(y_test, y_pred_best_model)\n",
        "    classification_rep_best_model = classification_report(y_test, y_pred_best_model, output_dict=True)\n",
        "    precision_best_model = precision_score(y_test, y_pred_best_model)\n",
        "    recall_best_model = recall_score(y_test, y_pred_best_model)\n",
        "    f1_best_model = f1_score(y_test, y_pred_best_model)\n",
        "    log_loss_value_best_model = log_loss(y_test, y_prob_best_model)\n",
        "    roc_auc_best_model = roc_auc_score(y_test, y_prob_best_model)\n",
        "\n",
        "    # Registra los hiperparámetros en MLflow\n",
        "    mlflow.log_param(\"max_depth\", best_params['max_depth'])\n",
        "    mlflow.log_param(\"min_samples_split\", best_params['min_samples_split'])\n",
        "    mlflow.log_param(\"min_samples_leaf\", best_params['min_samples_leaf'])\n",
        "    mlflow.log_param(\"criterion\", best_params['criterion'])\n",
        "\n",
        "    # Registra las métricas en MLflow\n",
        "    mlflow.log_metric(\"accuracy\", accuracy)\n",
        "    mlflow.log_metric(\"precision_best_model\", precision_best_model)\n",
        "    mlflow.log_metric(\"recall_best_model\", recall_best_model)\n",
        "    mlflow.log_metric(\"f1_score_best_model\", f1_best_model)\n",
        "    mlflow.log_metric(\"log_loss_best_model\", log_loss_value_best_model)\n",
        "    mlflow.log_metric(\"roc_auc_best_model\", roc_auc_best_model)\n",
        "\n",
        "    # Guarda el modelo en MLflow\n",
        "    mlflow.sklearn.log_model(best_model, \"model-\"+name)\n",
        "\n",
        "    # Guarda la matriz de confusión como un artefacto\n",
        "    plt.figure(figsize=(10, 7))\n",
        "    sns.heatmap(conf_matrix_best_model, annot=True, fmt=\"d\", cmap=\"Blues\", xticklabels=np.unique(y_test), yticklabels=np.unique(y_test))\n",
        "    plt.xlabel(\"Predicted\")\n",
        "    plt.ylabel(\"Actual\")\n",
        "    plt.title(\"Confusion Matrix\")\n",
        "    plt.savefig(\"confusion_matrix-\"+name+\".png\")\n",
        "    mlflow.log_artifact(\"confusion_matrix-\"+name+\".png\")\n",
        "\n",
        "    # Generar y registrar la curva de aprendizaje utilizando recall\n",
        "    recall_scorer = make_scorer(recall_score, greater_is_better=True)\n",
        "    train_sizes, train_scores, test_scores = learning_curve(best_model, X_train, y_train, cv=5, scoring=recall_scorer, n_jobs=-1)\n",
        "    train_scores_mean = np.mean(train_scores, axis=1)\n",
        "    test_scores_mean = np.mean(test_scores, axis=1)\n",
        "\n",
        "    plt.figure()\n",
        "    plt.plot(train_sizes, train_scores_mean, label=\"Training score\")\n",
        "    plt.plot(train_sizes, test_scores_mean, label=\"Cross-validation score\")\n",
        "    plt.xlabel(\"Training Examples\")\n",
        "    plt.ylabel(\"Recall\")\n",
        "    plt.title(\"Learning Curve (Recall)\")\n",
        "    plt.legend(loc=\"best\")\n",
        "    plt.grid()\n",
        "    plt.savefig(\"learning_curve_recall-\" + name + \".png\")\n",
        "    mlflow.log_artifact(\"learning_curve_recall-\" + name + \".png\")\n",
        "\n",
        "    # Generar y registrar la curva ROC\n",
        "    fpr, tpr, _ = roc_curve(y_test, y_prob_best_model)\n",
        "    roc_auc = roc_auc_score(y_test, y_prob_best_model)\n",
        "\n",
        "    plt.figure()\n",
        "    plt.plot(fpr, tpr, label=\"ROC curve (area = %0.2f)\" % roc_auc)\n",
        "    plt.plot([0, 1], [0, 1], 'k--')\n",
        "    plt.xlim([0.0, 1.0])\n",
        "    plt.ylim([0.0, 1.05])\n",
        "    plt.xlabel(\"False Positive Rate\")\n",
        "    plt.ylabel(\"True Positive Rate\")\n",
        "    plt.title(\"Receiver Operating Characteristic (ROC) Curve\")\n",
        "    plt.legend(loc=\"lower right\")\n",
        "    plt.grid()\n",
        "    plt.savefig(\"roc_curve-\" + name + \".png\")\n",
        "    mlflow.log_artifact(\"roc_curve-\" + name + \".png\")\n",
        "\n",
        "# Finalizar la ejecución\n",
        "mlflow.end_run()"
      ]
    },
    {
      "cell_type": "markdown",
      "metadata": {
        "tags": [],
        "id": "cisrPnDJbgZV"
      },
      "source": [
        "## Support Vector Machine"
      ]
    },
    {
      "cell_type": "markdown",
      "metadata": {
        "id": "gJ-XxhJBbgZV"
      },
      "source": [
        "### Version Sencilla"
      ]
    },
    {
      "cell_type": "code",
      "execution_count": null,
      "metadata": {
        "tags": [],
        "id": "9nWS72PWbgZV",
        "outputId": "946b5a2f-ad84-4592-ed84-a1fe370474b0"
      },
      "outputs": [
        {
          "name": "stderr",
          "output_type": "stream",
          "text": [
            "C:\\Users\\vesna\\miniconda3\\lib\\site-packages\\sklearn\\utils\\validation.py:1143: DataConversionWarning: A column-vector y was passed when a 1d array was expected. Please change the shape of y to (n_samples, ), for example using ravel().\n",
            "  y = column_or_1d(y, warn=True)\n"
          ]
        }
      ],
      "source": [
        "name = \"SVM_Simple_\"+fecha\n",
        "\n",
        "# Inicializar el modelo de Support Vector Machine\n",
        "svm = SVC()\n",
        "\n",
        "# Inicia una nueva ejecución en MLflow\n",
        "with mlflow.start_run(run_name=name):\n",
        "\n",
        "    # Entrenar el modelo en los datos de entrenamiento\n",
        "    svm.fit(X_train, y_train)\n",
        "\n",
        "    # Realizar predicciones en el conjunto de prueba\n",
        "    y_pred = svm.predict(X_test)\n",
        "\n",
        "    # Calcular y mostrar las métricas de evaluación\n",
        "    accuracy = accuracy_score(y_test, y_pred)\n",
        "    conf_matrix = confusion_matrix(y_test, y_pred)\n",
        "    classification_rep = classification_report(y_test, y_pred)\n",
        "\n",
        "    # Guarda la metrica en mlflow\n",
        "    mlflow.log_metric(\"accuracy\", accuracy)\n",
        "\n",
        "    # Guarda el modelo en MLflow\n",
        "    mlflow.sklearn.log_model(svm, \"model-\"+name)\n",
        "\n",
        "    # Guarda la matriz de confusión como un artefacto\n",
        "    plt.figure(figsize=(10, 7))\n",
        "    sns.heatmap(conf_matrix, annot=True, fmt=\"d\", cmap=\"Blues\", xticklabels=np.unique(y_test), yticklabels=np.unique(y_test))\n",
        "    plt.xlabel(\"Predicted\")\n",
        "    plt.ylabel(\"Actual\")\n",
        "    plt.title(\"Confusion Matrix\")\n",
        "    plt.savefig(\"confusion_matrix-\"+name+\".png\")\n",
        "    mlflow.log_artifact(\"confusion_matrix-\"+name+\".png\")\n",
        "\n",
        "    # Logra el informe de clasificación\n",
        "    mlflow.log_text(classification_rep, \"classification_report-\"+name+\".txt\")\n",
        "\n",
        "    # Generar y registrar la curva de aprendizaje\n",
        "    train_sizes, train_scores, test_scores = learning_curve(svm, X_train, y_train, cv=5, n_jobs=-1, train_sizes=np.linspace(0.1, 1.0, 10))\n",
        "    train_scores_mean = np.mean(train_scores, axis=1)\n",
        "    test_scores_mean = np.mean(test_scores, axis=1)\n",
        "\n",
        "    plt.figure()\n",
        "    plt.plot(train_sizes, train_scores_mean, label=\"Training score\")\n",
        "    plt.xlabel(\"Training Examples\")\n",
        "    plt.ylabel(\"Score\")\n",
        "    plt.title(\"Learning Curve\")\n",
        "    plt.legend(loc=\"best\")\n",
        "    plt.grid()\n",
        "    plt.savefig(\"learning_curve-\"+name+\".png\")\n",
        "    mlflow.log_artifact(\"learning_curve-\"+name+\".png\")\n",
        "\n",
        "# Finaliza la ejecución\n",
        "mlflow.end_run()"
      ]
    },
    {
      "cell_type": "markdown",
      "metadata": {
        "tags": [],
        "id": "pGZUodvmbgZV"
      },
      "source": [
        "### Ajuste de hiperparametros"
      ]
    },
    {
      "cell_type": "code",
      "execution_count": null,
      "metadata": {
        "id": "VpmUU9-GbgZV"
      },
      "outputs": [],
      "source": [
        "name = \"SVM_Grid Search_\"+fecha\n",
        "\n",
        "# Definir la cuadrícula de hiperparámetros a ajustar\n",
        "param_grid = {\n",
        "    'C': [0.1, 1, 10],\n",
        "    'kernel': ['linear', 'rbf', 'poly'],\n",
        "    'gamma': ['scale', 'auto']\n",
        "}\n",
        "\n",
        "# Inicializar el modelo de Support Vector Machine\n",
        "svm = SVC()\n",
        "\n",
        "# Inicializar GridSearchCV\n",
        "grid_search = GridSearchCV(svm, param_grid, cv=5, scoring='accuracy')\n",
        "\n",
        "# Ajustar GridSearchCV en los datos de entrenamiento\n",
        "grid_search.fit(X_train, y_train)\n",
        "\n",
        "# Inicia una nueva ejecución en MLflow\n",
        "with mlflow.start_run(run_name=name):\n",
        "    # Logra los mejores hiperparámetros\n",
        "    best_params = grid_search.best_params_\n",
        "    mlflow.log_params(best_params)\n",
        "\n",
        "    # Obtener el mejor modelo encontrado por la búsqueda de hiperparámetros\n",
        "    best_model = grid_search.best_estimator_\n",
        "\n",
        "    # Predecir en el conjunto de prueba con el mejor modelo\n",
        "    y_pred_best_model = best_model.predict(X_test)\n",
        "\n",
        "    # Accuracy del mejor modelo\n",
        "    accuracy_best_model = accuracy_score(y_test, y_pred_best_model)\n",
        "    mlflow.log_metric(\"accuracy\", accuracy_best_model)\n",
        "\n",
        "    # Matriz de confusión\n",
        "    conf_matrix = confusion_matrix(y_test, y_pred_best_model)\n",
        "\n",
        "    # Reporte de clasificación\n",
        "    classification_rep_best_model = classification_report(y_test, y_pred_best_model)\n",
        "\n",
        "    # Guarda el modelo en MLflow\n",
        "    mlflow.sklearn.log_model(best_model, \"model-\"+name)\n",
        "\n",
        "    # Guardar la matriz de confusión como una imagen\n",
        "    plt.figure(figsize=(8, 6))\n",
        "    sns.heatmap(conf_matrix, annot=True, fmt=\"d\", cmap=\"Blues\", xticklabels=np.unique(y_test), yticklabels=np.unique(y_test))\n",
        "    plt.xlabel(\"Predicted\")\n",
        "    plt.ylabel(\"Actual\")\n",
        "    plt.title(\"Confusion Matrix\")\n",
        "    plt.savefig(\"confusion_matrix-\"+name+\".png\")\n",
        "    mlflow.log_artifact(\"confusion_matrix-\"+name+\".png\")\n",
        "\n",
        "    # Generar y registrar la curva de aprendizaje\n",
        "    train_sizes, train_scores, test_scores = learning_curve(best_model, X_train, y_train, cv=5, n_jobs=-1, train_sizes=np.linspace(0.1, 1.0, 10))\n",
        "    train_scores_mean = np.mean(train_scores, axis=1)\n",
        "    test_scores_mean = np.mean(test_scores, axis=1)\n",
        "\n",
        "    plt.figure()\n",
        "    plt.plot(train_sizes, train_scores_mean, label=\"Training score\")\n",
        "    plt.plot(train_sizes, test_scores_mean, label=\"Test score\")\n",
        "    plt.xlabel(\"Training Examples\")\n",
        "    plt.ylabel(\"Score\")\n",
        "    plt.title(\"Learning Curve\")\n",
        "    plt.legend(loc=\"best\")\n",
        "    plt.grid()\n",
        "    plt.savefig(\"learning_curve-\"+name+\".png\")\n",
        "    mlflow.log_artifact(\"learning_curve-\"+name+\".png\")\n",
        "\n",
        "\n",
        "# Finaliza la ejecución\n",
        "mlflow.end_run()"
      ]
    },
    {
      "cell_type": "markdown",
      "metadata": {
        "tags": [],
        "id": "jrxb51iebgZW"
      },
      "source": [
        "## Random Forest Classifier"
      ]
    },
    {
      "cell_type": "markdown",
      "metadata": {
        "id": "Ox1Hw3EebgZW"
      },
      "source": [
        "### Version Sencilla"
      ]
    },
    {
      "cell_type": "code",
      "source": [
        "# Nombre del experimento\n",
        "name = \"Random Forest_Simple_\"+fecha\n",
        "\n",
        "# Inicializar el clasificador de Random Forest\n",
        "rf_classifier = RandomForestClassifier(n_estimators=100, random_state=42, max_depth=10, min_samples_split=10, min_samples_leaf=4)\n",
        "\n",
        "# Entrenar el modelo\n",
        "rf_classifier.fit(X_train, y_train)\n",
        "\n",
        "# Predecir en el conjunto de prueba\n",
        "y_pred = rf_classifier.predict(X_test)\n",
        "y_prob = rf_classifier.predict_proba(X_test)[:, 1]\n",
        "\n",
        "# Inicia una nueva ejecución en MLflow\n",
        "with mlflow.start_run(run_name=name) as run:\n",
        "\n",
        "    # Evaluar el modelo\n",
        "    accuracy = accuracy_score(y_test, y_pred)\n",
        "    conf_matrix = confusion_matrix(y_test, y_pred)\n",
        "    classification_rep = classification_report(y_test, y_pred)\n",
        "    precision = precision_score(y_test, y_pred)\n",
        "    recall = recall_score(y_test, y_pred)\n",
        "    f1 = f1_score(y_test, y_pred)\n",
        "\n",
        "    # Registra las métricas en MLflow\n",
        "    mlflow.log_metric(\"accuracy\", accuracy)\n",
        "    mlflow.log_metric(\"precision\", precision)\n",
        "    mlflow.log_metric(\"recall\", recall)\n",
        "    mlflow.log_metric(\"f1_score\", f1)\n",
        "    mlflow.log_metric(\"log_loss\", log_loss_value)\n",
        "\n",
        "\n",
        "    # Guardar la matriz de confusión como una imagen\n",
        "    plt.figure(figsize=(8, 6))\n",
        "    sns.heatmap(conf_matrix, annot=True, fmt=\"d\", cmap=\"Blues\", xticklabels=np.unique(y_test), yticklabels=np.unique(y_test))\n",
        "    plt.xlabel(\"Predicted\")\n",
        "    plt.ylabel(\"Actual\")\n",
        "    plt.title(\"Confusion Matrix\")\n",
        "    plt.savefig(\"confusion_matrix-\"+name+\".png\")\n",
        "    mlflow.log_artifact(\"confusion_matrix-\"+name+\".png\")\n",
        "\n",
        "    # Registra los hiperparámetros en MLflow\n",
        "    mlflow.log_params({\n",
        "        \"n_estimators\": rf_classifier.n_estimators,\n",
        "        \"max_depth\": rf_classifier.max_depth,\n",
        "        \"min_samples_split\": rf_classifier.min_samples_split,\n",
        "        \"min_samples_leaf\": rf_classifier.min_samples_leaf,\n",
        "        \"random_state\": rf_classifier.random_state,\n",
        "    })\n",
        "\n",
        "     # Generar y registrar la curva de aprendizaje usando recall\n",
        "    train_sizes, train_scores, test_scores = learning_curve(rf_classifier, X_train, y_train, cv=5, n_jobs=-1, train_sizes=np.linspace(0.1, 1.0, 10), scoring='recall')\n",
        "    train_scores_mean = np.mean(train_scores, axis=1)\n",
        "    test_scores_mean = np.mean(test_scores, axis=1)\n",
        "\n",
        "    plt.figure()\n",
        "    plt.plot(train_sizes, train_scores_mean, label=\"Training score\")\n",
        "    plt.plot(train_sizes, test_scores_mean, label=\"Test score\")\n",
        "    plt.xlabel(\"Training Examples\")\n",
        "    plt.ylabel(\"Recall\")\n",
        "    plt.title(\"Learning Curve (Recall)\")\n",
        "    plt.legend(loc=\"best\")\n",
        "    plt.grid()\n",
        "    plt.savefig(\"learning_curve_recall-\" + name + \".png\")\n",
        "    mlflow.log_artifact(\"learning_curve_recall-\" + name + \".png\")\n",
        "\n",
        "    # Generar y registrar la curva de aprendizaje usando precisión\n",
        "    train_sizes, train_scores, test_scores = learning_curve(rf_classifier, X_train, y_train, cv=5, n_jobs=-1, train_sizes=np.linspace(0.1, 1.0, 10), scoring='precision')\n",
        "    train_scores_mean = np.mean(train_scores, axis=1)\n",
        "    test_scores_mean = np.mean(test_scores, axis=1)\n",
        "\n",
        "    plt.figure()\n",
        "    plt.plot(train_sizes, train_scores_mean, label=\"Training score\")\n",
        "    plt.plot(train_sizes, test_scores_mean, label=\"Test score\")\n",
        "    plt.xlabel(\"Training Examples\")\n",
        "    plt.ylabel(\"Precision\")\n",
        "    plt.title(\"Learning Curve (Precision)\")\n",
        "    plt.legend(loc=\"best\")\n",
        "    plt.grid()\n",
        "    plt.savefig(\"learning_curve_precision-\" + name + \".png\")\n",
        "    mlflow.log_artifact(\"learning_curve_precision-\" + name + \".png\")\n",
        "\n",
        "\n",
        "    # Guarda el modelo en MLflow\n",
        "    mlflow.sklearn.log_model(rf_classifier, \"model-\"+name)\n",
        "\n",
        "# Finalizar la ejecución\n",
        "mlflow.end_run()"
      ],
      "metadata": {
        "id": "H4hZPhbvq7LA",
        "colab": {
          "base_uri": "https://localhost:8080/"
        },
        "outputId": "f559a713-5433-4bf9-b35b-e5ab01efc91a"
      },
      "execution_count": null,
      "outputs": [
        {
          "output_type": "stream",
          "name": "stderr",
          "text": [
            "<ipython-input-15-2f667d63345a>:8: DataConversionWarning: A column-vector y was passed when a 1d array was expected. Please change the shape of y to (n_samples,), for example using ravel().\n",
            "  rf_classifier.fit(X_train, y_train)\n"
          ]
        }
      ]
    },
    {
      "cell_type": "markdown",
      "metadata": {
        "id": "jkTA6fiubgZW"
      },
      "source": [
        "### Ajuste de hiperparametros"
      ]
    },
    {
      "cell_type": "code",
      "execution_count": null,
      "metadata": {
        "tags": [],
        "id": "mjf5DE-qbgZW",
        "outputId": "b329a729-c200-46d1-b7e6-a9647eec9330"
      },
      "outputs": [
        {
          "name": "stderr",
          "output_type": "stream",
          "text": [
            "C:\\Users\\vesna\\miniconda3\\lib\\site-packages\\sklearn\\model_selection\\_validation.py:686: DataConversionWarning: A column-vector y was passed when a 1d array was expected. Please change the shape of y to (n_samples,), for example using ravel().\n",
            "  estimator.fit(X_train, y_train, **fit_params)\n",
            "C:\\Users\\vesna\\miniconda3\\lib\\site-packages\\sklearn\\model_selection\\_validation.py:686: DataConversionWarning: A column-vector y was passed when a 1d array was expected. Please change the shape of y to (n_samples,), for example using ravel().\n",
            "  estimator.fit(X_train, y_train, **fit_params)\n",
            "C:\\Users\\vesna\\miniconda3\\lib\\site-packages\\sklearn\\model_selection\\_validation.py:686: DataConversionWarning: A column-vector y was passed when a 1d array was expected. Please change the shape of y to (n_samples,), for example using ravel().\n",
            "  estimator.fit(X_train, y_train, **fit_params)\n",
            "C:\\Users\\vesna\\miniconda3\\lib\\site-packages\\sklearn\\model_selection\\_validation.py:686: DataConversionWarning: A column-vector y was passed when a 1d array was expected. Please change the shape of y to (n_samples,), for example using ravel().\n",
            "  estimator.fit(X_train, y_train, **fit_params)\n",
            "C:\\Users\\vesna\\miniconda3\\lib\\site-packages\\sklearn\\model_selection\\_validation.py:686: DataConversionWarning: A column-vector y was passed when a 1d array was expected. Please change the shape of y to (n_samples,), for example using ravel().\n",
            "  estimator.fit(X_train, y_train, **fit_params)\n",
            "C:\\Users\\vesna\\miniconda3\\lib\\site-packages\\sklearn\\model_selection\\_validation.py:686: DataConversionWarning: A column-vector y was passed when a 1d array was expected. Please change the shape of y to (n_samples,), for example using ravel().\n",
            "  estimator.fit(X_train, y_train, **fit_params)\n",
            "C:\\Users\\vesna\\miniconda3\\lib\\site-packages\\sklearn\\model_selection\\_validation.py:686: DataConversionWarning: A column-vector y was passed when a 1d array was expected. Please change the shape of y to (n_samples,), for example using ravel().\n",
            "  estimator.fit(X_train, y_train, **fit_params)\n",
            "C:\\Users\\vesna\\miniconda3\\lib\\site-packages\\sklearn\\model_selection\\_validation.py:686: DataConversionWarning: A column-vector y was passed when a 1d array was expected. Please change the shape of y to (n_samples,), for example using ravel().\n",
            "  estimator.fit(X_train, y_train, **fit_params)\n",
            "C:\\Users\\vesna\\miniconda3\\lib\\site-packages\\sklearn\\model_selection\\_validation.py:686: DataConversionWarning: A column-vector y was passed when a 1d array was expected. Please change the shape of y to (n_samples,), for example using ravel().\n",
            "  estimator.fit(X_train, y_train, **fit_params)\n",
            "C:\\Users\\vesna\\miniconda3\\lib\\site-packages\\sklearn\\model_selection\\_validation.py:686: DataConversionWarning: A column-vector y was passed when a 1d array was expected. Please change the shape of y to (n_samples,), for example using ravel().\n",
            "  estimator.fit(X_train, y_train, **fit_params)\n",
            "C:\\Users\\vesna\\miniconda3\\lib\\site-packages\\sklearn\\model_selection\\_validation.py:686: DataConversionWarning: A column-vector y was passed when a 1d array was expected. Please change the shape of y to (n_samples,), for example using ravel().\n",
            "  estimator.fit(X_train, y_train, **fit_params)\n",
            "C:\\Users\\vesna\\miniconda3\\lib\\site-packages\\sklearn\\model_selection\\_validation.py:686: DataConversionWarning: A column-vector y was passed when a 1d array was expected. Please change the shape of y to (n_samples,), for example using ravel().\n",
            "  estimator.fit(X_train, y_train, **fit_params)\n",
            "C:\\Users\\vesna\\miniconda3\\lib\\site-packages\\sklearn\\model_selection\\_validation.py:686: DataConversionWarning: A column-vector y was passed when a 1d array was expected. Please change the shape of y to (n_samples,), for example using ravel().\n",
            "  estimator.fit(X_train, y_train, **fit_params)\n",
            "C:\\Users\\vesna\\miniconda3\\lib\\site-packages\\sklearn\\model_selection\\_validation.py:686: DataConversionWarning: A column-vector y was passed when a 1d array was expected. Please change the shape of y to (n_samples,), for example using ravel().\n",
            "  estimator.fit(X_train, y_train, **fit_params)\n",
            "C:\\Users\\vesna\\miniconda3\\lib\\site-packages\\sklearn\\model_selection\\_validation.py:686: DataConversionWarning: A column-vector y was passed when a 1d array was expected. Please change the shape of y to (n_samples,), for example using ravel().\n",
            "  estimator.fit(X_train, y_train, **fit_params)\n",
            "C:\\Users\\vesna\\miniconda3\\lib\\site-packages\\sklearn\\model_selection\\_validation.py:686: DataConversionWarning: A column-vector y was passed when a 1d array was expected. Please change the shape of y to (n_samples,), for example using ravel().\n",
            "  estimator.fit(X_train, y_train, **fit_params)\n",
            "C:\\Users\\vesna\\miniconda3\\lib\\site-packages\\sklearn\\model_selection\\_validation.py:686: DataConversionWarning: A column-vector y was passed when a 1d array was expected. Please change the shape of y to (n_samples,), for example using ravel().\n",
            "  estimator.fit(X_train, y_train, **fit_params)\n",
            "C:\\Users\\vesna\\miniconda3\\lib\\site-packages\\sklearn\\model_selection\\_validation.py:686: DataConversionWarning: A column-vector y was passed when a 1d array was expected. Please change the shape of y to (n_samples,), for example using ravel().\n",
            "  estimator.fit(X_train, y_train, **fit_params)\n",
            "C:\\Users\\vesna\\miniconda3\\lib\\site-packages\\sklearn\\model_selection\\_validation.py:686: DataConversionWarning: A column-vector y was passed when a 1d array was expected. Please change the shape of y to (n_samples,), for example using ravel().\n",
            "  estimator.fit(X_train, y_train, **fit_params)\n",
            "C:\\Users\\vesna\\miniconda3\\lib\\site-packages\\sklearn\\model_selection\\_validation.py:686: DataConversionWarning: A column-vector y was passed when a 1d array was expected. Please change the shape of y to (n_samples,), for example using ravel().\n",
            "  estimator.fit(X_train, y_train, **fit_params)\n",
            "C:\\Users\\vesna\\miniconda3\\lib\\site-packages\\sklearn\\model_selection\\_validation.py:686: DataConversionWarning: A column-vector y was passed when a 1d array was expected. Please change the shape of y to (n_samples,), for example using ravel().\n",
            "  estimator.fit(X_train, y_train, **fit_params)\n",
            "C:\\Users\\vesna\\miniconda3\\lib\\site-packages\\sklearn\\model_selection\\_validation.py:686: DataConversionWarning: A column-vector y was passed when a 1d array was expected. Please change the shape of y to (n_samples,), for example using ravel().\n",
            "  estimator.fit(X_train, y_train, **fit_params)\n",
            "C:\\Users\\vesna\\miniconda3\\lib\\site-packages\\sklearn\\model_selection\\_validation.py:686: DataConversionWarning: A column-vector y was passed when a 1d array was expected. Please change the shape of y to (n_samples,), for example using ravel().\n",
            "  estimator.fit(X_train, y_train, **fit_params)\n",
            "C:\\Users\\vesna\\miniconda3\\lib\\site-packages\\sklearn\\model_selection\\_validation.py:686: DataConversionWarning: A column-vector y was passed when a 1d array was expected. Please change the shape of y to (n_samples,), for example using ravel().\n",
            "  estimator.fit(X_train, y_train, **fit_params)\n",
            "C:\\Users\\vesna\\miniconda3\\lib\\site-packages\\sklearn\\model_selection\\_validation.py:686: DataConversionWarning: A column-vector y was passed when a 1d array was expected. Please change the shape of y to (n_samples,), for example using ravel().\n",
            "  estimator.fit(X_train, y_train, **fit_params)\n",
            "C:\\Users\\vesna\\miniconda3\\lib\\site-packages\\sklearn\\model_selection\\_validation.py:686: DataConversionWarning: A column-vector y was passed when a 1d array was expected. Please change the shape of y to (n_samples,), for example using ravel().\n",
            "  estimator.fit(X_train, y_train, **fit_params)\n",
            "C:\\Users\\vesna\\miniconda3\\lib\\site-packages\\sklearn\\model_selection\\_validation.py:686: DataConversionWarning: A column-vector y was passed when a 1d array was expected. Please change the shape of y to (n_samples,), for example using ravel().\n",
            "  estimator.fit(X_train, y_train, **fit_params)\n",
            "C:\\Users\\vesna\\miniconda3\\lib\\site-packages\\sklearn\\model_selection\\_validation.py:686: DataConversionWarning: A column-vector y was passed when a 1d array was expected. Please change the shape of y to (n_samples,), for example using ravel().\n",
            "  estimator.fit(X_train, y_train, **fit_params)\n",
            "C:\\Users\\vesna\\miniconda3\\lib\\site-packages\\sklearn\\model_selection\\_validation.py:686: DataConversionWarning: A column-vector y was passed when a 1d array was expected. Please change the shape of y to (n_samples,), for example using ravel().\n",
            "  estimator.fit(X_train, y_train, **fit_params)\n",
            "C:\\Users\\vesna\\miniconda3\\lib\\site-packages\\sklearn\\model_selection\\_validation.py:686: DataConversionWarning: A column-vector y was passed when a 1d array was expected. Please change the shape of y to (n_samples,), for example using ravel().\n",
            "  estimator.fit(X_train, y_train, **fit_params)\n"
          ]
        }
      ],
      "source": [
        "name = \"Random Forest-GridSearchCV_\"+name\n",
        "\n",
        "# Inicializar el clasificador de Random Forest\n",
        "rf_classifier = RandomForestClassifier(random_state=42)\n",
        "\n",
        "# Definir la cuadrícula de hiperparámetros a buscar\n",
        "param_grid = {\n",
        "    'n_estimators': [100, 200, 300],  # Número de árboles en el bosque\n",
        "    'max_depth': [None, 10, 20],  # Profundidad máxima de los árboles\n",
        "    'min_samples_split': [2, 5, 10],  # Número mínimo de muestras requeridas para dividir un nodo\n",
        "    'min_samples_leaf': [1, 2, 4]  # Número mínimo de muestras requeridas en cada hoja del árbol\n",
        "}\n",
        "\n",
        "# Inicializar la búsqueda de hiperparámetros utilizando validación cruzada de 5 pliegues\n",
        "grid_search = GridSearchCV(estimator=rf_classifier, param_grid=param_grid, cv=5, scoring='accuracy')\n",
        "# Entrenar el modelo utilizando la búsqueda de hiperparámetros\n",
        "grid_search.fit(X_train, y_train)\n",
        "\n",
        "\n",
        "# Inicia una nueva ejecución en MLflow\n",
        "with mlflow.start_run(run_name=name) as run:\n",
        "    # Mejores hiperparámetros\n",
        "    best_params = grid_search.best_params_\n",
        "    print(\"Mejores hiperparámetros:\", best_params)\n",
        "    mlflow.log_params(best_params)\n",
        "\n",
        "    # Obtener el mejor modelo encontrado por la búsqueda de hiperparámetros\n",
        "    best_rf_classifier = grid_search.best_estimator_\n",
        "\n",
        "    # Predecir en el conjunto de prueba con el mejor modelo\n",
        "    y_pred_best_model = best_rf_classifier.predict(X_test)\n",
        "\n",
        "    # Evaluar el modelo\n",
        "    accuracy_best_model = accuracy_score(y_test, y_pred_best_model)\n",
        "\n",
        "    # Matriz de confusión\n",
        "    conf_matrix_best_model = confusion_matrix(y_test, y_pred_best_model)\n",
        "\n",
        "    # Reporte de clasificación\n",
        "    classification_rep_best_model = classification_report(y_test, y_pred_best_model)\n",
        "\n",
        "    # Guardar la matriz de confusión como una imagen\n",
        "    plt.figure(figsize=(8, 6))\n",
        "    sns.heatmap(conf_matrix_best_model, annot=True, fmt=\"d\", cmap=\"Blues\", xticklabels=np.unique(y_test), yticklabels=np.unique(y_test))\n",
        "    plt.xlabel(\"Predicted\")\n",
        "    plt.ylabel(\"Actual\")\n",
        "    plt.title(\"Confusion Matrix\")\n",
        "    plt.savefig(\"confusion_matrix_\"+name+\".png\")\n",
        "    mlflow.log_artifact(\"confusion_matrix_\"+name+\".png\")\n",
        "\n",
        "    # Generar y registrar la curva de aprendizaje\n",
        "    train_sizes, train_scores, test_scores = learning_curve(best_rf_classifier, X_train, y_train, cv=5, n_jobs=-1, train_sizes=np.linspace(0.1, 1.0, 10))\n",
        "    train_scores_mean = np.mean(train_scores, axis=1)\n",
        "    test_scores_mean = np.mean(test_scores, axis=1)\n",
        "\n",
        "    plt.figure()\n",
        "    plt.plot(train_sizes, train_scores_mean, label=\"Training score\")\n",
        "    plt.plot(train_sizes, test_scores_mean, label=\"Test score\")\n",
        "    plt.xlabel(\"Training Examples\")\n",
        "    plt.ylabel(\"Score\")\n",
        "    plt.title(\"Learning Curve\")\n",
        "    plt.legend(loc=\"best\")\n",
        "    plt.grid()\n",
        "    plt.savefig(\"learning_curve-\"+name+\".png\")\n",
        "    mlflow.log_artifact(\"learning_curve-\"+name+\".png\")\n",
        "\n",
        "    # Registra las métricas en MLflow\n",
        "    mlflow.log_metric(\"accuracy\", accuracy_best_model)\n",
        "    mlflow.log_metric(\"precision\", classification_rep_best_model['weighted avg']['precision'])\n",
        "    mlflow.log_metric(\"recall\", classification_rep_best_model['weighted avg']['recall'])\n",
        "    mlflow.log_metric(\"f1-score\", classification_rep_best_model['weighted avg']['f1-score'])\n",
        "\n",
        "    # Guardar el modelo en MLflow\n",
        "    mlflow.sklearn.log_model(best_rf_classifier, \"random_forest_model\")\n",
        "\n",
        "# Finalizar la ejecución\n",
        "mlflow.end_run()"
      ]
    },
    {
      "cell_type": "markdown",
      "metadata": {
        "tags": [],
        "id": "NxvX9t5_bgZW"
      },
      "source": [
        "## Gradient Boosting"
      ]
    },
    {
      "cell_type": "markdown",
      "metadata": {
        "id": "RIJ-n2rebgZX"
      },
      "source": [
        "### Version Sencilla"
      ]
    },
    {
      "cell_type": "code",
      "source": [
        "# Nombre del experimento\n",
        "name = \"GradientBoostingClassifier_Simple_\" + fecha\n",
        "\n",
        "# Inicializar el modelo de Gradient Boosting\n",
        "gradient_boosting = GradientBoostingClassifier()\n",
        "\n",
        "# Iniciar un nuevo experimento en MLflow\n",
        "with mlflow.start_run(run_name=name) as run:\n",
        "    # Entrenar el modelo en los datos de entrenamiento\n",
        "    gradient_boosting.fit(X_train, y_train)\n",
        "\n",
        "    # Realizar predicciones en el conjunto de prueba\n",
        "    y_pred = gradient_boosting.predict(X_test)\n",
        "    y_prob = gradient_boosting.predict_proba(X_test)[:, 1]\n",
        "\n",
        "    # Evalúa el rendimiento del modelo\n",
        "    accuracy = accuracy_score(y_test, y_pred)\n",
        "    conf_matrix = confusion_matrix(y_test, y_pred)\n",
        "    classification_rep = classification_report(y_test, y_pred, output_dict=True)\n",
        "    precision = precision_score(y_test, y_pred)\n",
        "    recall = recall_score(y_test, y_pred)\n",
        "    f1 = f1_score(y_test, y_pred)\n",
        "    log_loss_value = log_loss(y_test, y_prob)\n",
        "\n",
        "    # Registrar las métricas en MLflow\n",
        "    mlflow.log_metric(\"accuracy\", accuracy)\n",
        "    mlflow.log_metric(\"precision\", precision)\n",
        "    mlflow.log_metric(\"recall\", recall)\n",
        "    mlflow.log_metric(\"f1_score\", f1)\n",
        "    mlflow.log_metric(\"log_loss\", log_loss_value)\n",
        "\n",
        "    # Registra los hiperparámetros en MLflow\n",
        "    mlflow.log_param(\"n_estimators\", gradient_boosting.n_estimators)\n",
        "    mlflow.log_param(\"learning_rate\", gradient_boosting.learning_rate)\n",
        "    mlflow.log_param(\"max_depth\", gradient_boosting.max_depth)\n",
        "    mlflow.log_param(\"min_samples_split\", gradient_boosting.min_samples_split)\n",
        "    mlflow.log_param(\"min_samples_leaf\", gradient_boosting.min_samples_leaf)\n",
        "    mlflow.log_param(\"subsample\", gradient_boosting.subsample)\n",
        "    mlflow.log_param(\"max_features\", gradient_boosting.max_features)\n",
        "\n",
        "    # Guarda la matriz de confusión como un artefacto\n",
        "    plt.figure(figsize=(10, 7))\n",
        "    sns.heatmap(conf_matrix, annot=True, fmt=\"d\", cmap=\"Blues\", xticklabels=np.unique(y_test), yticklabels=np.unique(y_test))\n",
        "    plt.xlabel(\"Predicted\")\n",
        "    plt.ylabel(\"Actual\")\n",
        "    plt.title(\"Confusion Matrix\")\n",
        "    plt.savefig(\"confusion_matrix-\"+name+\".png\")\n",
        "    mlflow.log_artifact(\"confusion_matrix-\"+name+\".png\")\n",
        "\n",
        "    # Registrar el informe de clasificación como artefacto\n",
        "    with open(\"classification_report-\"+name+\".json\", \"w\") as f:\n",
        "        json.dump(classification_rep, f)\n",
        "    mlflow.log_artifact(\"classification_report-\"+name+\".json\")\n",
        "\n",
        "    # Registrar el modelo en MLflow\n",
        "    mlflow.sklearn.log_model(gradient_boosting, \"model-\"+name)\n",
        "\n",
        "    # Generar y registrar la curva de aprendizaje utilizando recall\n",
        "    recall_scorer = make_scorer(recall_score, greater_is_better=True)\n",
        "    train_sizes, train_scores, test_scores = learning_curve(gradient_boosting, X_train, y_train, cv=5, scoring=recall_scorer, n_jobs=-1, train_sizes=np.linspace(0.1, 1.0, 10))\n",
        "    train_scores_mean = np.mean(train_scores, axis=1)\n",
        "    test_scores_mean = np.mean(test_scores, axis=1)\n",
        "\n",
        "    plt.figure()\n",
        "    plt.plot(train_sizes, train_scores_mean, label=\"Training score\")\n",
        "    plt.plot(train_sizes, test_scores_mean, label=\"Cross-validation score\")\n",
        "    plt.xlabel(\"Training Examples\")\n",
        "    plt.ylabel(\"Recall\")\n",
        "    plt.title(\"Learning Curve (Recall)\")\n",
        "    plt.legend(loc=\"best\")\n",
        "    plt.grid()\n",
        "    plt.savefig(\"learning_curve_recall-\" + name + \".png\")\n",
        "    mlflow.log_artifact(\"learning_curve_recall-\" + name + \".png\")\n",
        "\n",
        "    # Generar y registrar la curva de aprendizaje utilizando precision\n",
        "    precision_scorer = make_scorer(precision_score, greater_is_better=True)\n",
        "    train_sizes, train_scores, test_scores = learning_curve(gradient_boosting, X_train, y_train, cv=5, scoring=precision_scorer, n_jobs=-1, train_sizes=np.linspace(0.1, 1.0, 10))\n",
        "    train_scores_mean = np.mean(train_scores, axis=1)\n",
        "    test_scores_mean = np.mean(test_scores, axis=1)\n",
        "\n",
        "    plt.figure()\n",
        "    plt.plot(train_sizes, train_scores_mean, label=\"Training score\")\n",
        "    plt.plot(train_sizes, test_scores_mean, label=\"Cross-validation score\")\n",
        "    plt.xlabel(\"Training Examples\")\n",
        "    plt.ylabel(\"Precision\")\n",
        "    plt.title(\"Learning Curve (Precision)\")\n",
        "    plt.legend(loc=\"best\")\n",
        "    plt.grid()\n",
        "    plt.savefig(\"learning_curve_precision-\" + name + \".png\")\n",
        "    mlflow.log_artifact(\"learning_curve_precision-\" + name + \".png\")\n",
        "\n",
        "# Finalizar la ejecución\n",
        "mlflow.end_run()"
      ],
      "metadata": {
        "id": "IMSW-WDaxSXg",
        "colab": {
          "base_uri": "https://localhost:8080/",
          "height": 1000
        },
        "outputId": "fdc31cf2-f3e4-42ad-e896-33b118332ee7"
      },
      "execution_count": 10,
      "outputs": [
        {
          "output_type": "stream",
          "name": "stderr",
          "text": [
            "/usr/local/lib/python3.10/dist-packages/sklearn/ensemble/_gb.py:437: DataConversionWarning: A column-vector y was passed when a 1d array was expected. Please change the shape of y to (n_samples, ), for example using ravel().\n",
            "  y = column_or_1d(y, warn=True)\n",
            "/usr/local/lib/python3.10/dist-packages/_distutils_hack/__init__.py:33: UserWarning: Setuptools is replacing distutils.\n",
            "  warnings.warn(\"Setuptools is replacing distutils.\")\n",
            "WARNING:urllib3.connectionpool:Retrying (Retry(total=4, connect=5, read=4, redirect=5, status=5)) after connection broken by 'RemoteDisconnected('Remote end closed connection without response')': /VesnaPivac/ML_COVID19-Mexico.mlflow/api/2.0/mlflow-artifacts/artifacts/38d4a46051d044798a30e4c7a9d43541/f6a57684a2d24695a6489fd7d22c2e27/artifacts/learning_curve_recall-GradientBoostingClassifier_Simple_2024-06-03.png\n"
          ]
        },
        {
          "output_type": "display_data",
          "data": {
            "text/plain": [
              "<Figure size 1000x700 with 2 Axes>"
            ],
            "image/png": "[encoded data removed]"
          },
          "metadata": {}
        },
        {
          "output_type": "display_data",
          "data": {
            "text/plain": [
              "<Figure size 640x480 with 1 Axes>"
            ],
            "image/png": "[encoded data removed]"
          },
          "metadata": {}
        },
        {
          "output_type": "display_data",
          "data": {
            "text/plain": [
              "<Figure size 640x480 with 1 Axes>"
            ],
            "image/png": "[encoded data removed]"
          },
          "metadata": {}
        }
      ]
    },
    {
      "cell_type": "markdown",
      "metadata": {
        "id": "2UAdY_XsbgZb"
      },
      "source": [
        "### Ajuste de hiperparametros"
      ]
    },
    {
      "cell_type": "code",
      "execution_count": null,
      "metadata": {
        "tags": [],
        "id": "5TqURpgvbgZb"
      },
      "outputs": [],
      "source": [
        "name = \"GradientBoosting-GridSearchCV_\"+fecha\n",
        "\n",
        "# Definir la cuadrícula de hiperparámetros a ajustar\n",
        "param_grid = {\n",
        "    'learning_rate': [0.05, 0.1, 0.2],\n",
        "    'n_estimators': [50, 100, 200],\n",
        "    'max_depth': [3, 5, 7],\n",
        "    'min_samples_split': [2, 5, 10],\n",
        "    'min_samples_leaf': [1, 2, 4]\n",
        "}\n",
        "\n",
        "# Inicializar el modelo de Gradient Boosting\n",
        "gradient_boosting = GradientBoostingClassifier()\n",
        "\n",
        "# Inicializar GridSearchCV\n",
        "grid_search = GridSearchCV(gradient_boosting, param_grid, cv=5, scoring='accuracy')\n",
        "\n",
        "# Iniciar un nuevo experimento en MLflow\n",
        "with mlflow.start_run(run_name=name):\n",
        "    # Ajustar GridSearchCV en los datos de entrenamiento\n",
        "    grid_search.fit(X_train, y_train)\n",
        "\n",
        "    # Obtener los mejores hiperparámetros\n",
        "    best_params = grid_search.best_params_\n",
        "    mlflow.log_params(best_params)\n",
        "    print(\"Mejores hiperparámetros:\", best_params)\n",
        "\n",
        "    # Obtener el mejor modelo encontrado por la búsqueda de hiperparámetros\n",
        "    best_gb_classifier = grid_search.best_estimator_\n",
        "\n",
        "    # Predecir en el conjunto de prueba con el mejor modelo\n",
        "    y_pred_best_model = best_gb_classifier.predict(X_test)\n",
        "    y_prob_best_model = best_gb_classifier.predict_proba(X_test)[:, 1]\n",
        "\n",
        "    # Calcula las metricas\n",
        "    accuracy_best_model = accuracy_score(y_test, y_pred_best_model)\n",
        "    precision_best_model = precision_score(y_test, y_pred_best_model)\n",
        "    recall_best_model = recall_score(y_test, y_pred_best_model)\n",
        "    f1_best_model = f1_score(y_test, y_pred_best_model)\n",
        "    log_loss_best_model = log_loss(y_test, y_prob_best_model)\n",
        "\n",
        "    # Registra las métricas en MLflow\n",
        "    mlflow.log_metric(\"accuracy\", accuracy_best_model)\n",
        "    mlflow.log_metric(\"precision\", precision_best_model)\n",
        "    mlflow.log_metric(\"recall\", recall_best_model)\n",
        "    mlflow.log_metric(\"f1_score\", f1_best_model)\n",
        "    mlflow.log_metric(\"log_loss\", log_loss_best_model)\n",
        "\n",
        "    # Matriz de confusión\n",
        "    conf_matrix_best_model = confusion_matrix(y_test, y_pred_best_model)\n",
        "    # Guarda la matriz de confusión como un artefacto\n",
        "    plt.figure(figsize=(10, 7))\n",
        "    sns.heatmap(conf_matrix_best_model, annot=True, fmt=\"d\", cmap=\"Blues\", xticklabels=np.unique(y_test), yticklabels=np.unique(y_test))\n",
        "    plt.xlabel(\"Predicted\")\n",
        "    plt.ylabel(\"Actual\")\n",
        "    plt.title(\"Confusion Matrix\")\n",
        "    plt.savefig(\"confusion_matrix-\"+name+\".png\")\n",
        "    mlflow.log_artifact(\"confusion_matrix-\"+name+\".png\")\n",
        "\n",
        "    # Reporte de clasificación\n",
        "    classification_rep_best_model = classification_report(y_test, y_pred_best_model, output_dict=True)\n",
        "    with open(\"classification_report-\"+name+\".json\", \"w\") as f:\n",
        "        json.dump(classification_rep_best_model, f)\n",
        "    mlflow.log_artifact(\"classification_report-\"+name+\".json\")\n",
        "\n",
        "    # Generar y registrar la curva de aprendizaje\n",
        "    train_sizes, train_scores, test_scores = learning_curve(best_gb_classifier, X_train, y_train, cv=5, n_jobs=-1, train_sizes=np.linspace(0.1, 1.0, 10))\n",
        "    train_scores_mean = np.mean(train_scores, axis=1)\n",
        "    test_scores_mean = np.mean(test_scores, axis=1)\n",
        "\n",
        "    plt.figure()\n",
        "    plt.plot(train_sizes, train_scores_mean, label=\"Training score\")\n",
        "    plt.plot(train_sizes, test_scores_mean, label=\"Test score\")\n",
        "    plt.xlabel(\"Training Examples\")\n",
        "    plt.ylabel(\"Score\")\n",
        "    plt.title(\"Learning Curve\")\n",
        "    plt.legend(loc=\"best\")\n",
        "    plt.grid()\n",
        "    plt.savefig(\"learning_curve-\"+name+\".png\")\n",
        "    mlflow.log_artifact(\"learning_curve-\"+name+\".png\")\n",
        "\n",
        "# Finalizar la ejecución\n",
        "mlflow.end_run()"
      ]
    },
    {
      "cell_type": "code",
      "execution_count": null,
      "metadata": {
        "id": "ZXQcFlYubgZb"
      },
      "outputs": [],
      "source": []
    }
  ],
  "metadata": {
    "kernelspec": {
      "display_name": "Python 3",
      "name": "python3"
    },
    "language_info": {
      "codemirror_mode": {
        "name": "ipython",
        "version": 3
      },
      "file_extension": ".py",
      "mimetype": "text/x-python",
      "name": "python",
      "nbconvert_exporter": "python",
      "pygments_lexer": "ipython3",
      "version": "3.10.9"
    },
    "colab": {
      "provenance": [],
      "toc_visible": true,
      "machine_shape": "hm",
      "gpuType": "L4"
    },
    "accelerator": "GPU",
    "widgets": {
      "application/vnd.jupyter.widget-state+json": {
        "6fff01be1c3641d9babc2a478d54d871": {
          "model_module": "@jupyter-widgets/output",
          "model_name": "OutputModel",
          "model_module_version": "1.0.0",
          "state": {
            "_dom_classes": [],
            "_model_module": "@jupyter-widgets/output",
            "_model_module_version": "1.0.0",
            "_model_name": "OutputModel",
            "_view_count": null,
            "_view_module": "@jupyter-widgets/output",
            "_view_module_version": "1.0.0",
            "_view_name": "OutputView",
            "layout": "IPY_MODEL_9a24af4d6adc415fa2760a157f0510bb",
            "msg_id": "",
            "outputs": [
              {
                "output_type": "display_data",
                "data": {
                  "text/plain": "\u001b[32m⠸\u001b[0m Waiting for authorization\n",
                  "text/html": "<pre style=\"white-space:pre;overflow-x:auto;line-height:normal;font-family:Menlo,'DejaVu Sans Mono',consolas,'Courier New',monospace\"><span style=\"color: #008000; text-decoration-color: #008000\">⠸</span> Waiting for authorization\n</pre>\n"
                },
                "metadata": {}
              }
            ]
          }
        },
        "9a24af4d6adc415fa2760a157f0510bb": {
          "model_module": "@jupyter-widgets/base",
          "model_name": "LayoutModel",
          "model_module_version": "1.2.0",
          "state": {
            "_model_module": "@jupyter-widgets/base",
            "_model_module_version": "1.2.0",
            "_model_name": "LayoutModel",
            "_view_count": null,
            "_view_module": "@jupyter-widgets/base",
            "_view_module_version": "1.2.0",
            "_view_name": "LayoutView",
            "align_content": null,
            "align_items": null,
            "align_self": null,
            "border": null,
            "bottom": null,
            "display": null,
            "flex": null,
            "flex_flow": null,
            "grid_area": null,
            "grid_auto_columns": null,
            "grid_auto_flow": null,
            "grid_auto_rows": null,
            "grid_column": null,
            "grid_gap": null,
            "grid_row": null,
            "grid_template_areas": null,
            "grid_template_columns": null,
            "grid_template_rows": null,
            "height": null,
            "justify_content": null,
            "justify_items": null,
            "left": null,
            "margin": null,
            "max_height": null,
            "max_width": null,
            "min_height": null,
            "min_width": null,
            "object_fit": null,
            "object_position": null,
            "order": null,
            "overflow": null,
            "overflow_x": null,
            "overflow_y": null,
            "padding": null,
            "right": null,
            "top": null,
            "visibility": null,
            "width": null
          }
        }
      }
    }
  },
  "nbformat": 4,
  "nbformat_minor": 0
}