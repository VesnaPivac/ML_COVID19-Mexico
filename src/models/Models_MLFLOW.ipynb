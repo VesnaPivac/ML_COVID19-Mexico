{
 "cells": [
  {
   "cell_type": "code",
   "execution_count": 21,
   "metadata": {},
   "outputs": [],
   "source": [
    "# Importar librería para cargar datos procesados\n",
    "import pandas as pd\n",
    "import matplotlib.pyplot as plt\n",
    "import seaborn as sns\n",
    "import numpy as np\n",
    "\n",
    "# Importar modelos de Machine Learning\n",
    "from sklearn.linear_model import LogisticRegression\n",
    "from sklearn.tree import DecisionTreeClassifier\n",
    "from sklearn.ensemble import RandomForestClassifier, GradientBoostingClassifier\n",
    "from sklearn.svm import SVC\n",
    "\n",
    "# Importar funciones para el entrenamiento y validación de los modelos\n",
    "from sklearn.model_selection import train_test_split, cross_val_score, GridSearchCV\n",
    "from sklearn.metrics import classification_report, confusion_matrix, accuracy_score, precision_score, recall_score, f1_score\n",
    "\n",
    "#Importa MLFLOW\n",
    "import mlflow\n",
    "import mlflow.sklearn\n",
    "from mlflow.models import infer_signature\n"
   ]
  },
  {
   "cell_type": "markdown",
   "metadata": {},
   "source": [
    "## Carga de datos"
   ]
  },
  {
   "cell_type": "code",
   "execution_count": 17,
   "metadata": {},
   "outputs": [],
   "source": [
    "# Datos de entrenamiento\n",
    "X_train = pd.read_parquet('../../data/processed/X_train.parquet')\n",
    "y_train = pd.read_parquet('../../data/processed/y_train.parquet')\n",
    "\n",
    "# Datos de prueba\n",
    "X_test = pd.read_parquet('../../data/processed/X_test.parquet')\n",
    "y_test= pd.read_parquet('../../data/processed/y_test.parquet')"
   ]
  },
  {
   "cell_type": "code",
   "execution_count": 20,
   "metadata": {},
   "outputs": [
    {
     "name": "stdout",
     "output_type": "stream",
     "text": [
      "X_train: (940754, 44)\n",
      "y_train: (940754, 1)\n",
      "X_test:  (235189, 44)\n",
      "y_test:  (235189, 1)\n"
     ]
    }
   ],
   "source": [
    "print('X_train:',X_train.shape)\n",
    "print('y_train:',y_train.shape)\n",
    "print('X_test: ',X_test.shape)\n",
    "print('y_test: ',y_test.shape)"
   ]
  },
  {
   "cell_type": "markdown",
   "metadata": {},
   "source": [
    "## MLFLOW"
   ]
  },
  {
   "cell_type": "code",
   "execution_count": 6,
   "metadata": {},
   "outputs": [],
   "source": [
    "track_uri = \"http://localhost:8080/\" # Esto puede ser que cambie por http://0.0.0.0:1234\n",
    "mlflow.set_tracking_uri(track_uri)\n",
    "mlflow.set_registry_uri(\"sqlite:////tmp/registry.db\")"
   ]
  },
  {
   "cell_type": "code",
   "execution_count": 7,
   "metadata": {},
   "outputs": [
    {
     "name": "stderr",
     "output_type": "stream",
     "text": [
      "2024/05/22 23:15:27 INFO mlflow.tracking.fluent: Experiment with name 'ML_COVID19-MEXICO' does not exist. Creating a new experiment.\n"
     ]
    },
    {
     "name": "stdout",
     "output_type": "stream",
     "text": [
      "MLflow Version: 2.13.0\n",
      "Tracking URI: http://localhost:8080/\n",
      "Nombre del experimento: ML_COVID19-MEXICO\n",
      "ID del experimento: 707578369122819239\n"
     ]
    }
   ],
   "source": [
    "# Generando el experimento o cargandolo si existe\n",
    "experiment_name = \"ML_COVID19-MEXICO\"\n",
    "mlflow.set_experiment(experiment_name)\n",
    "\n",
    "# Cargando la información\n",
    "client = mlflow.tracking.MlflowClient()\n",
    "experiment_id = client.get_experiment_by_name(experiment_name).experiment_id\n",
    "\n",
    "# Validacion\n",
    "print(f\"MLflow Version: {mlflow.__version__}\")\n",
    "print(f\"Tracking URI: {mlflow.tracking.get_tracking_uri()}\")\n",
    "print(f\"Nombre del experimento: {experiment_name}\")\n",
    "print(f\"ID del experimento: {experiment_id}\")"
   ]
  },
  {
   "cell_type": "markdown",
   "metadata": {},
   "source": [
    "## Regresion Logistica"
   ]
  },
  {
   "cell_type": "code",
   "execution_count": 23,
   "metadata": {},
   "outputs": [
    {
     "name": "stderr",
     "output_type": "stream",
     "text": [
      "c:\\Users\\vesna\\miniconda3\\envs\\covid\\Lib\\site-packages\\sklearn\\utils\\validation.py:1310: DataConversionWarning: A column-vector y was passed when a 1d array was expected. Please change the shape of y to (n_samples, ), for example using ravel().\n",
      "  y = column_or_1d(y, warn=True)\n",
      "c:\\Users\\vesna\\miniconda3\\envs\\covid\\Lib\\site-packages\\sklearn\\linear_model\\_logistic.py:469: ConvergenceWarning: lbfgs failed to converge (status=1):\n",
      "STOP: TOTAL NO. of ITERATIONS REACHED LIMIT.\n",
      "\n",
      "Increase the number of iterations (max_iter) or scale the data as shown in:\n",
      "    https://scikit-learn.org/stable/modules/preprocessing.html\n",
      "Please also refer to the documentation for alternative solver options:\n",
      "    https://scikit-learn.org/stable/modules/linear_model.html#logistic-regression\n",
      "  n_iter_i = _check_optimize_result(\n"
     ]
    },
    {
     "name": "stdout",
     "output_type": "stream",
     "text": [
      "Accuracy: 0.9903822032493016\n",
      "Confusion Matrix:\n",
      " [[    25   2235]\n",
      " [    27 232902]]\n",
      "Classification Report:\n",
      "               precision    recall  f1-score   support\n",
      "\n",
      "           1       0.48      0.01      0.02      2260\n",
      "           2       0.99      1.00      1.00    232929\n",
      "\n",
      "    accuracy                           0.99    235189\n",
      "   macro avg       0.74      0.51      0.51    235189\n",
      "weighted avg       0.99      0.99      0.99    235189\n",
      "\n"
     ]
    },
    {
     "data": {
      "image/png": "[encoded data removed]",
      "text/plain": [
       "<Figure size 1000x700 with 2 Axes>"
      ]
     },
     "metadata": {},
     "output_type": "display_data"
    }
   ],
   "source": [
    "# # Define el experimento en MLflow\n",
    "# mlflow.set_experiment(\"Logistic Regression Experiment\")\n",
    "\n",
    "# Inicia una nueva ejecución en MLflow\n",
    "with mlflow.start_run(run_name=\"Logistic Regression_20240523_1000ep\"):\n",
    "    # Inicializa el modelo de Regresión Logística con los hiperparámetros\n",
    "    log_regression = LogisticRegression(max_iter=1000)\n",
    "\n",
    "    # Entrena el modelo en los datos de entrenamiento\n",
    "    log_regression.fit(X_train, y_train)\n",
    "\n",
    "    # Realiza predicciones en el conjunto de prueba\n",
    "    y_pred = log_regression.predict(X_test)\n",
    "\n",
    "    # Evalúa el rendimiento del modelo\n",
    "    accuracy = accuracy_score(y_test, y_pred)\n",
    "    conf_matrix = confusion_matrix(y_test, y_pred)\n",
    "    classification_rep = classification_report(y_test, y_pred)\n",
    "\n",
    "    # Imprime las métricas de evaluación\n",
    "    print(\"Accuracy:\", accuracy)\n",
    "    print(\"Confusion Matrix:\\n\", conf_matrix)\n",
    "    print(\"Classification Report:\\n\", classification_rep)\n",
    "\n",
    "    # Registra los hiperparámetros en MLflow\n",
    "    mlflow.log_param(\"max_iter\", 1000)\n",
    "    mlflow.log_param(\"solver\", \"lbfgs\")\n",
    "    mlflow.log_param(\"multi_class\", \"auto\")\n",
    "    mlflow.log_param(\"random_state\", 8888)\n",
    "\n",
    "    # Registra las métricas en MLflow\n",
    "    mlflow.log_metric(\"accuracy\", accuracy)\n",
    "\n",
    "    # Guarda el modelo en MLflow\n",
    "    mlflow.sklearn.log_model(log_regression, \"logistic_regression_model\")\n",
    "\n",
    "    # Guarda la matriz de confusión como un artefacto\n",
    "\n",
    "    plt.figure(figsize=(10, 7))\n",
    "    sns.heatmap(conf_matrix, annot=True, fmt=\"d\", cmap=\"Blues\", xticklabels=np.unique(y_test), yticklabels=np.unique(y_test))\n",
    "    plt.xlabel(\"Predicted\")\n",
    "    plt.ylabel(\"Actual\")\n",
    "    plt.title(\"Confusion Matrix\")\n",
    "\n",
    "    # Guarda la figura\n",
    "    plt.savefig(\"confusion_matrix.png\")\n",
    "\n",
    "    # Registra la figura en MLflow\n",
    "    mlflow.log_artifact(\"confusion_matrix.png\")\n",
    "\n",
    "# Finaliza la ejecución\n",
    "mlflow.end_run()\n"
   ]
  },
  {
   "cell_type": "code",
   "execution_count": 24,
   "metadata": {},
   "outputs": [
    {
     "name": "stdout",
     "output_type": "stream",
     "text": [
      "Accuracy del árbol de decisión: 0.9904162184455906\n",
      "Matriz de confusión del árbol de decisión:\n",
      " [[   137   2123]\n",
      " [   131 232798]]\n",
      "Informe de clasificación del árbol de decisión:\n",
      "               precision    recall  f1-score   support\n",
      "\n",
      "           1       0.51      0.06      0.11      2260\n",
      "           2       0.99      1.00      1.00    232929\n",
      "\n",
      "    accuracy                           0.99    235189\n",
      "   macro avg       0.75      0.53      0.55    235189\n",
      "weighted avg       0.99      0.99      0.99    235189\n",
      "\n"
     ]
    },
    {
     "data": {
      "image/png": "[encoded data removed]",
      "text/plain": [
       "<Figure size 1000x700 with 2 Axes>"
      ]
     },
     "metadata": {},
     "output_type": "display_data"
    }
   ],
   "source": [
    "# Iniciar una nueva ejecución en MLflow con un nombre específico\n",
    "with mlflow.start_run(run_name=\"Decision Tree_20240523\"):\n",
    "    # Inicializar el modelo de Árbol de Decisión con los hiperparámetros\n",
    "    decision_tree = DecisionTreeClassifier(max_depth=10, min_samples_split=100, min_samples_leaf=1000)\n",
    "\n",
    "    # Entrenar el modelo en los datos de entrenamiento\n",
    "    decision_tree.fit(X_train, y_train)\n",
    "\n",
    "    # Realizar predicciones en el conjunto de prueba\n",
    "    y_pred = decision_tree.predict(X_test)\n",
    "\n",
    "    # Evaluar el rendimiento del modelo\n",
    "    accuracy = accuracy_score(y_test, y_pred)\n",
    "    conf_matrix = confusion_matrix(y_test, y_pred)\n",
    "    classification_rep = classification_report(y_test, y_pred)\n",
    "\n",
    "    # Imprimir las métricas de evaluación\n",
    "    print(\"Accuracy del árbol de decisión:\", accuracy)\n",
    "    print(\"Matriz de confusión del árbol de decisión:\\n\", conf_matrix)\n",
    "    print(\"Informe de clasificación del árbol de decisión:\\n\", classification_rep)\n",
    "\n",
    "    # Registrar los parámetros en MLflow\n",
    "    mlflow.log_param(\"max_depth\", 10)\n",
    "    mlflow.log_param(\"min_samples_split\", 100)\n",
    "    mlflow.log_param(\"min_samples_leaf\", 1000)\n",
    "\n",
    "    # Registrar las métricas en MLflow\n",
    "    mlflow.log_metric(\"accuracy\", accuracy)\n",
    "\n",
    "    # Guardar el modelo en MLflow\n",
    "    mlflow.sklearn.log_model(decision_tree, \"decision_tree_model\")\n",
    "\n",
    "    # Opcional: Guardar la matriz de confusión como un artefacto\n",
    "    plt.figure(figsize=(10, 7))\n",
    "    sns.heatmap(conf_matrix, annot=True, fmt=\"d\", cmap=\"Blues\", xticklabels=np.unique(y_test), yticklabels=np.unique(y_test))\n",
    "    plt.xlabel(\"Predicted\")\n",
    "    plt.ylabel(\"Actual\")\n",
    "    plt.title(\"Confusion Matrix - Decision Tree\")\n",
    "\n",
    "    # Guardar la figura\n",
    "    plt.savefig(\"confusion_matrix_tree.png\")\n",
    "\n",
    "    # Registrar la figura en MLflow\n",
    "    mlflow.log_artifact(\"confusion_matrix_tree.png\")\n",
    "\n",
    "# Finalizar la ejecución\n",
    "mlflow.end_run()"
   ]
  },
  {
   "cell_type": "code",
   "execution_count": null,
   "metadata": {},
   "outputs": [],
   "source": []
  }
 ],
 "metadata": {
  "kernelspec": {
   "display_name": "covid",
   "language": "python",
   "name": "python3"
  },
  "language_info": {
   "codemirror_mode": {
    "name": "ipython",
    "version": 3
   },
   "file_extension": ".py",
   "mimetype": "text/x-python",
   "name": "python",
   "nbconvert_exporter": "python",
   "pygments_lexer": "ipython3",
   "version": "3.12.3"
  }
 },
 "nbformat": 4,
 "nbformat_minor": 2
}
